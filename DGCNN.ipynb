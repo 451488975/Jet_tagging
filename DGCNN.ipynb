{
 "cells": [
  {
   "cell_type": "code",
   "execution_count": 1,
   "metadata": {},
   "outputs": [],
   "source": [
    "import utils\n",
    "# import classes\n",
    "import h5py\n",
    "import pandas as pd\n",
    "from keras.layers import *\n",
    "from keras import Model\n",
    "from keras.models import Sequential\n",
    "from keras.layers.advanced_activations import PReLU\n",
    "from keras import regularizers\n",
    "import numpy as np\n",
    "import keras, time\n",
    "import keras.backend as K\n",
    "import tensorflow as tf\n",
    "import matplotlib.pyplot as plt\n",
    "import tqdm\n",
    "\n",
    "import sys\n",
    "sys.path.insert(0,'Data_Preprocessing')\n",
    "\n",
    "from general_transform import Transform"
   ]
  },
  {
   "cell_type": "code",
   "execution_count": 2,
   "metadata": {},
   "outputs": [],
   "source": [
    "filePath = 'data/v0/train.h5'\n"
   ]
  },
  {
   "cell_type": "code",
   "execution_count": 3,
   "metadata": {},
   "outputs": [
    {
     "name": "stderr",
     "output_type": "stream",
     "text": [
      "Data_Preprocessing/general_transform.py:108: RuntimeWarning: invalid value encountered in true_divide\n",
      "  eta = 0.5 * np.log((p + momenta[:, 3, :]) / (p - momenta[:, 3, :]))\n",
      "  0%|          | 0/100 [00:00<?, ?it/s]Data_Preprocessing/general_transform.py:54: RuntimeWarning: invalid value encountered in true_divide\n",
      "  eta = 0.5 * np.log((p + event[:, 3]) / (p - event[:, 3]))\n",
      "100%|██████████| 100/100 [00:00<00:00, 1208.90it/s]\n",
      "Data_Preprocessing/general_transform.py:128: RuntimeWarning: divide by zero encountered in log\n",
      "  newVec =np.stack([etaRot,phiRot,etaRel,phiRel,cosThetaRel,np.log(pT / jetPt), e, np.log(e / jetE), dR ],axis=-1)\n",
      "Data_Preprocessing/general_transform.py:128: RuntimeWarning: invalid value encountered in log\n",
      "  newVec =np.stack([etaRot,phiRot,etaRel,phiRel,cosThetaRel,np.log(pT / jetPt), e, np.log(e / jetE), dR ],axis=-1)\n"
     ]
    }
   ],
   "source": [
    "features, labels = Transform(filePath,100,40,model=\"CNN\")"
   ]
  },
  {
   "cell_type": "code",
   "execution_count": 4,
   "metadata": {},
   "outputs": [
    {
     "data": {
      "text/plain": [
       "(100, 40, 9)"
      ]
     },
     "execution_count": 4,
     "metadata": {},
     "output_type": "execute_result"
    }
   ],
   "source": [
    "features.shape"
   ]
  },
  {
   "cell_type": "code",
   "execution_count": 21,
   "metadata": {},
   "outputs": [
    {
     "data": {
      "text/plain": [
       "array([-0.1562591 ,  0.06301234,  0.06287158,  0.03306317,  0.99850082,\n",
       "       -5.62050152,  1.6078527 , -5.62928581,  0.88359386])"
      ]
     },
     "execution_count": 21,
     "metadata": {},
     "output_type": "execute_result"
    }
   ],
   "source": []
  },
  {
   "cell_type": "code",
   "execution_count": null,
   "metadata": {},
   "outputs": [],
   "source": []
  }
 ],
 "metadata": {
  "kernelspec": {
   "display_name": "Python [conda env:rob] *",
   "language": "python",
   "name": "conda-env-rob-py"
  },
  "language_info": {
   "codemirror_mode": {
    "name": "ipython",
    "version": 3
   },
   "file_extension": ".py",
   "mimetype": "text/x-python",
   "name": "python",
   "nbconvert_exporter": "python",
   "pygments_lexer": "ipython3",
   "version": "3.7.9"
  }
 },
 "nbformat": 4,
 "nbformat_minor": 4
}
