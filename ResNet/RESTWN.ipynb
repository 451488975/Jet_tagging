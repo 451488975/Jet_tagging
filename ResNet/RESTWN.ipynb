{
 "cells": [
  {
   "cell_type": "code",
   "execution_count": 1,
   "metadata": {},
   "outputs": [
    {
     "name": "stderr",
     "output_type": "stream",
     "text": [
      "Using TensorFlow backend.\n"
     ]
    }
   ],
   "source": [
    "import keras\n",
    "from keras.layers import Input, Dense, Flatten, Conv2D\n",
    "from keras.models import Model\n",
    "from keras.applications import ResNet50\n",
    "from keras.optimizers import Adam\n",
    "import tensorflow as tf\n",
    "import yaml\n",
    "import sys\n",
    "import numpy as np\n",
    "import matplotlib.pyplot as plt\n",
    "sys.path.insert(0,'../lib')\n",
    "from train import get_features"
   ]
  },
  {
   "cell_type": "code",
   "execution_count": 2,
   "metadata": {},
   "outputs": [
    {
     "name": "stdout",
     "output_type": "stream",
     "text": [
      "Loading configuration from train_config_resnet.yml\n"
     ]
    },
    {
     "data": {
      "text/plain": [
       "{'Inputs': ['j1_etarot', 'j1_phirot', 'j1_ptrel', 'j_index'],\n",
       " 'Labels': ['j_g', 'j_q', 'j_w', 'j_z', 'j_t', 'j_index'],\n",
       " 'KerasModel': 'conv2d_model',\n",
       " 'KerasModelRetrain': 'conv2d_model_constraint',\n",
       " 'KerasLoss': 'categorical_crossentropy',\n",
       " 'L1Reg': 0.0001,\n",
       " 'NormalizeInputs': 0,\n",
       " 'InputType': 'Conv2D',\n",
       " 'BinsX': 224,\n",
       " 'MinX': -0.8,\n",
       " 'MaxX': 0.8,\n",
       " 'BinsY': 224,\n",
       " 'MinY': -1.0,\n",
       " 'MaxY': 1.0,\n",
       " 'MaxParticles': 40}"
      ]
     },
     "execution_count": 2,
     "metadata": {},
     "output_type": "execute_result"
    }
   ],
   "source": [
    "from collections import namedtuple\n",
    "Option = namedtuple(\"MyStruct\", \"inputFile tree config\")\n",
    "options = Option(\n",
    "    inputFile = '../data/processed-pythia82-lhc13-all-pt1-50k-r1_h022_e0175_t220_nonu_withPars_truth_0.z',\n",
    "    tree = 't_allpar_new',\n",
    "    config = 'train_config_resnet.yml',\n",
    ")\n",
    "\n",
    "print(\"Loading configuration from\", options.config)\n",
    "config = open(options.config, 'r')\n",
    "yamlConfig =  yaml.load(config, Loader = yaml.FullLoader)\n",
    "yamlConfig"
   ]
  },
  {
   "cell_type": "code",
   "execution_count": 3,
   "metadata": {},
   "outputs": [
    {
     "name": "stdout",
     "output_type": "stream",
     "text": [
      "(5131613,)\n",
      "('index', 'j_ptfrac', 'j_pt', 'j_eta', 'j_mass', 'j_tau1_b1', 'j_tau2_b1', 'j_tau3_b1', 'j_tau1_b2', 'j_tau2_b2', 'j_tau3_b2', 'j_tau32_b1', 'j_tau32_b2', 'j_zlogz', 'j_c1_b0', 'j_c1_b1', 'j_c1_b2', 'j_c2_b1', 'j_c2_b2', 'j_d2_b1', 'j_d2_b2', 'j_d2_a1_b1', 'j_d2_a1_b2', 'j_m2_b1', 'j_m2_b2', 'j_n2_b1', 'j_n2_b2', 'j_tau1_b1_mmdt', 'j_tau2_b1_mmdt', 'j_tau3_b1_mmdt', 'j_tau1_b2_mmdt', 'j_tau2_b2_mmdt', 'j_tau3_b2_mmdt', 'j_tau32_b1_mmdt', 'j_tau32_b2_mmdt', 'j_c1_b0_mmdt', 'j_c1_b1_mmdt', 'j_c1_b2_mmdt', 'j_c2_b1_mmdt', 'j_c2_b2_mmdt', 'j_d2_b1_mmdt', 'j_d2_b2_mmdt', 'j_d2_a1_b1_mmdt', 'j_d2_a1_b2_mmdt', 'j_m2_b1_mmdt', 'j_m2_b2_mmdt', 'j_n2_b1_mmdt', 'j_n2_b2_mmdt', 'j_mass_trim', 'j_mass_mmdt', 'j_mass_prun', 'j_mass_sdb2', 'j_mass_sdm1', 'j_multiplicity', 'j1_px', 'j1_py', 'j1_pz', 'j1_e', 'j1_pdgid', 'j1_erel', 'j1_pt', 'j1_ptrel', 'j1_eta', 'j1_etarel', 'j1_etarot', 'j1_phi', 'j1_phirel', 'j1_phirot', 'j1_deltaR', 'j1_costheta', 'j1_costhetarel', 'j1_e1mcosthetarel', 'j_g', 'j_q', 'j_w', 'j_z', 'j_t', 'j_undef', 'j_index')\n",
      "(14428, 5)\n"
     ]
    }
   ],
   "source": [
    "X_train_val, X_test, y_train_val, y_test, labels = get_features(options, yamlConfig)"
   ]
  },
  {
   "cell_type": "code",
   "execution_count": 4,
   "metadata": {},
   "outputs": [
    {
     "data": {
      "text/plain": [
       "(11542, 224, 224, 3)"
      ]
     },
     "execution_count": 4,
     "metadata": {},
     "output_type": "execute_result"
    }
   ],
   "source": [
    "X_train_val = np.stack([X_train_val, X_train_val, X_train_val], axis=-1)\n",
    "X_train_val = np.squeeze(X_train_val)\n",
    "X_train_val.shape"
   ]
  },
  {
   "cell_type": "code",
   "execution_count": 5,
   "metadata": {},
   "outputs": [
    {
     "data": {
      "text/plain": [
       "(2886, 224, 224, 3)"
      ]
     },
     "execution_count": 5,
     "metadata": {},
     "output_type": "execute_result"
    }
   ],
   "source": [
    "X_test = np.stack([X_test, X_test, X_test],axis= -1)\n",
    "X_test = np.squeeze(X_test)\n",
    "X_test.shape"
   ]
  },
  {
   "cell_type": "code",
   "execution_count": 6,
   "metadata": {},
   "outputs": [
    {
     "name": "stdout",
     "output_type": "stream",
     "text": [
      "Model: \"sequential\"\n",
      "_________________________________________________________________\n",
      "Layer (type)                 Output Shape              Param #   \n",
      "=================================================================\n",
      "resnet50 (Model)             (None, 2048)              27784064  \n",
      "_________________________________________________________________\n",
      "dense (Dense)                (None, 1024)              2098176   \n",
      "_________________________________________________________________\n",
      "flatten (Flatten)            (None, 1024)              0         \n",
      "_________________________________________________________________\n",
      "dense_1 (Dense)              (None, 5)                 5125      \n",
      "=================================================================\n",
      "Total params: 29,887,365\n",
      "Trainable params: 29,834,245\n",
      "Non-trainable params: 53,120\n",
      "_________________________________________________________________\n"
     ]
    }
   ],
   "source": [
    "model = tf.keras.models.Sequential([\n",
    "tf.keras.applications.ResNet50(weights=None,pooling='max',classes=2048),\n",
    "tf.keras.layers.Dense(1024,activation='relu'),\n",
    "tf.keras.layers.Flatten(),\n",
    "tf.keras.layers.Dense(5, activation='softmax'),\n",
    "])\n",
    "model.summary()"
   ]
  },
  {
   "cell_type": "code",
   "execution_count": 7,
   "metadata": {},
   "outputs": [],
   "source": [
    "from tensorflow.keras.optimizers import Adam\n",
    "adam = Adam(lr = 0.0001)\n",
    "model.compile(optimizer='adam', loss='categorical_crossentropy', metrics=[tf.keras.metrics.AUC(num_thresholds=200, curve='ROC')])"
   ]
  },
  {
   "cell_type": "code",
   "execution_count": 8,
   "metadata": {},
   "outputs": [
    {
     "name": "stdout",
     "output_type": "stream",
     "text": [
      "Train on 8656 samples, validate on 2886 samples\n",
      "Epoch 1/100\n",
      "8656/8656 [==============================] - 47s 5ms/sample - loss: 1.4650 - auc: 0.6752 - val_loss: 2.4941 - val_auc: 0.5000\n",
      "Epoch 2/100\n",
      "8656/8656 [==============================] - 37s 4ms/sample - loss: 1.2132 - auc: 0.8060 - val_loss: 2.3764 - val_auc: 0.5002\n",
      "Epoch 3/100\n",
      "8656/8656 [==============================] - 38s 4ms/sample - loss: 1.0667 - auc: 0.8528 - val_loss: 2.8928 - val_auc: 0.5000\n",
      "Epoch 4/100\n",
      "8656/8656 [==============================] - 38s 4ms/sample - loss: 0.9873 - auc: 0.8740 - val_loss: 2.9350 - val_auc: 0.5000\n",
      "Epoch 5/100\n",
      "8656/8656 [==============================] - 38s 4ms/sample - loss: 0.9984 - auc: 0.8710 - val_loss: 3.1549 - val_auc: 0.5000\n",
      "Epoch 6/100\n",
      "8656/8656 [==============================] - 38s 4ms/sample - loss: 0.9621 - auc: 0.8798 - val_loss: 3.0495 - val_auc: 0.5000\n",
      "Epoch 7/100\n",
      "8656/8656 [==============================] - 38s 4ms/sample - loss: 0.9330 - auc: 0.8874 - val_loss: 3.4644 - val_auc: 0.5000\n",
      "Epoch 8/100\n",
      "8656/8656 [==============================] - 38s 4ms/sample - loss: 0.9082 - auc: 0.8931 - val_loss: 3.6044 - val_auc: 0.5000\n",
      "Epoch 9/100\n",
      "8656/8656 [==============================] - 38s 4ms/sample - loss: 0.8999 - auc: 0.8957 - val_loss: 3.5731 - val_auc: 0.5000\n",
      "Epoch 10/100\n",
      "8656/8656 [==============================] - 38s 4ms/sample - loss: 0.8756 - auc: 0.9016 - val_loss: 1.6431 - val_auc: 0.5516\n",
      "Epoch 11/100\n",
      "8656/8656 [==============================] - 38s 4ms/sample - loss: 0.8720 - auc: 0.9024 - val_loss: 3.8417 - val_auc: 0.5019\n",
      "Epoch 12/100\n",
      "8656/8656 [==============================] - 38s 4ms/sample - loss: 0.8759 - auc: 0.9015 - val_loss: 3.2783 - val_auc: 0.5633\n",
      "Epoch 13/100\n",
      "8656/8656 [==============================] - 38s 4ms/sample - loss: 0.8421 - auc: 0.9092 - val_loss: 4.2051 - val_auc: 0.5019\n",
      "Epoch 14/100\n",
      "8656/8656 [==============================] - 38s 4ms/sample - loss: 0.8293 - auc: 0.9120 - val_loss: 3.9401 - val_auc: 0.5019\n",
      "Epoch 15/100\n",
      "8656/8656 [==============================] - 38s 4ms/sample - loss: 0.8237 - auc: 0.9135 - val_loss: 4.7610 - val_auc: 0.5019\n",
      "Epoch 16/100\n",
      "8656/8656 [==============================] - 38s 4ms/sample - loss: 0.7975 - auc: 0.9187 - val_loss: 4.5652 - val_auc: 0.5019\n",
      "Epoch 17/100\n",
      "8656/8656 [==============================] - 38s 4ms/sample - loss: 0.8085 - auc: 0.9163 - val_loss: 4.7229 - val_auc: 0.5019\n",
      "Epoch 18/100\n",
      "8656/8656 [==============================] - 38s 4ms/sample - loss: 0.7856 - auc: 0.9212 - val_loss: 1.6207 - val_auc: 0.5803\n",
      "Epoch 19/100\n",
      "8656/8656 [==============================] - 38s 4ms/sample - loss: 0.7839 - auc: 0.9215 - val_loss: 3.9540 - val_auc: 0.5408\n",
      "Epoch 20/100\n",
      "8656/8656 [==============================] - 38s 4ms/sample - loss: 0.7766 - auc: 0.9230 - val_loss: 4.6726 - val_auc: 0.5019\n",
      "Epoch 21/100\n",
      "8656/8656 [==============================] - 38s 4ms/sample - loss: 0.7655 - auc: 0.9248 - val_loss: 4.5443 - val_auc: 0.5019\n",
      "Epoch 22/100\n",
      "8656/8656 [==============================] - 38s 4ms/sample - loss: 0.7486 - auc: 0.9284 - val_loss: 4.7943 - val_auc: 0.5019\n",
      "Epoch 23/100\n",
      "8656/8656 [==============================] - 38s 4ms/sample - loss: 0.7485 - auc: 0.9280 - val_loss: 4.4536 - val_auc: 0.5019\n",
      "Epoch 24/100\n",
      "8656/8656 [==============================] - 38s 4ms/sample - loss: 0.7219 - auc: 0.9327 - val_loss: 4.6488 - val_auc: 0.5013\n",
      "Epoch 25/100\n",
      "8656/8656 [==============================] - 38s 4ms/sample - loss: 0.7386 - auc: 0.9298 - val_loss: 4.5021 - val_auc: 0.5019\n",
      "Epoch 26/100\n",
      "8656/8656 [==============================] - 38s 4ms/sample - loss: 0.7235 - auc: 0.9325 - val_loss: 4.4990 - val_auc: 0.5013\n",
      "Epoch 27/100\n",
      "8656/8656 [==============================] - 38s 4ms/sample - loss: 0.6995 - auc: 0.9367 - val_loss: 4.9164 - val_auc: 0.5013\n",
      "Epoch 28/100\n",
      "8656/8656 [==============================] - 38s 4ms/sample - loss: 0.7090 - auc: 0.9354 - val_loss: 2.8639 - val_auc: 0.6494\n",
      "Epoch 29/100\n",
      "8656/8656 [==============================] - 38s 4ms/sample - loss: 0.6902 - auc: 0.9385 - val_loss: 4.1947 - val_auc: 0.5138\n",
      "Epoch 30/100\n",
      "8656/8656 [==============================] - 38s 4ms/sample - loss: 0.6919 - auc: 0.9383 - val_loss: 1.7775 - val_auc: 0.7824\n",
      "Epoch 31/100\n",
      "8656/8656 [==============================] - 38s 4ms/sample - loss: 0.6800 - auc: 0.9402 - val_loss: 4.6868 - val_auc: 0.5013\n",
      "Epoch 32/100\n",
      "8656/8656 [==============================] - 38s 4ms/sample - loss: 0.6866 - auc: 0.9390 - val_loss: 4.5337 - val_auc: 0.5019\n",
      "Epoch 33/100\n",
      "8656/8656 [==============================] - 38s 4ms/sample - loss: 0.6687 - auc: 0.9421 - val_loss: 1.5315 - val_auc: 0.8047\n",
      "Epoch 34/100\n",
      "8656/8656 [==============================] - 38s 4ms/sample - loss: 0.6626 - auc: 0.9431 - val_loss: 3.3712 - val_auc: 0.5267\n",
      "Epoch 35/100\n",
      "8656/8656 [==============================] - 38s 4ms/sample - loss: 0.6546 - auc: 0.9447 - val_loss: 4.7369 - val_auc: 0.5025\n",
      "Epoch 36/100\n",
      "8656/8656 [==============================] - 38s 4ms/sample - loss: 0.6479 - auc: 0.9453 - val_loss: 3.8519 - val_auc: 0.5167\n",
      "Epoch 37/100\n",
      "8656/8656 [==============================] - 38s 4ms/sample - loss: 0.6449 - auc: 0.9460 - val_loss: 4.7724 - val_auc: 0.5013\n",
      "Epoch 38/100\n",
      "8656/8656 [==============================] - 38s 4ms/sample - loss: 0.6424 - auc: 0.9465 - val_loss: 4.4076 - val_auc: 0.5218\n",
      "Epoch 39/100\n",
      "8656/8656 [==============================] - 38s 4ms/sample - loss: 0.6336 - auc: 0.9479 - val_loss: 1.6954 - val_auc: 0.8065\n",
      "Epoch 40/100\n",
      "8656/8656 [==============================] - 38s 4ms/sample - loss: 0.6112 - auc: 0.9510 - val_loss: 1.5515 - val_auc: 0.7936\n",
      "Epoch 41/100\n",
      "8656/8656 [==============================] - 43s 5ms/sample - loss: 0.6081 - auc: 0.9517 - val_loss: 2.8350 - val_auc: 0.5794\n",
      "Epoch 42/100\n",
      "8656/8656 [==============================] - 40s 5ms/sample - loss: 0.6007 - auc: 0.9525 - val_loss: 5.0800 - val_auc: 0.5013\n",
      "Epoch 43/100\n",
      "8656/8656 [==============================] - 38s 4ms/sample - loss: 0.5946 - auc: 0.9534 - val_loss: 4.7123 - val_auc: 0.5013\n",
      "Epoch 44/100\n",
      "8656/8656 [==============================] - 38s 4ms/sample - loss: 0.6024 - auc: 0.9525 - val_loss: 3.5934 - val_auc: 0.5025\n",
      "Epoch 45/100\n",
      "8656/8656 [==============================] - 38s 4ms/sample - loss: 0.5763 - auc: 0.9563 - val_loss: 4.1321 - val_auc: 0.4879\n",
      "Epoch 46/100\n",
      "8656/8656 [==============================] - 38s 4ms/sample - loss: 0.5598 - auc: 0.9587 - val_loss: 4.0741 - val_auc: 0.5387\n",
      "Epoch 47/100\n",
      "8656/8656 [==============================] - 38s 4ms/sample - loss: 0.5538 - auc: 0.9596 - val_loss: 2.3096 - val_auc: 0.5267\n",
      "Epoch 48/100\n",
      "8656/8656 [==============================] - 38s 4ms/sample - loss: 0.5380 - auc: 0.9613 - val_loss: 4.7409 - val_auc: 0.5241\n",
      "Epoch 49/100\n",
      "8656/8656 [==============================] - 38s 4ms/sample - loss: 0.5350 - auc: 0.9616 - val_loss: 4.8650 - val_auc: 0.5130\n",
      "Epoch 50/100\n",
      "8656/8656 [==============================] - 38s 4ms/sample - loss: 0.5216 - auc: 0.9637 - val_loss: 5.6008 - val_auc: 0.5013\n",
      "Epoch 51/100\n",
      "8656/8656 [==============================] - 38s 4ms/sample - loss: 0.5191 - auc: 0.9639 - val_loss: 3.6535 - val_auc: 0.5180\n",
      "Epoch 52/100\n",
      "8656/8656 [==============================] - 38s 4ms/sample - loss: 0.4868 - auc: 0.9675 - val_loss: 5.3983 - val_auc: 0.4998\n",
      "Epoch 53/100\n",
      "8656/8656 [==============================] - 38s 4ms/sample - loss: 0.4949 - auc: 0.9671 - val_loss: 5.8717 - val_auc: 0.5013\n",
      "Epoch 54/100\n",
      "8656/8656 [==============================] - 38s 4ms/sample - loss: 0.4818 - auc: 0.9683 - val_loss: 3.4934 - val_auc: 0.5087\n",
      "Epoch 55/100\n",
      "8656/8656 [==============================] - 39s 4ms/sample - loss: 0.4779 - auc: 0.9687 - val_loss: 5.4907 - val_auc: 0.5117\n",
      "Epoch 56/100\n",
      "8656/8656 [==============================] - 39s 4ms/sample - loss: 0.4688 - auc: 0.9700 - val_loss: 6.2311 - val_auc: 0.5002\n",
      "Epoch 57/100\n",
      "8656/8656 [==============================] - 38s 4ms/sample - loss: 0.4569 - auc: 0.9710 - val_loss: 3.6169 - val_auc: 0.5091\n",
      "Epoch 58/100\n",
      "8656/8656 [==============================] - 39s 4ms/sample - loss: 0.4578 - auc: 0.9712 - val_loss: 7.7167 - val_auc: 0.5030\n",
      "Epoch 59/100\n",
      "8656/8656 [==============================] - 38s 4ms/sample - loss: 0.4420 - auc: 0.9726 - val_loss: 5.1672 - val_auc: 0.5242\n",
      "Epoch 60/100\n",
      "8656/8656 [==============================] - 38s 4ms/sample - loss: 0.4226 - auc: 0.9749 - val_loss: 6.5493 - val_auc: 0.4983\n",
      "Epoch 61/100\n",
      "8656/8656 [==============================] - 39s 4ms/sample - loss: 0.4398 - auc: 0.9732 - val_loss: 6.4475 - val_auc: 0.5013\n",
      "Epoch 62/100\n",
      "8656/8656 [==============================] - 39s 4ms/sample - loss: 0.4078 - auc: 0.9766 - val_loss: 4.4617 - val_auc: 0.4984\n",
      "Epoch 63/100\n",
      "8656/8656 [==============================] - 39s 4ms/sample - loss: 0.3953 - auc: 0.9774 - val_loss: 6.3193 - val_auc: 0.5013\n",
      "Epoch 64/100\n",
      "8656/8656 [==============================] - 38s 4ms/sample - loss: 0.4128 - auc: 0.9757 - val_loss: 6.8235 - val_auc: 0.5013\n",
      "Epoch 65/100\n",
      "8656/8656 [==============================] - 38s 4ms/sample - loss: 0.3830 - auc: 0.9787 - val_loss: 6.9050 - val_auc: 0.5013\n",
      "Epoch 66/100\n",
      "8656/8656 [==============================] - 38s 4ms/sample - loss: 0.3887 - auc: 0.9777 - val_loss: 5.9475 - val_auc: 0.4982\n",
      "Epoch 67/100\n",
      "8656/8656 [==============================] - 38s 4ms/sample - loss: 0.3592 - auc: 0.9811 - val_loss: 4.4783 - val_auc: 0.4930\n",
      "Epoch 68/100\n",
      "8656/8656 [==============================] - 39s 5ms/sample - loss: 0.3693 - auc: 0.9804 - val_loss: 4.8385 - val_auc: 0.5002\n",
      "Epoch 69/100\n",
      "8656/8656 [==============================] - 38s 4ms/sample - loss: 0.3627 - auc: 0.9807 - val_loss: 7.0392 - val_auc: 0.5013\n",
      "Epoch 70/100\n",
      "8656/8656 [==============================] - 38s 4ms/sample - loss: 0.3262 - auc: 0.9839 - val_loss: 1.9446 - val_auc: 0.4848\n",
      "Epoch 71/100\n",
      "8656/8656 [==============================] - 38s 4ms/sample - loss: 0.3605 - auc: 0.9809 - val_loss: 7.0359 - val_auc: 0.5013\n",
      "Epoch 72/100\n",
      "8656/8656 [==============================] - 38s 4ms/sample - loss: 0.3125 - auc: 0.9848 - val_loss: 7.9002 - val_auc: 0.5013\n",
      "Epoch 73/100\n",
      "8656/8656 [==============================] - 38s 4ms/sample - loss: 0.3353 - auc: 0.9827 - val_loss: 5.9353 - val_auc: 0.4919\n",
      "Epoch 74/100\n",
      "8656/8656 [==============================] - 38s 4ms/sample - loss: 0.3346 - auc: 0.9832 - val_loss: 2.6837 - val_auc: 0.4938\n",
      "Epoch 75/100\n",
      "8656/8656 [==============================] - 38s 4ms/sample - loss: 0.3017 - auc: 0.9859 - val_loss: 8.0535 - val_auc: 0.4984\n",
      "Epoch 76/100\n",
      "8656/8656 [==============================] - 38s 4ms/sample - loss: 0.3079 - auc: 0.9855 - val_loss: 8.1208 - val_auc: 0.4982\n",
      "Epoch 77/100\n",
      "8656/8656 [==============================] - 38s 4ms/sample - loss: 0.2981 - auc: 0.9863 - val_loss: 3.0098 - val_auc: 0.5712\n",
      "Epoch 78/100\n",
      "8656/8656 [==============================] - 38s 4ms/sample - loss: 0.3116 - auc: 0.9853 - val_loss: 6.6452 - val_auc: 0.5197\n",
      "Epoch 79/100\n",
      "8656/8656 [==============================] - 38s 4ms/sample - loss: 0.2828 - auc: 0.9874 - val_loss: 6.6004 - val_auc: 0.5215\n",
      "Epoch 80/100\n",
      "8656/8656 [==============================] - 38s 4ms/sample - loss: 0.3004 - auc: 0.9858 - val_loss: 5.8324 - val_auc: 0.4885\n",
      "Epoch 81/100\n",
      "8656/8656 [==============================] - 38s 4ms/sample - loss: 0.2881 - auc: 0.9870 - val_loss: 3.7014 - val_auc: 0.5192\n",
      "Epoch 82/100\n",
      "8656/8656 [==============================] - 38s 4ms/sample - loss: 0.2840 - auc: 0.9871 - val_loss: 7.2708 - val_auc: 0.5416\n",
      "Epoch 83/100\n",
      "8656/8656 [==============================] - 38s 4ms/sample - loss: 0.2570 - auc: 0.9888 - val_loss: 6.8607 - val_auc: 0.4985\n",
      "Epoch 84/100\n",
      "8656/8656 [==============================] - 38s 4ms/sample - loss: 0.2583 - auc: 0.9888 - val_loss: 8.6920 - val_auc: 0.5013\n",
      "Epoch 85/100\n",
      "8656/8656 [==============================] - 38s 4ms/sample - loss: 0.2689 - auc: 0.9885 - val_loss: 3.9991 - val_auc: 0.4837\n",
      "Epoch 86/100\n",
      "8656/8656 [==============================] - 38s 4ms/sample - loss: 0.2475 - auc: 0.9894 - val_loss: 2.2536 - val_auc: 0.4911\n",
      "Epoch 87/100\n",
      "8656/8656 [==============================] - 38s 4ms/sample - loss: 0.2661 - auc: 0.9885 - val_loss: 8.3051 - val_auc: 0.5013\n",
      "Epoch 88/100\n",
      "8656/8656 [==============================] - 38s 4ms/sample - loss: 0.2411 - auc: 0.9900 - val_loss: 2.4108 - val_auc: 0.4212\n",
      "Epoch 89/100\n",
      "8656/8656 [==============================] - 38s 4ms/sample - loss: 0.2236 - auc: 0.9912 - val_loss: 6.2264 - val_auc: 0.4913\n",
      "Epoch 90/100\n",
      "8656/8656 [==============================] - 38s 4ms/sample - loss: 0.2471 - auc: 0.9897 - val_loss: 11.0101 - val_auc: 0.5066\n",
      "Epoch 91/100\n",
      "8656/8656 [==============================] - 38s 4ms/sample - loss: 0.2361 - auc: 0.9903 - val_loss: 2.3317 - val_auc: 0.4954\n",
      "Epoch 92/100\n",
      "8656/8656 [==============================] - 38s 4ms/sample - loss: 0.2489 - auc: 0.9893 - val_loss: 8.6331 - val_auc: 0.5013\n",
      "Epoch 93/100\n",
      "8656/8656 [==============================] - 38s 4ms/sample - loss: 0.2361 - auc: 0.9902 - val_loss: 8.7917 - val_auc: 0.5013\n",
      "Epoch 94/100\n",
      "8656/8656 [==============================] - 38s 4ms/sample - loss: 0.2280 - auc: 0.9908 - val_loss: 8.6089 - val_auc: 0.5053\n",
      "Epoch 95/100\n",
      "8656/8656 [==============================] - 38s 4ms/sample - loss: 0.2176 - auc: 0.9914 - val_loss: 8.9638 - val_auc: 0.5013\n",
      "Epoch 96/100\n",
      "8656/8656 [==============================] - 38s 4ms/sample - loss: 0.2273 - auc: 0.9912 - val_loss: 2.0004 - val_auc: 0.5524\n",
      "Epoch 97/100\n",
      "8656/8656 [==============================] - 38s 4ms/sample - loss: 0.2301 - auc: 0.9908 - val_loss: 8.8718 - val_auc: 0.5013\n",
      "Epoch 98/100\n",
      "8656/8656 [==============================] - 38s 4ms/sample - loss: 0.1970 - auc: 0.9926 - val_loss: 4.3494 - val_auc: 0.4909\n",
      "Epoch 99/100\n",
      "8656/8656 [==============================] - 38s 4ms/sample - loss: 0.2122 - auc: 0.9921 - val_loss: 3.3693 - val_auc: 0.4829\n",
      "Epoch 100/100\n",
      "8656/8656 [==============================] - 38s 4ms/sample - loss: 0.2102 - auc: 0.9918 - val_loss: 11.2855 - val_auc: 0.5089\n"
     ]
    }
   ],
   "source": [
    "history = model.fit(X_train_val, y_train_val, batch_size = 64, epochs = 100,\n",
    "                    validation_split = 0.25, shuffle = True, callbacks = None, \n",
    "                    use_multiprocessing=True, workers=4)"
   ]
  },
  {
   "cell_type": "code",
   "execution_count": 17,
   "metadata": {},
   "outputs": [],
   "source": [
    "from evaluation import makeRoc, learningCurveLoss"
   ]
  },
  {
   "cell_type": "code",
   "execution_count": 18,
   "metadata": {},
   "outputs": [
    {
     "data": {
      "image/png": "[encoded data removed]",
      "text/plain": [
       "<Figure size 432x288 with 1 Axes>"
      ]
     },
     "metadata": {
      "needs_background": "light"
     },
     "output_type": "display_data"
    }
   ],
   "source": [
    "y_pred = makeRoc(X_test, y_test,labels, model, outputSuffix='ResNet')"
   ]
  },
  {
   "cell_type": "code",
   "execution_count": 19,
   "metadata": {},
   "outputs": [
    {
     "data": {
      "image/png": "[encoded data removed]",
      "text/plain": [
       "<Figure size 432x288 with 1 Axes>"
      ]
     },
     "metadata": {
      "needs_background": "light"
     },
     "output_type": "display_data"
    }
   ],
   "source": [
    "learningCurveLoss(history)"
   ]
  },
  {
   "cell_type": "code",
   "execution_count": 12,
   "metadata": {},
   "outputs": [],
   "source": [
    "model.save('resnet_dgcnn_comparison.h5')\n",
    "model.save_weights('resnet_dgcnn_comparison_weights.h5')"
   ]
  },
  {
   "cell_type": "code",
   "execution_count": 13,
   "metadata": {},
   "outputs": [],
   "source": [
    "best_prediction = model.predict(X_test)"
   ]
  },
  {
   "cell_type": "code",
   "execution_count": 16,
   "metadata": {},
   "outputs": [
    {
     "name": "stderr",
     "output_type": "stream",
     "text": [
      "C:\\Users\\45148\\miniconda3\\envs\\tensorflow\\lib\\site-packages\\ipykernel_launcher.py:9: UserWarning: Attempted to set non-positive bottom ylim on a log-scaled axis.\n",
      "Invalid limit will be ignored.\n",
      "  if __name__ == '__main__':\n"
     ]
    },
    {
     "data": {
      "text/plain": [
       "<matplotlib.legend.Legend at 0x28968da54c8>"
      ]
     },
     "execution_count": 16,
     "metadata": {},
     "output_type": "execute_result"
    },
    {
     "data": {
      "image/png": "[encoded data removed]",
      "text/plain": [
       "<Figure size 432x288 with 1 Axes>"
      ]
     },
     "metadata": {
      "needs_background": "light"
     },
     "output_type": "display_data"
    }
   ],
   "source": [
    "kwargs = dict(histtype='stepfilled', alpha=0.3, density=True, bins=100)\n",
    "plt.hist(best_prediction[:,0],**kwargs,label='g')\n",
    "plt.hist(best_prediction[:,1],**kwargs,label='q')\n",
    "plt.hist(best_prediction[:,2],**kwargs,label='w')\n",
    "plt.hist(best_prediction[:,3],**kwargs,label='z')\n",
    "plt.hist(best_prediction[:,4],**kwargs,label='t')\n",
    "plt.yscale('log')\n",
    "plt.xlim(0.0,1.0)\n",
    "plt.ylim(0,100)\n",
    "plt.legend(loc='upper right')"
   ]
  },
  {
   "cell_type": "code",
   "execution_count": null,
   "metadata": {},
   "outputs": [],
   "source": []
  }
 ],
 "metadata": {
  "kernelspec": {
   "display_name": "Python 3.7 (tensorflow)",
   "language": "python",
   "name": "tensorflow"
  },
  "language_info": {
   "codemirror_mode": {
    "name": "ipython",
    "version": 3
   },
   "file_extension": ".py",
   "mimetype": "text/x-python",
   "name": "python",
   "nbconvert_exporter": "python",
   "pygments_lexer": "ipython3",
   "version": "3.7.9"
  }
 },
 "nbformat": 4,
 "nbformat_minor": 4
}
