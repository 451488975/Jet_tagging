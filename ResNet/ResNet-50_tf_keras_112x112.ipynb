{
 "cells": [
  {
   "cell_type": "markdown",
   "metadata": {},
   "source": [
    "# Top tagging model with ResNet-50 "
   ]
  },
  {
   "cell_type": "markdown",
   "metadata": {},
   "source": [
    "This is a training script about using top tagging data to train a ResNet-50 Neuron Network. <br>\n",
    "The training is base on Keras and using tensorflow backend to run."
   ]
  },
  {
   "cell_type": "markdown",
   "metadata": {},
   "source": [
    "## Import necessary package and do gpu test."
   ]
  },
  {
   "cell_type": "code",
   "execution_count": 1,
   "metadata": {},
   "outputs": [
    {
     "name": "stderr",
     "output_type": "stream",
     "text": [
      "Using TensorFlow backend.\n"
     ]
    }
   ],
   "source": [
    "import numpy as np\n",
    "import matplotlib.pyplot as plt \n",
    "import pandas as pd \n",
    "\n",
    "import h5py \n",
    "import os\n",
    "from keras.utils import np_utils\n",
    "import tensorflow as tf\n",
    "from tqdm import tqdm\n"
   ]
  },
  {
   "cell_type": "markdown",
   "metadata": {},
   "source": [
    "## Input data with H5py package\n",
    "Input data size: 1 channel image with shape 224x224. <br>\n",
    "Input label size: 1 or 0 with onehot encoding. <br>\n",
    "\\# of input data(train(with val), test): 30000,6000"
   ]
  },
  {
   "cell_type": "code",
   "execution_count": 2,
   "metadata": {},
   "outputs": [],
   "source": [
    "f = h5py.File('data/processed-pythia82-lhc13-all-pt1-50k-r1_h022_e0175_t220_nonu_withPars_truth_0.z', 'r')\n",
    "treeArray = f['t_allpar_new'][()]\n",
    "features = ['j1_etarot', 'j1_phirot','j_index']\n",
    "labels = ['j_g', 'j_q', 'j_w', 'j_z', 'j_t', 'j_index']"
   ]
  },
  {
   "cell_type": "code",
   "execution_count": 3,
   "metadata": {},
   "outputs": [],
   "source": [
    "features_labels_df = pd.DataFrame(treeArray,columns = list(set(features + labels)))\n",
    "features_labels_df = features_labels_df.drop_duplicates()"
   ]
  },
  {
   "cell_type": "code",
   "execution_count": 4,
   "metadata": {},
   "outputs": [],
   "source": [
    "features_labels_df = features_labels_df.head(n = 750000)\n",
    "features_df = features_labels_df[features].head(n = 750000)\n",
    "labels_df = features_labels_df[labels].head(n = 750000)"
   ]
  },
  {
   "cell_type": "code",
   "execution_count": 5,
   "metadata": {},
   "outputs": [
    {
     "name": "stderr",
     "output_type": "stream",
     "text": [
      "100%|████████████████████████████████████████████████████████████████████████████| 14428/14428 [03:54<00:00, 61.63it/s]\n"
     ]
    }
   ],
   "source": [
    "MaxParticles = 30\n",
    "BinsX = 224\n",
    "MinX = -1.0\n",
    "MaxX = 1.0\n",
    "BinsY = 224\n",
    "MinY = -1.0\n",
    "MaxY = 1.0\n",
    "\n",
    "# Convert to nparray\n",
    "labels_df = labels_df.drop_duplicates()\n",
    "features_val = features_df.drop(['j_index'],axis=1).values\n",
    "labels_val = labels_df.drop(['j_index'],axis=1).values\n",
    "\n",
    "# get features\n",
    "features_2dval = np.zeros((len(labels_df), BinsX, BinsY))\n",
    "for i in tqdm(range(0, len(labels_df))):\n",
    "    features_df_i = features_df[features_df['j_index'] == labels_df['j_index'].iloc[i]]\n",
    "    index_values = features_df_i.index.values\n",
    "\n",
    "    xbins = np.linspace(MinX, MaxX, BinsX + 1)\n",
    "    ybins = np.linspace(MinY, MaxY, BinsY + 1)\n",
    "\n",
    "    x = features_df_i[features[0]]\n",
    "    y = features_df_i[features[1]]\n",
    "    w = features_df_i[features[2]]\n",
    "\n",
    "    hist, xedges, yedges = np.histogram2d(x, y, weights=w, bins=(xbins, ybins))\n",
    "\n",
    "    for ix in range(0, BinsX):\n",
    "        for iy in range(0, BinsY):\n",
    "            features_2dval[i, ix, iy] = hist[ix, iy]\n",
    "features_val = features_2dval"
   ]
  },
  {
   "cell_type": "code",
   "execution_count": 6,
   "metadata": {},
   "outputs": [
    {
     "data": {
      "text/plain": [
       "(14428, 224, 224)"
      ]
     },
     "execution_count": 6,
     "metadata": {},
     "output_type": "execute_result"
    }
   ],
   "source": [
    "features_val.shape"
   ]
  },
  {
   "cell_type": "code",
   "execution_count": 7,
   "metadata": {},
   "outputs": [],
   "source": [
    "images = np.stack([features_val, features_val, features_val],axis= -1)\n",
    "label = labels_val"
   ]
  },
  {
   "cell_type": "code",
   "execution_count": 8,
   "metadata": {},
   "outputs": [
    {
     "data": {
      "text/plain": [
       "(14428, 224, 224, 3)"
      ]
     },
     "execution_count": 8,
     "metadata": {},
     "output_type": "execute_result"
    }
   ],
   "source": [
    "images.shape"
   ]
  },
  {
   "cell_type": "code",
   "execution_count": 9,
   "metadata": {},
   "outputs": [],
   "source": [
    "from sklearn.model_selection import train_test_split\n",
    "X_train_val, X_test, y_train_val, y_test = train_test_split(images, label, test_size=0.2, random_state=42)"
   ]
  },
  {
   "cell_type": "code",
   "execution_count": 10,
   "metadata": {},
   "outputs": [
    {
     "data": {
      "text/plain": [
       "(11542, 224, 224, 3)"
      ]
     },
     "execution_count": 10,
     "metadata": {},
     "output_type": "execute_result"
    }
   ],
   "source": [
    "X_train_val.shape"
   ]
  },
  {
   "cell_type": "code",
   "execution_count": 11,
   "metadata": {
    "scrolled": true
   },
   "outputs": [
    {
     "data": {
      "text/plain": [
       "(2886, 224, 224, 3)"
      ]
     },
     "execution_count": 11,
     "metadata": {},
     "output_type": "execute_result"
    }
   ],
   "source": [
    "X_test.shape"
   ]
  },
  {
   "cell_type": "markdown",
   "metadata": {},
   "source": [
    "## Construsting a sequential \n",
    "Construst a model with Keras pre-configured ResNet-50 and one Dense layer with Softmax activation function. <br>\n",
    "Using Earlystopping and custom callback function to prevent training from overfitting and collect ROC/AUC data point. "
   ]
  },
  {
   "cell_type": "code",
   "execution_count": 12,
   "metadata": {},
   "outputs": [
    {
     "name": "stdout",
     "output_type": "stream",
     "text": [
      "Model: \"sequential\"\n",
      "_________________________________________________________________\n",
      "Layer (type)                 Output Shape              Param #   \n",
      "=================================================================\n",
      "resnet50 (Model)             (None, 2048)              27784064  \n",
      "_________________________________________________________________\n",
      "dense (Dense)                (None, 1024)              2098176   \n",
      "_________________________________________________________________\n",
      "flatten (Flatten)            (None, 1024)              0         \n",
      "_________________________________________________________________\n",
      "dense_1 (Dense)              (None, 5)                 5125      \n",
      "=================================================================\n",
      "Total params: 29,887,365\n",
      "Trainable params: 29,834,245\n",
      "Non-trainable params: 53,120\n",
      "_________________________________________________________________\n"
     ]
    }
   ],
   "source": [
    "model = tf.keras.models.Sequential([\n",
    "tf.keras.applications.ResNet50(weights=None, pooling='max',classes=2048),\n",
    "tf.keras.layers.Dense(1024,activation='relu'),\n",
    "tf.keras.layers.Flatten(),\n",
    "tf.keras.layers.Dense(5, activation='softmax'),\n",
    "])\n",
    "model.summary()\n",
    "\n"
   ]
  },
  {
   "cell_type": "code",
   "execution_count": 13,
   "metadata": {},
   "outputs": [],
   "source": [
    "from tensorflow.keras.optimizers import Adam\n",
    "adam = Adam(lr = 0.0001)\n",
    "model.compile(optimizer='adam', loss='categorical_crossentropy', metrics=['accuracy'])"
   ]
  },
  {
   "cell_type": "code",
   "execution_count": 14,
   "metadata": {},
   "outputs": [
    {
     "name": "stdout",
     "output_type": "stream",
     "text": [
      "Train on 8656 samples, validate on 2886 samples\n",
      "Epoch 1/50\n",
      "8656/8656 [==============================] - 59s 7ms/sample - loss: 0.6537 - accuracy: 0.8198 - val_loss: 5.1116 - val_accuracy: 0.2020\n",
      "Epoch 2/50\n",
      "8656/8656 [==============================] - 38s 4ms/sample - loss: 0.2004 - accuracy: 0.9419 - val_loss: 3.4460 - val_accuracy: 0.4040\n",
      "Epoch 3/50\n",
      "8656/8656 [==============================] - 38s 4ms/sample - loss: 0.1809 - accuracy: 0.9478 - val_loss: 6.4323 - val_accuracy: 0.2020\n",
      "Epoch 4/50\n",
      "8656/8656 [==============================] - 39s 4ms/sample - loss: 0.1541 - accuracy: 0.9573 - val_loss: 2.3898 - val_accuracy: 0.5090\n",
      "Epoch 5/50\n",
      "8656/8656 [==============================] - 38s 4ms/sample - loss: 0.1512 - accuracy: 0.9599 - val_loss: 2.1589 - val_accuracy: 0.5270\n",
      "Epoch 6/50\n",
      "8656/8656 [==============================] - 38s 4ms/sample - loss: 0.0939 - accuracy: 0.9777 - val_loss: 1.6058 - val_accuracy: 0.6057\n",
      "Epoch 7/50\n",
      "8656/8656 [==============================] - 38s 4ms/sample - loss: 0.0770 - accuracy: 0.9817 - val_loss: 0.1188 - val_accuracy: 0.9685\n",
      "Epoch 8/50\n",
      "8656/8656 [==============================] - 38s 4ms/sample - loss: 0.0641 - accuracy: 0.9850 - val_loss: 4.1888 - val_accuracy: 0.4040\n",
      "Epoch 9/50\n",
      "8656/8656 [==============================] - 38s 4ms/sample - loss: 0.1184 - accuracy: 0.9711 - val_loss: 2.2827 - val_accuracy: 0.5918\n",
      "Epoch 10/50\n",
      "8656/8656 [==============================] - 38s 4ms/sample - loss: 0.1011 - accuracy: 0.9793 - val_loss: 3.9611 - val_accuracy: 0.4044\n",
      "Epoch 11/50\n",
      "8656/8656 [==============================] - 38s 4ms/sample - loss: 0.1258 - accuracy: 0.9681 - val_loss: 0.6962 - val_accuracy: 0.8167\n",
      "Epoch 12/50\n",
      "8656/8656 [==============================] - 38s 4ms/sample - loss: 0.0661 - accuracy: 0.9853 - val_loss: 0.8397 - val_accuracy: 0.7959\n",
      "Epoch 13/50\n",
      "8656/8656 [==============================] - 39s 4ms/sample - loss: 0.0554 - accuracy: 0.9869 - val_loss: 0.0317 - val_accuracy: 0.9948\n",
      "Epoch 14/50\n",
      "8656/8656 [==============================] - 39s 4ms/sample - loss: 0.0644 - accuracy: 0.9846 - val_loss: 1.2206 - val_accuracy: 0.7086\n",
      "Epoch 15/50\n",
      "8656/8656 [==============================] - 39s 4ms/sample - loss: 0.1042 - accuracy: 0.9778 - val_loss: 0.2939 - val_accuracy: 0.9217\n",
      "Epoch 16/50\n",
      "8656/8656 [==============================] - 39s 4ms/sample - loss: 0.0460 - accuracy: 0.9903 - val_loss: 0.0318 - val_accuracy: 0.9917\n",
      "Epoch 17/50\n",
      "8656/8656 [==============================] - 39s 5ms/sample - loss: 0.0442 - accuracy: 0.9899 - val_loss: 0.0172 - val_accuracy: 0.9965\n",
      "Epoch 18/50\n",
      "8656/8656 [==============================] - 39s 5ms/sample - loss: 0.0263 - accuracy: 0.9941 - val_loss: 0.0209 - val_accuracy: 0.9955\n",
      "Epoch 19/50\n",
      "8656/8656 [==============================] - 39s 5ms/sample - loss: 0.0470 - accuracy: 0.9899 - val_loss: 1.8523 - val_accuracy: 0.6091\n",
      "Epoch 20/50\n",
      "8656/8656 [==============================] - 39s 5ms/sample - loss: 0.0305 - accuracy: 0.9939 - val_loss: 0.1077 - val_accuracy: 0.9737\n",
      "Epoch 21/50\n",
      "8656/8656 [==============================] - 39s 5ms/sample - loss: 0.0297 - accuracy: 0.9941 - val_loss: 0.0290 - val_accuracy: 0.9948\n",
      "Epoch 22/50\n",
      "8656/8656 [==============================] - 39s 4ms/sample - loss: 0.0300 - accuracy: 0.9936 - val_loss: 0.6070 - val_accuracy: 0.8697\n",
      "Epoch 23/50\n",
      "8656/8656 [==============================] - 40s 5ms/sample - loss: 0.0224 - accuracy: 0.9958 - val_loss: 0.0101 - val_accuracy: 0.9983\n",
      "Epoch 24/50\n",
      "8656/8656 [==============================] - 40s 5ms/sample - loss: 0.0280 - accuracy: 0.9939 - val_loss: 1.5858 - val_accuracy: 0.7062\n",
      "Epoch 25/50\n",
      "8656/8656 [==============================] - 39s 5ms/sample - loss: 0.0648 - accuracy: 0.9835 - val_loss: 0.9138 - val_accuracy: 0.8219\n",
      "Epoch 26/50\n",
      "8656/8656 [==============================] - 39s 4ms/sample - loss: 0.0228 - accuracy: 0.9957 - val_loss: 1.0762 - val_accuracy: 0.7658\n",
      "Epoch 27/50\n",
      "8656/8656 [==============================] - 39s 4ms/sample - loss: 0.0240 - accuracy: 0.9951 - val_loss: 0.0153 - val_accuracy: 0.9972\n",
      "Epoch 28/50\n",
      "8656/8656 [==============================] - 39s 4ms/sample - loss: 0.0242 - accuracy: 0.9950 - val_loss: 0.6083 - val_accuracy: 0.8825\n",
      "Epoch 29/50\n",
      "8656/8656 [==============================] - 39s 4ms/sample - loss: 0.0226 - accuracy: 0.9956 - val_loss: 2.1606 - val_accuracy: 0.6074\n",
      "Epoch 30/50\n",
      "8656/8656 [==============================] - 39s 5ms/sample - loss: 0.0242 - accuracy: 0.9947 - val_loss: 0.0221 - val_accuracy: 0.9948\n",
      "Epoch 31/50\n",
      "8656/8656 [==============================] - 39s 5ms/sample - loss: 0.0570 - accuracy: 0.9874 - val_loss: 0.0370 - val_accuracy: 0.9938\n",
      "Epoch 32/50\n",
      "8656/8656 [==============================] - 39s 4ms/sample - loss: 0.0421 - accuracy: 0.9913 - val_loss: 2.9641 - val_accuracy: 0.4962\n",
      "Epoch 33/50\n",
      "8656/8656 [==============================] - 39s 4ms/sample - loss: 0.1048 - accuracy: 0.9792 - val_loss: 4.4591 - val_accuracy: 0.4144\n",
      "Epoch 34/50\n",
      "8656/8656 [==============================] - 39s 5ms/sample - loss: 0.0509 - accuracy: 0.9895 - val_loss: 0.1102 - val_accuracy: 0.9744\n",
      "Epoch 35/50\n",
      "8656/8656 [==============================] - 39s 5ms/sample - loss: 0.0205 - accuracy: 0.9963 - val_loss: 0.0110 - val_accuracy: 0.9983\n",
      "Epoch 36/50\n",
      "8656/8656 [==============================] - 39s 5ms/sample - loss: 0.0412 - accuracy: 0.9909 - val_loss: 0.1353 - val_accuracy: 0.9716\n",
      "Epoch 37/50\n",
      "8656/8656 [==============================] - 39s 4ms/sample - loss: 0.0312 - accuracy: 0.9933 - val_loss: 0.4610 - val_accuracy: 0.9082\n",
      "Epoch 38/50\n",
      "8656/8656 [==============================] - 39s 5ms/sample - loss: 0.0176 - accuracy: 0.9966 - val_loss: 0.3615 - val_accuracy: 0.9276\n",
      "Epoch 39/50\n",
      "8656/8656 [==============================] - 40s 5ms/sample - loss: 0.0183 - accuracy: 0.9963 - val_loss: 0.8038 - val_accuracy: 0.8468\n",
      "Epoch 40/50\n",
      "8656/8656 [==============================] - 40s 5ms/sample - loss: 0.0264 - accuracy: 0.9948 - val_loss: 0.0031 - val_accuracy: 0.9993\n",
      "Epoch 41/50\n",
      "8656/8656 [==============================] - 40s 5ms/sample - loss: 0.0506 - accuracy: 0.9891 - val_loss: 3.6471 - val_accuracy: 0.4674\n",
      "Epoch 42/50\n",
      "8656/8656 [==============================] - 40s 5ms/sample - loss: 0.0110 - accuracy: 0.9977 - val_loss: 0.1736 - val_accuracy: 0.9674\n",
      "Epoch 43/50\n",
      "8656/8656 [==============================] - 39s 5ms/sample - loss: 0.0198 - accuracy: 0.9963 - val_loss: 0.0540 - val_accuracy: 0.9823\n",
      "Epoch 44/50\n",
      "8656/8656 [==============================] - 39s 5ms/sample - loss: 0.0350 - accuracy: 0.9921 - val_loss: 1.8670 - val_accuracy: 0.6684\n",
      "Epoch 45/50\n",
      "8656/8656 [==============================] - 41s 5ms/sample - loss: 0.0146 - accuracy: 0.9972 - val_loss: 0.0152 - val_accuracy: 0.9976\n",
      "Epoch 46/50\n",
      "8656/8656 [==============================] - 42s 5ms/sample - loss: 0.0253 - accuracy: 0.9950 - val_loss: 0.5722 - val_accuracy: 0.8964\n",
      "Epoch 47/50\n",
      "8656/8656 [==============================] - 40s 5ms/sample - loss: 0.0340 - accuracy: 0.9934 - val_loss: 1.7205 - val_accuracy: 0.6344\n",
      "Epoch 48/50\n",
      "8656/8656 [==============================] - 40s 5ms/sample - loss: 0.0180 - accuracy: 0.9966 - val_loss: 0.0667 - val_accuracy: 0.9813\n",
      "Epoch 49/50\n",
      "8656/8656 [==============================] - 40s 5ms/sample - loss: 0.0292 - accuracy: 0.9931 - val_loss: 0.0328 - val_accuracy: 0.9931\n",
      "Epoch 50/50\n",
      "8656/8656 [==============================] - 39s 5ms/sample - loss: 0.0196 - accuracy: 0.9957 - val_loss: 0.0245 - val_accuracy: 0.9951\n"
     ]
    }
   ],
   "source": [
    "history = model.fit(X_train_val, y_train_val, batch_size = 64, epochs = 50, \n",
    "                    validation_split = 0.25, shuffle = True, callbacks = None,\n",
    "                    use_multiprocessing=True, workers=4)"
   ]
  },
  {
   "cell_type": "markdown",
   "metadata": {},
   "source": [
    "## Define function to visualize learning curve and prediction. <br><br>"
   ]
  },
  {
   "cell_type": "code",
   "execution_count": 17,
   "metadata": {},
   "outputs": [],
   "source": [
    "import sys, os\n",
    "sys.path.insert(0,'lib')\n",
    "from evaluation import makeRoc, learningCurveLoss"
   ]
  },
  {
   "cell_type": "code",
   "execution_count": 18,
   "metadata": {},
   "outputs": [
    {
     "data": {
      "image/png": "[encoded data removed]",
      "text/plain": [
       "<Figure size 432x288 with 1 Axes>"
      ]
     },
     "metadata": {
      "needs_background": "light"
     },
     "output_type": "display_data"
    }
   ],
   "source": [
    "learningCurveLoss(history)"
   ]
  },
  {
   "cell_type": "code",
   "execution_count": 19,
   "metadata": {},
   "outputs": [
    {
     "data": {
      "image/png": "[encoded data removed]",
      "text/plain": [
       "<Figure size 432x288 with 1 Axes>"
      ]
     },
     "metadata": {
      "needs_background": "light"
     },
     "output_type": "display_data"
    }
   ],
   "source": [
    "y_pred = makeRoc(X_test, y_test, labels, model, outputSuffix='ResNet50')"
   ]
  },
  {
   "cell_type": "code",
   "execution_count": null,
   "metadata": {},
   "outputs": [],
   "source": []
  }
 ],
 "metadata": {
  "kernelspec": {
   "display_name": "Python 3",
   "language": "python",
   "name": "python3"
  },
  "language_info": {
   "codemirror_mode": {
    "name": "ipython",
    "version": 3
   },
   "file_extension": ".py",
   "mimetype": "text/x-python",
   "name": "python",
   "nbconvert_exporter": "python",
   "pygments_lexer": "ipython3",
   "version": "3.7.9"
  }
 },
 "nbformat": 4,
 "nbformat_minor": 4
}
