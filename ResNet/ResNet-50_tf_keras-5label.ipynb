{
 "cells": [
  {
   "cell_type": "markdown",
   "metadata": {},
   "source": [
    "# Top tagging model with ResNet-50 "
   ]
  },
  {
   "cell_type": "markdown",
   "metadata": {},
   "source": [
    "This is a training script about using top tagging data to train a ResNet-50 Neuron Network. <br>\n",
    "The training is base on Keras and using tensorflow backend to run."
   ]
  },
  {
   "cell_type": "markdown",
   "metadata": {},
   "source": [
    "## Import necessary package and do gpu test."
   ]
  },
  {
   "cell_type": "code",
   "execution_count": 1,
   "metadata": {},
   "outputs": [],
   "source": [
    "import numpy as np\n",
    "import matplotlib.pyplot as plt \n",
    "import pandas as pd \n",
    "\n",
    "import h5py \n",
    "import os\n",
    "import tensorflow as tf\n",
    "from tqdm import tqdm\n"
   ]
  },
  {
   "cell_type": "markdown",
   "metadata": {},
   "source": [
    "## Input data with H5py package\n",
    "Input data size: 1 channel image with shape 224x224. <br>\n",
    "Input label size: 1 or 0 with onehot encoding. <br>\n",
    "\\# of input data(train(with val), test): 30000,6000"
   ]
  },
  {
   "cell_type": "code",
   "execution_count": 2,
   "metadata": {},
   "outputs": [],
   "source": [
    "f = h5py.File('../data/processed-pythia82-lhc13-all-pt1-50k-r1_h022_e0175_t220_nonu_withPars_truth_1.z', 'r')\n",
    "treeArray = f['t_allpar_new'][()]\n",
    "features = ['j1_etarot', 'j1_phirot','j_index']\n",
    "labels = ['j_g', 'j_q', 'j_w', 'j_z', 'j_t', 'j_index']"
   ]
  },
  {
   "cell_type": "code",
   "execution_count": 3,
   "metadata": {},
   "outputs": [],
   "source": [
    "#features_df = pd.DataFrame(treeArray,columns=list(set(features)))\n",
    "#labels_df = pd.DataFrame(treeArray,columns=list(set(labels)))\n",
    "\n",
    "features_labels_df = pd.DataFrame(treeArray,columns = list(set(features + labels)))\n",
    "features_labels_df = features_labels_df.drop_duplicates()\n",
    "\n",
    "features_labels_df = features_labels_df.head(n = 750000)\n",
    "features_df = features_labels_df[features].head(n = 750000)\n",
    "labels_df = features_labels_df[labels].head(n = 750000)"
   ]
  },
  {
   "cell_type": "code",
   "execution_count": 4,
   "metadata": {},
   "outputs": [
    {
     "name": "stderr",
     "output_type": "stream",
     "text": [
      "100%|████████████████████████████████████████████████████████████████████████████| 14489/14489 [04:02<00:00, 59.67it/s]\n"
     ]
    }
   ],
   "source": [
    "MaxParticles = 40\n",
    "BinsX = 224\n",
    "MinX = -0.8\n",
    "MaxX =  0.8\n",
    "BinsY = 224\n",
    "MinY = -1.0\n",
    "MaxY = 1.0\n",
    "\n",
    "# Convert to nparray\n",
    "labels_df = labels_df.drop_duplicates()\n",
    "features_val = features_df.drop(['j_index'],axis=1).values\n",
    "labels_val = labels_df.drop(['j_index'],axis=1).values\n",
    "\n",
    "# get features\n",
    "features_2dval = np.zeros((len(labels_df), BinsX, BinsY))\n",
    "for i in tqdm(range(0, len(labels_df))):\n",
    "    features_df_i = features_df[features_df['j_index'] == labels_df['j_index'].iloc[i]]\n",
    "    index_values = features_df_i.index.values\n",
    "\n",
    "    xbins = np.linspace(MinX, MaxX, BinsX + 1)\n",
    "    ybins = np.linspace(MinY, MaxY, BinsY + 1)\n",
    "\n",
    "    x = features_df_i[features[0]]\n",
    "    y = features_df_i[features[1]]\n",
    "    w = features_df_i[features[2]]\n",
    "\n",
    "    hist, xedges, yedges = np.histogram2d(x, y, weights=w, bins=(xbins, ybins))\n",
    "\n",
    "    for ix in range(0, BinsX):\n",
    "        for iy in range(0, BinsY):\n",
    "            features_2dval[i, ix, iy] = hist[ix, iy]\n",
    "features_val = features_2dval"
   ]
  },
  {
   "cell_type": "code",
   "execution_count": 5,
   "metadata": {},
   "outputs": [
    {
     "data": {
      "text/plain": [
       "(14489, 224, 224)"
      ]
     },
     "execution_count": 5,
     "metadata": {},
     "output_type": "execute_result"
    }
   ],
   "source": [
    "features_val.shape"
   ]
  },
  {
   "cell_type": "code",
   "execution_count": 6,
   "metadata": {},
   "outputs": [],
   "source": [
    "images = np.stack([features_val, features_val, features_val],axis= -1)\n",
    "label = labels_val"
   ]
  },
  {
   "cell_type": "code",
   "execution_count": 7,
   "metadata": {},
   "outputs": [
    {
     "data": {
      "text/plain": [
       "(14489, 224, 224, 3)"
      ]
     },
     "execution_count": 7,
     "metadata": {},
     "output_type": "execute_result"
    }
   ],
   "source": [
    "images.shape"
   ]
  },
  {
   "cell_type": "code",
   "execution_count": 8,
   "metadata": {},
   "outputs": [],
   "source": [
    "from sklearn.model_selection import train_test_split\n",
    "X_train_val, X_test, y_train_val, y_test = train_test_split(images, label, test_size=0.2, random_state=42)"
   ]
  },
  {
   "cell_type": "code",
   "execution_count": 9,
   "metadata": {},
   "outputs": [
    {
     "data": {
      "text/plain": [
       "(11591, 224, 224, 3)"
      ]
     },
     "execution_count": 9,
     "metadata": {},
     "output_type": "execute_result"
    }
   ],
   "source": [
    "X_train_val.shape"
   ]
  },
  {
   "cell_type": "code",
   "execution_count": 10,
   "metadata": {},
   "outputs": [
    {
     "data": {
      "text/plain": [
       "(2898, 224, 224, 3)"
      ]
     },
     "execution_count": 10,
     "metadata": {},
     "output_type": "execute_result"
    }
   ],
   "source": [
    "X_test.shape"
   ]
  },
  {
   "cell_type": "markdown",
   "metadata": {},
   "source": [
    "## Construsting a sequential \n",
    "Construst a model with Keras pre-configured ResNet-50 and one Dense layer with Softmax activation function. <br>\n",
    "Using Earlystopping and custom callback function to prevent training from overfitting and collect ROC/AUC data point. "
   ]
  },
  {
   "cell_type": "code",
   "execution_count": 11,
   "metadata": {},
   "outputs": [
    {
     "name": "stdout",
     "output_type": "stream",
     "text": [
      "Model: \"sequential\"\n",
      "_________________________________________________________________\n",
      "Layer (type)                 Output Shape              Param #   \n",
      "=================================================================\n",
      "resnet50 (Model)             (None, 2048)              27784064  \n",
      "_________________________________________________________________\n",
      "dense (Dense)                (None, 1024)              2098176   \n",
      "_________________________________________________________________\n",
      "flatten (Flatten)            (None, 1024)              0         \n",
      "_________________________________________________________________\n",
      "dense_1 (Dense)              (None, 5)                 5125      \n",
      "=================================================================\n",
      "Total params: 29,887,365\n",
      "Trainable params: 29,834,245\n",
      "Non-trainable params: 53,120\n",
      "_________________________________________________________________\n"
     ]
    }
   ],
   "source": [
    "model = tf.keras.models.Sequential([\n",
    "tf.keras.applications.ResNet50(weights=None, pooling='max',classes=2048),\n",
    "tf.keras.layers.Dense(1024,activation='relu'),\n",
    "tf.keras.layers.Flatten(),\n",
    "tf.keras.layers.Dense(5, activation='softmax'),\n",
    "])\n",
    "model.summary()\n",
    "\n"
   ]
  },
  {
   "cell_type": "code",
   "execution_count": 12,
   "metadata": {},
   "outputs": [],
   "source": [
    "from tensorflow.keras.optimizers import Adam\n",
    "adam = Adam(lr = 0.0001)\n",
    "model.compile(optimizer='adam', loss='categorical_crossentropy', metrics=['accuracy'])"
   ]
  },
  {
   "cell_type": "code",
   "execution_count": 13,
   "metadata": {},
   "outputs": [
    {
     "name": "stdout",
     "output_type": "stream",
     "text": [
      "Train on 8693 samples, validate on 2898 samples\n",
      "Epoch 1/50\n",
      "8693/8693 [==============================] - 61s 7ms/sample - loss: 0.6378 - accuracy: 0.8511 - val_loss: 3.9387 - val_accuracy: 0.2026\n",
      "Epoch 2/50\n",
      "8693/8693 [==============================] - 39s 4ms/sample - loss: 0.2067 - accuracy: 0.9446 - val_loss: 3.3206 - val_accuracy: 0.4124\n",
      "Epoch 3/50\n",
      "8693/8693 [==============================] - 38s 4ms/sample - loss: 0.1706 - accuracy: 0.9557 - val_loss: 3.4670 - val_accuracy: 0.4124\n",
      "Epoch 4/50\n",
      "8693/8693 [==============================] - 38s 4ms/sample - loss: 0.1045 - accuracy: 0.9724 - val_loss: 1.4595 - val_accuracy: 0.6035\n",
      "Epoch 5/50\n",
      "8693/8693 [==============================] - 38s 4ms/sample - loss: 0.1346 - accuracy: 0.9648 - val_loss: 2.7653 - val_accuracy: 0.3713\n",
      "Epoch 6/50\n",
      "8693/8693 [==============================] - 39s 4ms/sample - loss: 0.0807 - accuracy: 0.9812 - val_loss: 0.0439 - val_accuracy: 0.9910\n",
      "Epoch 7/50\n",
      "8693/8693 [==============================] - 38s 4ms/sample - loss: 0.0631 - accuracy: 0.9864 - val_loss: 2.0285 - val_accuracy: 0.7767\n",
      "Epoch 8/50\n",
      "8693/8693 [==============================] - 39s 4ms/sample - loss: 0.1433 - accuracy: 0.9651 - val_loss: 2.3371 - val_accuracy: 0.5290\n",
      "Epoch 9/50\n",
      "8693/8693 [==============================] - 39s 4ms/sample - loss: 0.0936 - accuracy: 0.9775 - val_loss: 0.0967 - val_accuracy: 0.9741\n",
      "Epoch 10/50\n",
      "8693/8693 [==============================] - 39s 4ms/sample - loss: 0.0906 - accuracy: 0.9787 - val_loss: 0.8770 - val_accuracy: 0.7688\n",
      "Epoch 11/50\n",
      "8693/8693 [==============================] - 39s 4ms/sample - loss: 0.0677 - accuracy: 0.9846 - val_loss: 2.7666 - val_accuracy: 0.6063\n",
      "Epoch 12/50\n",
      "8693/8693 [==============================] - 39s 4ms/sample - loss: 0.0833 - accuracy: 0.9795 - val_loss: 0.3856 - val_accuracy: 0.9048\n",
      "Epoch 13/50\n",
      "8693/8693 [==============================] - 39s 4ms/sample - loss: 0.0498 - accuracy: 0.9895 - val_loss: 0.8195 - val_accuracy: 0.9044\n",
      "Epoch 14/50\n",
      "8693/8693 [==============================] - 39s 4ms/sample - loss: 0.0364 - accuracy: 0.9919 - val_loss: 0.0150 - val_accuracy: 0.9976\n",
      "Epoch 15/50\n",
      "8693/8693 [==============================] - 39s 4ms/sample - loss: 0.0350 - accuracy: 0.9923 - val_loss: 0.0581 - val_accuracy: 0.9883\n",
      "Epoch 16/50\n",
      "8693/8693 [==============================] - 39s 4ms/sample - loss: 0.1450 - accuracy: 0.9649 - val_loss: 4.4238 - val_accuracy: 0.4003\n",
      "Epoch 17/50\n",
      "8693/8693 [==============================] - 39s 4ms/sample - loss: 0.0389 - accuracy: 0.9914 - val_loss: 0.0473 - val_accuracy: 0.9903\n",
      "Epoch 18/50\n",
      "8693/8693 [==============================] - 39s 4ms/sample - loss: 0.0479 - accuracy: 0.9884 - val_loss: 0.5053 - val_accuracy: 0.9013\n",
      "Epoch 19/50\n",
      "8693/8693 [==============================] - 39s 4ms/sample - loss: 0.0393 - accuracy: 0.9915 - val_loss: 0.0253 - val_accuracy: 0.9945\n",
      "Epoch 20/50\n",
      "8693/8693 [==============================] - 39s 4ms/sample - loss: 0.0515 - accuracy: 0.9882 - val_loss: 0.0719 - val_accuracy: 0.9841\n",
      "Epoch 21/50\n",
      "8693/8693 [==============================] - 39s 4ms/sample - loss: 0.0394 - accuracy: 0.9906 - val_loss: 0.0896 - val_accuracy: 0.9807\n",
      "Epoch 22/50\n",
      "8693/8693 [==============================] - 39s 4ms/sample - loss: 0.0277 - accuracy: 0.9945 - val_loss: 0.0244 - val_accuracy: 0.9945\n",
      "Epoch 23/50\n",
      "8693/8693 [==============================] - 39s 4ms/sample - loss: 0.0253 - accuracy: 0.9946 - val_loss: 0.0568 - val_accuracy: 0.9859\n",
      "Epoch 24/50\n",
      "8693/8693 [==============================] - 39s 4ms/sample - loss: 0.0243 - accuracy: 0.9952 - val_loss: 0.0236 - val_accuracy: 0.9948\n",
      "Epoch 25/50\n",
      "8693/8693 [==============================] - 39s 4ms/sample - loss: 0.0445 - accuracy: 0.9896 - val_loss: 1.1997 - val_accuracy: 0.7612\n",
      "Epoch 26/50\n",
      "8693/8693 [==============================] - 39s 4ms/sample - loss: 0.0323 - accuracy: 0.9933 - val_loss: 0.0297 - val_accuracy: 0.9934\n",
      "Epoch 27/50\n",
      "8693/8693 [==============================] - 38s 4ms/sample - loss: 0.0271 - accuracy: 0.9938 - val_loss: 0.0619 - val_accuracy: 0.9838\n",
      "Epoch 28/50\n",
      "8693/8693 [==============================] - 38s 4ms/sample - loss: 0.0331 - accuracy: 0.9933 - val_loss: 0.0085 - val_accuracy: 0.9983\n",
      "Epoch 29/50\n",
      "8693/8693 [==============================] - 38s 4ms/sample - loss: 0.0210 - accuracy: 0.9955 - val_loss: 0.0458 - val_accuracy: 0.9900\n",
      "Epoch 30/50\n",
      "8693/8693 [==============================] - 38s 4ms/sample - loss: 0.0158 - accuracy: 0.9967 - val_loss: 0.0252 - val_accuracy: 0.9941\n",
      "Epoch 31/50\n",
      "8693/8693 [==============================] - 38s 4ms/sample - loss: 0.0241 - accuracy: 0.9953 - val_loss: 0.0192 - val_accuracy: 0.9969\n",
      "Epoch 32/50\n",
      "8693/8693 [==============================] - 38s 4ms/sample - loss: 0.0254 - accuracy: 0.9946 - val_loss: 0.0158 - val_accuracy: 0.9969\n",
      "Epoch 33/50\n",
      "8693/8693 [==============================] - 39s 4ms/sample - loss: 0.0277 - accuracy: 0.9941 - val_loss: 0.5808 - val_accuracy: 0.8627\n",
      "Epoch 34/50\n",
      "8693/8693 [==============================] - 39s 4ms/sample - loss: 0.0325 - accuracy: 0.9928 - val_loss: 0.1248 - val_accuracy: 0.9710\n",
      "Epoch 35/50\n",
      "8693/8693 [==============================] - 39s 4ms/sample - loss: 0.0294 - accuracy: 0.9941 - val_loss: 0.0542 - val_accuracy: 0.9869\n",
      "Epoch 36/50\n",
      "8693/8693 [==============================] - 39s 4ms/sample - loss: 0.0127 - accuracy: 0.9975 - val_loss: 0.0174 - val_accuracy: 0.9969\n",
      "Epoch 37/50\n",
      "8693/8693 [==============================] - 39s 4ms/sample - loss: 0.1147 - accuracy: 0.9685 - val_loss: 4.1790 - val_accuracy: 0.3903\n",
      "Epoch 38/50\n",
      "8693/8693 [==============================] - 39s 4ms/sample - loss: 0.0998 - accuracy: 0.9749 - val_loss: 3.4815 - val_accuracy: 0.5135\n",
      "Epoch 39/50\n",
      "8693/8693 [==============================] - 39s 4ms/sample - loss: 0.0639 - accuracy: 0.9842 - val_loss: 0.0205 - val_accuracy: 0.9962\n",
      "Epoch 40/50\n",
      "8693/8693 [==============================] - 39s 4ms/sample - loss: 0.0403 - accuracy: 0.9918 - val_loss: 0.0889 - val_accuracy: 0.9710\n",
      "Epoch 41/50\n",
      "8693/8693 [==============================] - 39s 4ms/sample - loss: 0.0315 - accuracy: 0.9937 - val_loss: 0.0274 - val_accuracy: 0.9938\n",
      "Epoch 42/50\n",
      "8693/8693 [==============================] - 39s 4ms/sample - loss: 0.0154 - accuracy: 0.9970 - val_loss: 0.0071 - val_accuracy: 0.9990\n",
      "Epoch 43/50\n",
      "8693/8693 [==============================] - 39s 4ms/sample - loss: 0.0549 - accuracy: 0.9875 - val_loss: 0.0287 - val_accuracy: 0.9938\n",
      "Epoch 44/50\n",
      "8693/8693 [==============================] - 39s 4ms/sample - loss: 0.0236 - accuracy: 0.9945 - val_loss: 1.3576 - val_accuracy: 0.7139\n",
      "Epoch 45/50\n",
      "8693/8693 [==============================] - 39s 4ms/sample - loss: 0.0289 - accuracy: 0.9936 - val_loss: 2.3094 - val_accuracy: 0.5176\n",
      "Epoch 46/50\n",
      "8693/8693 [==============================] - 39s 4ms/sample - loss: 0.0273 - accuracy: 0.9938 - val_loss: 0.0146 - val_accuracy: 0.9976\n",
      "Epoch 47/50\n",
      "8693/8693 [==============================] - 39s 4ms/sample - loss: 0.0177 - accuracy: 0.9968 - val_loss: 0.0887 - val_accuracy: 0.9852\n",
      "Epoch 48/50\n",
      "8693/8693 [==============================] - 39s 4ms/sample - loss: 0.0548 - accuracy: 0.9894 - val_loss: 1.3718 - val_accuracy: 0.6442\n",
      "Epoch 49/50\n",
      "8693/8693 [==============================] - 39s 4ms/sample - loss: 0.0320 - accuracy: 0.9929 - val_loss: 0.0285 - val_accuracy: 0.9928\n",
      "Epoch 50/50\n",
      "8693/8693 [==============================] - 38s 4ms/sample - loss: 0.0346 - accuracy: 0.9923 - val_loss: 0.0113 - val_accuracy: 0.9983\n"
     ]
    }
   ],
   "source": [
    "history = model.fit(X_train_val, y_train_val, batch_size = 64, epochs = 50, \n",
    "                    validation_split = 0.25, shuffle = True, callbacks = None,\n",
    "                    use_multiprocessing=True, workers=4)"
   ]
  },
  {
   "cell_type": "markdown",
   "metadata": {},
   "source": [
    "## Define function to visualize learning curve and prediction. <br><br>"
   ]
  },
  {
   "cell_type": "code",
   "execution_count": 15,
   "metadata": {},
   "outputs": [
    {
     "name": "stderr",
     "output_type": "stream",
     "text": [
      "Using TensorFlow backend.\n"
     ]
    }
   ],
   "source": [
    "import sys, os\n",
    "sys.path.insert(0,'../lib')\n",
    "from evaluation import makeRoc, learningCurveLoss"
   ]
  },
  {
   "cell_type": "code",
   "execution_count": 16,
   "metadata": {},
   "outputs": [
    {
     "data": {
      "image/png": "[encoded data removed]",
      "text/plain": [
       "<Figure size 432x288 with 1 Axes>"
      ]
     },
     "metadata": {
      "needs_background": "light"
     },
     "output_type": "display_data"
    }
   ],
   "source": [
    "learningCurveLoss(history)"
   ]
  },
  {
   "cell_type": "code",
   "execution_count": 17,
   "metadata": {},
   "outputs": [
    {
     "data": {
      "image/png": "[encoded data removed]",
      "text/plain": [
       "<Figure size 432x288 with 1 Axes>"
      ]
     },
     "metadata": {
      "needs_background": "light"
     },
     "output_type": "display_data"
    }
   ],
   "source": [
    "y_pred = makeRoc(X_test, y_test, labels, model, outputSuffix='ResNet50')"
   ]
  },
  {
   "cell_type": "code",
   "execution_count": 18,
   "metadata": {},
   "outputs": [],
   "source": [
    "best_prediction = model.predict(X_test)"
   ]
  },
  {
   "cell_type": "code",
   "execution_count": 19,
   "metadata": {},
   "outputs": [
    {
     "data": {
      "text/plain": [
       "<matplotlib.legend.Legend at 0x23735a08808>"
      ]
     },
     "execution_count": 19,
     "metadata": {},
     "output_type": "execute_result"
    },
    {
     "data": {
      "image/png": "[encoded data removed]",
      "text/plain": [
       "<Figure size 432x288 with 1 Axes>"
      ]
     },
     "metadata": {
      "needs_background": "light"
     },
     "output_type": "display_data"
    }
   ],
   "source": [
    "kwargs = dict(histtype='stepfilled', alpha=0.3, density=True, bins=100)\n",
    "plt.hist(best_prediction[:,0],**kwargs,label='g')\n",
    "plt.hist(best_prediction[:,1],**kwargs,label='q')\n",
    "plt.hist(best_prediction[:,2],**kwargs,label='w')\n",
    "plt.hist(best_prediction[:,3],**kwargs,label='z')\n",
    "plt.hist(best_prediction[:,4],**kwargs,label='t')\n",
    "plt.yscale('log')\n",
    "plt.xlim(0.0,1.0)\n",
    "plt.legend(loc='upper right')"
   ]
  },
  {
   "cell_type": "code",
   "execution_count": 20,
   "metadata": {},
   "outputs": [],
   "source": [
    "model.save('ResNet50_224_750000.h5')\n",
    "model.save_weights('ResNet50_224_750000_weights.h5')"
   ]
  },
  {
   "cell_type": "code",
   "execution_count": null,
   "metadata": {},
   "outputs": [],
   "source": []
  }
 ],
 "metadata": {
  "kernelspec": {
   "display_name": "Python 3.7 (tensorflow)",
   "language": "python",
   "name": "tensorflow"
  },
  "language_info": {
   "codemirror_mode": {
    "name": "ipython",
    "version": 3
   },
   "file_extension": ".py",
   "mimetype": "text/x-python",
   "name": "python",
   "nbconvert_exporter": "python",
   "pygments_lexer": "ipython3",
   "version": "3.7.9"
  }
 },
 "nbformat": 4,
 "nbformat_minor": 4
}
