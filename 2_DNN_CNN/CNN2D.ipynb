{
 "cells": [
  {
   "cell_type": "code",
   "execution_count": 1,
   "metadata": {},
   "outputs": [
    {
     "name": "stderr",
     "output_type": "stream",
     "text": [
      "Using TensorFlow backend.\n"
     ]
    }
   ],
   "source": [
    "import tensorflow as tf\n",
    "import keras\n",
    "from keras.layers import Input, Dense, Flatten, Conv2D\n",
    "from keras.models import Model\n",
    "from keras.regularizers import l1\n",
    "from keras.optimizers import Adam\n",
    "from sklearn.model_selection import train_test_split\n",
    "import os, sys\n",
    "import h5py\n",
    "import pandas as pd\n",
    "import numpy as np\n",
    "from sklearn import preprocessing\n",
    "import matplotlib.pyplot as plt\n",
    "sys.path.insert(0,'../lib')"
   ]
  },
  {
   "cell_type": "code",
   "execution_count": 2,
   "metadata": {},
   "outputs": [
    {
     "name": "stdout",
     "output_type": "stream",
     "text": [
      "(24816, 5)\n"
     ]
    }
   ],
   "source": [
    "f = h5py.File('../processed-pythia82-lhc13-all-pt1-50k-r1_h022_e0175_t220_nonu_withPars_truth.z', 'r')\n",
    "treeArray = f['t_allpar_new'][()]\n",
    "\n",
    "features = ['j1_etarot', 'j1_phirot', 'j1_ptrel', 'j_index']\n",
    "labels = ['j_g', 'j_q', 'j_w', 'j_z', 'j_t', 'j_index']\n",
    "\n",
    "features_labels_df = pd.DataFrame(treeArray,columns=list(set(features+labels)))\n",
    "features_labels_df = features_labels_df.drop_duplicates()\n",
    "\n",
    "features_df = features_labels_df[features]\n",
    "labels_df = features_labels_df[labels]\n",
    "\n",
    "labels_df = labels_df.drop_duplicates()\n",
    "\n",
    "# Convert to numpy array \n",
    "features_val = features_df.values\n",
    "labels_val = labels_df.values    \n",
    "\n",
    "if 'j_index' in features:\n",
    "    features_val = features_val[:,:-1] # drop the j_index feature\n",
    "if 'j_index' in labels:\n",
    "    labels_val = labels_val[:,:-1] # drop the j_index label\n",
    "    print(labels_val.shape)"
   ]
  },
  {
   "cell_type": "code",
   "execution_count": 3,
   "metadata": {},
   "outputs": [],
   "source": [
    "BinsX = 40\n",
    "BinsY = 40\n",
    "MinX = -0.8\n",
    "MaxX = 0.8\n",
    "MinY = -1.0\n",
    "MaxY = 1.0\n",
    "features_2dval = np.zeros((len(labels_df), BinsX, BinsY, 1))\n",
    "for i in range(0, len(labels_df)):\n",
    "    features_df_i = features_df[features_df['j_index']==labels_df['j_index'].iloc[i]]\n",
    "    index_values = features_df_i.index.values\n",
    "\n",
    "    xbins = np.linspace(MinX,MaxX,BinsX+1)\n",
    "    ybins = np.linspace(MinY,MaxY,BinsY+1)\n",
    "\n",
    "    x = features_df_i[features[0]]           \n",
    "    y = features_df_i[features[1]]\n",
    "    w = features_df_i[features[2]]\n",
    "\n",
    "    hist, xedges, yedges = np.histogram2d(x, y, weights=w, bins=(xbins,ybins))\n",
    "\n",
    "    for ix in range(0,BinsX):\n",
    "        for iy in range(0,BinsY):\n",
    "            features_2dval[i,ix,iy,0] = hist[ix,iy]\n",
    "features_val = features_2dval"
   ]
  },
  {
   "cell_type": "code",
   "execution_count": 4,
   "metadata": {},
   "outputs": [],
   "source": [
    "X_train_val, X_test, y_train_val, y_test = train_test_split(features_val, labels_val, test_size=0.2, random_state=42)"
   ]
  },
  {
   "cell_type": "code",
   "execution_count": 5,
   "metadata": {},
   "outputs": [],
   "source": [
    "if 'j_index' in labels:\n",
    "    labels = labels[:-1]"
   ]
  },
  {
   "cell_type": "code",
   "execution_count": 6,
   "metadata": {},
   "outputs": [
    {
     "name": "stdout",
     "output_type": "stream",
     "text": [
      "Model: \"model\"\n",
      "_________________________________________________________________\n",
      "Layer (type)                 Output Shape              Param #   \n",
      "=================================================================\n",
      "input_1 (InputLayer)         [(None, 40, 40, 1)]       0         \n",
      "_________________________________________________________________\n",
      "conv1_relu (Conv2D)          (None, 40, 40, 8)         976       \n",
      "_________________________________________________________________\n",
      "conv2_relu (Conv2D)          (None, 20, 20, 4)         292       \n",
      "_________________________________________________________________\n",
      "conv3_relu (Conv2D)          (None, 10, 10, 2)         74        \n",
      "_________________________________________________________________\n",
      "flatten (Flatten)            (None, 200)               0         \n",
      "_________________________________________________________________\n",
      "dense (Dense)                (None, 32)                6432      \n",
      "_________________________________________________________________\n",
      "output_softmax (Dense)       (None, 5)                 165       \n",
      "=================================================================\n",
      "Total params: 7,939\n",
      "Trainable params: 7,939\n",
      "Non-trainable params: 0\n",
      "_________________________________________________________________\n",
      "None\n"
     ]
    }
   ],
   "source": [
    "Inputs = Input(shape=(40, 40, 1,))\n",
    "x = Conv2D(filters=8, kernel_size=(11,11), strides=(1,1), padding='same',\n",
    "           kernel_initializer='he_normal', use_bias=True, name='conv1_relu',\n",
    "           activation = 'relu')(Inputs)\n",
    "x = Conv2D(filters=4, kernel_size=(3,3), strides=(2,2), padding='same',\n",
    "           kernel_initializer='he_normal', use_bias=True, name='conv2_relu',\n",
    "           activation = 'relu')(x)\n",
    "x = Conv2D(filters=2, kernel_size=(3,3), strides=(2,2), padding='same',\n",
    "           kernel_initializer='he_normal', use_bias=True, name='conv3_relu',\n",
    "           activation = 'relu')(x)\n",
    "x = Flatten()(x)\n",
    "x = Dense(32, activation='relu')(x)\n",
    "predictions = Dense(5, activation='softmax', kernel_initializer='lecun_uniform', name='output_softmax')(x)\n",
    "model = Model(inputs=Inputs, outputs=predictions)\n",
    "print(model.summary())"
   ]
  },
  {
   "cell_type": "code",
   "execution_count": 7,
   "metadata": {},
   "outputs": [],
   "source": [
    "adam = Adam(lr=0.0001)\n",
    "model.compile(optimizer=adam, loss='categorical_crossentropy', metrics=['accuracy'])"
   ]
  },
  {
   "cell_type": "code",
   "execution_count": 8,
   "metadata": {},
   "outputs": [
    {
     "name": "stdout",
     "output_type": "stream",
     "text": [
      "Epoch 1/100\n",
      "15/15 [==============================] - 1s 39ms/step - loss: 1.6067 - accuracy: 0.1770 - val_loss: 1.6031 - val_accuracy: 0.3415\n",
      "Epoch 2/100\n",
      "15/15 [==============================] - 0s 17ms/step - loss: 1.5983 - accuracy: 0.6103 - val_loss: 1.5938 - val_accuracy: 0.8803\n",
      "Epoch 3/100\n",
      "15/15 [==============================] - 0s 17ms/step - loss: 1.5875 - accuracy: 0.8998 - val_loss: 1.5802 - val_accuracy: 0.8964\n",
      "Epoch 4/100\n",
      "15/15 [==============================] - 0s 17ms/step - loss: 1.5702 - accuracy: 0.9009 - val_loss: 1.5574 - val_accuracy: 0.8962\n",
      "Epoch 5/100\n",
      "15/15 [==============================] - 0s 17ms/step - loss: 1.5427 - accuracy: 0.9005 - val_loss: 1.5235 - val_accuracy: 0.8964\n",
      "Epoch 6/100\n",
      "15/15 [==============================] - 0s 15ms/step - loss: 1.5040 - accuracy: 0.8999 - val_loss: 1.4782 - val_accuracy: 0.8904\n",
      "Epoch 7/100\n",
      "15/15 [==============================] - 0s 16ms/step - loss: 1.4532 - accuracy: 0.8912 - val_loss: 1.4201 - val_accuracy: 0.8777\n",
      "Epoch 8/100\n",
      "15/15 [==============================] - 0s 16ms/step - loss: 1.3885 - accuracy: 0.8717 - val_loss: 1.3460 - val_accuracy: 0.8594\n",
      "Epoch 9/100\n",
      "15/15 [==============================] - 0s 16ms/step - loss: 1.3060 - accuracy: 0.8573 - val_loss: 1.2532 - val_accuracy: 0.8503\n",
      "Epoch 10/100\n",
      "15/15 [==============================] - 0s 17ms/step - loss: 1.2052 - accuracy: 0.8476 - val_loss: 1.1432 - val_accuracy: 0.8434\n",
      "Epoch 11/100\n",
      "15/15 [==============================] - 0s 16ms/step - loss: 1.0886 - accuracy: 0.8389 - val_loss: 1.0184 - val_accuracy: 0.8368\n",
      "Epoch 12/100\n",
      "15/15 [==============================] - 0s 15ms/step - loss: 0.9599 - accuracy: 0.8328 - val_loss: 0.8859 - val_accuracy: 0.8301\n",
      "Epoch 13/100\n",
      "15/15 [==============================] - 0s 15ms/step - loss: 0.8277 - accuracy: 0.8267 - val_loss: 0.7553 - val_accuracy: 0.8263\n",
      "Epoch 14/100\n",
      "15/15 [==============================] - 0s 15ms/step - loss: 0.7021 - accuracy: 0.8252 - val_loss: 0.6368 - val_accuracy: 0.8285\n",
      "Epoch 15/100\n",
      "15/15 [==============================] - 0s 14ms/step - loss: 0.5926 - accuracy: 0.8330 - val_loss: 0.5380 - val_accuracy: 0.8418\n",
      "Epoch 16/100\n",
      "15/15 [==============================] - 0s 17ms/step - loss: 0.5036 - accuracy: 0.8502 - val_loss: 0.4599 - val_accuracy: 0.8610\n",
      "Epoch 17/100\n",
      "15/15 [==============================] - 0s 15ms/step - loss: 0.4331 - accuracy: 0.8639 - val_loss: 0.3967 - val_accuracy: 0.8686\n",
      "Epoch 18/100\n",
      "15/15 [==============================] - 0s 15ms/step - loss: 0.3762 - accuracy: 0.8723 - val_loss: 0.3474 - val_accuracy: 0.8785\n",
      "Epoch 19/100\n",
      "15/15 [==============================] - 0s 16ms/step - loss: 0.3323 - accuracy: 0.8919 - val_loss: 0.3094 - val_accuracy: 0.9089\n",
      "Epoch 20/100\n",
      "15/15 [==============================] - 0s 16ms/step - loss: 0.2978 - accuracy: 0.9225 - val_loss: 0.2792 - val_accuracy: 0.9377\n",
      "Epoch 21/100\n",
      "15/15 [==============================] - 0s 16ms/step - loss: 0.2696 - accuracy: 0.9467 - val_loss: 0.2539 - val_accuracy: 0.9569\n",
      "Epoch 22/100\n",
      "15/15 [==============================] - 0s 17ms/step - loss: 0.2453 - accuracy: 0.9659 - val_loss: 0.2315 - val_accuracy: 0.9748\n",
      "Epoch 23/100\n",
      "15/15 [==============================] - 0s 15ms/step - loss: 0.2238 - accuracy: 0.9819 - val_loss: 0.2120 - val_accuracy: 0.9825\n",
      "Epoch 24/100\n",
      "15/15 [==============================] - 0s 15ms/step - loss: 0.2050 - accuracy: 0.9859 - val_loss: 0.1945 - val_accuracy: 0.9873\n",
      "Epoch 25/100\n",
      "15/15 [==============================] - 0s 15ms/step - loss: 0.1879 - accuracy: 0.9913 - val_loss: 0.1786 - val_accuracy: 0.9931\n",
      "Epoch 26/100\n",
      "15/15 [==============================] - 0s 16ms/step - loss: 0.1725 - accuracy: 0.9939 - val_loss: 0.1642 - val_accuracy: 0.9936\n",
      "Epoch 27/100\n",
      "15/15 [==============================] - 0s 16ms/step - loss: 0.1584 - accuracy: 0.9946 - val_loss: 0.1511 - val_accuracy: 0.9948\n",
      "Epoch 28/100\n",
      "15/15 [==============================] - 0s 17ms/step - loss: 0.1457 - accuracy: 0.9960 - val_loss: 0.1396 - val_accuracy: 0.9956\n",
      "Epoch 29/100\n",
      "15/15 [==============================] - 0s 16ms/step - loss: 0.1343 - accuracy: 0.9971 - val_loss: 0.1289 - val_accuracy: 0.9982\n",
      "Epoch 30/100\n",
      "15/15 [==============================] - 0s 15ms/step - loss: 0.1239 - accuracy: 0.9975 - val_loss: 0.1193 - val_accuracy: 0.9990\n",
      "Epoch 31/100\n",
      "15/15 [==============================] - 0s 16ms/step - loss: 0.1145 - accuracy: 0.9981 - val_loss: 0.1105 - val_accuracy: 0.9990\n",
      "Epoch 32/100\n",
      "15/15 [==============================] - 0s 16ms/step - loss: 0.1058 - accuracy: 0.9983 - val_loss: 0.1023 - val_accuracy: 0.9994\n",
      "Epoch 33/100\n",
      "15/15 [==============================] - ETA: 0s - loss: 0.0976 - accuracy: 0.99 - 0s 17ms/step - loss: 0.0978 - accuracy: 0.9988 - val_loss: 0.0948 - val_accuracy: 0.9994\n",
      "Epoch 34/100\n",
      "15/15 [==============================] - 0s 16ms/step - loss: 0.0905 - accuracy: 0.9989 - val_loss: 0.0880 - val_accuracy: 0.9994\n",
      "Epoch 35/100\n",
      "15/15 [==============================] - 0s 16ms/step - loss: 0.0837 - accuracy: 0.9990 - val_loss: 0.0817 - val_accuracy: 0.9996\n",
      "Epoch 36/100\n",
      "15/15 [==============================] - 0s 16ms/step - loss: 0.0776 - accuracy: 0.9991 - val_loss: 0.0759 - val_accuracy: 0.9996\n",
      "Epoch 37/100\n",
      "15/15 [==============================] - 0s 16ms/step - loss: 0.0719 - accuracy: 0.9992 - val_loss: 0.0706 - val_accuracy: 0.9996\n",
      "Epoch 38/100\n",
      "15/15 [==============================] - 0s 16ms/step - loss: 0.0668 - accuracy: 0.9993 - val_loss: 0.0658 - val_accuracy: 0.9996\n",
      "Epoch 39/100\n",
      "15/15 [==============================] - 0s 15ms/step - loss: 0.0620 - accuracy: 0.9994 - val_loss: 0.0613 - val_accuracy: 0.9996\n",
      "Epoch 40/100\n",
      "15/15 [==============================] - 0s 16ms/step - loss: 0.0577 - accuracy: 0.9994 - val_loss: 0.0572 - val_accuracy: 0.9996\n",
      "Epoch 41/100\n",
      "15/15 [==============================] - 0s 15ms/step - loss: 0.0537 - accuracy: 0.9995 - val_loss: 0.0533 - val_accuracy: 0.9994\n",
      "Epoch 42/100\n",
      "15/15 [==============================] - 0s 16ms/step - loss: 0.0498 - accuracy: 0.9995 - val_loss: 0.0498 - val_accuracy: 0.9994\n",
      "Epoch 43/100\n",
      "15/15 [==============================] - 0s 15ms/step - loss: 0.0464 - accuracy: 0.9996 - val_loss: 0.0465 - val_accuracy: 0.9996\n",
      "Epoch 44/100\n",
      "15/15 [==============================] - 0s 16ms/step - loss: 0.0433 - accuracy: 0.9996 - val_loss: 0.0437 - val_accuracy: 0.9996\n",
      "Epoch 45/100\n",
      "15/15 [==============================] - 0s 16ms/step - loss: 0.0404 - accuracy: 0.9996 - val_loss: 0.0409 - val_accuracy: 0.9996\n",
      "Epoch 46/100\n",
      "15/15 [==============================] - 0s 16ms/step - loss: 0.0378 - accuracy: 0.9996 - val_loss: 0.0385 - val_accuracy: 0.9996\n",
      "Epoch 47/100\n",
      "15/15 [==============================] - 0s 15ms/step - loss: 0.0354 - accuracy: 0.9996 - val_loss: 0.0362 - val_accuracy: 0.9996\n",
      "Epoch 48/100\n",
      "15/15 [==============================] - 0s 15ms/step - loss: 0.0332 - accuracy: 0.9996 - val_loss: 0.0341 - val_accuracy: 0.9996\n",
      "Epoch 49/100\n",
      "15/15 [==============================] - 0s 15ms/step - loss: 0.0312 - accuracy: 0.9996 - val_loss: 0.0322 - val_accuracy: 0.9996\n",
      "Epoch 50/100\n",
      "15/15 [==============================] - 0s 16ms/step - loss: 0.0293 - accuracy: 0.9996 - val_loss: 0.0304 - val_accuracy: 0.9996\n",
      "Epoch 51/100\n",
      "15/15 [==============================] - 0s 16ms/step - loss: 0.0276 - accuracy: 0.9997 - val_loss: 0.0288 - val_accuracy: 0.9996\n",
      "Epoch 52/100\n",
      "15/15 [==============================] - 0s 17ms/step - loss: 0.0260 - accuracy: 0.9997 - val_loss: 0.0273 - val_accuracy: 0.9996\n",
      "Epoch 53/100\n",
      "15/15 [==============================] - 0s 19ms/step - loss: 0.0246 - accuracy: 0.9997 - val_loss: 0.0259 - val_accuracy: 0.9996\n",
      "Epoch 54/100\n",
      "15/15 [==============================] - 0s 17ms/step - loss: 0.0232 - accuracy: 0.9997 - val_loss: 0.0246 - val_accuracy: 0.9996\n",
      "Epoch 55/100\n",
      "15/15 [==============================] - 0s 17ms/step - loss: 0.0219 - accuracy: 0.9997 - val_loss: 0.0235 - val_accuracy: 0.9996\n",
      "Epoch 56/100\n",
      "15/15 [==============================] - 0s 17ms/step - loss: 0.0208 - accuracy: 0.9997 - val_loss: 0.0224 - val_accuracy: 0.9996\n",
      "Epoch 57/100\n",
      "15/15 [==============================] - 0s 17ms/step - loss: 0.0197 - accuracy: 0.9997 - val_loss: 0.0214 - val_accuracy: 0.9996\n",
      "Epoch 58/100\n"
     ]
    },
    {
     "name": "stdout",
     "output_type": "stream",
     "text": [
      "15/15 [==============================] - 0s 17ms/step - loss: 0.0187 - accuracy: 0.9997 - val_loss: 0.0204 - val_accuracy: 0.9996\n",
      "Epoch 59/100\n",
      "15/15 [==============================] - 0s 17ms/step - loss: 0.0178 - accuracy: 0.9997 - val_loss: 0.0195 - val_accuracy: 0.9996\n",
      "Epoch 60/100\n",
      "15/15 [==============================] - 0s 17ms/step - loss: 0.0169 - accuracy: 0.9997 - val_loss: 0.0187 - val_accuracy: 0.9996\n",
      "Epoch 61/100\n",
      "15/15 [==============================] - 0s 16ms/step - loss: 0.0161 - accuracy: 0.9997 - val_loss: 0.0180 - val_accuracy: 0.9996\n",
      "Epoch 62/100\n",
      "15/15 [==============================] - 0s 15ms/step - loss: 0.0154 - accuracy: 0.9997 - val_loss: 0.0173 - val_accuracy: 0.9996\n",
      "Epoch 63/100\n",
      "15/15 [==============================] - 0s 16ms/step - loss: 0.0147 - accuracy: 0.9997 - val_loss: 0.0166 - val_accuracy: 0.9996\n",
      "Epoch 64/100\n",
      "15/15 [==============================] - 0s 17ms/step - loss: 0.0140 - accuracy: 0.9997 - val_loss: 0.0160 - val_accuracy: 0.9996\n",
      "Epoch 65/100\n",
      "15/15 [==============================] - 0s 16ms/step - loss: 0.0134 - accuracy: 0.9997 - val_loss: 0.0154 - val_accuracy: 0.9996\n",
      "Epoch 66/100\n",
      "15/15 [==============================] - 0s 16ms/step - loss: 0.0128 - accuracy: 0.9997 - val_loss: 0.0148 - val_accuracy: 0.9996\n",
      "Epoch 67/100\n",
      "15/15 [==============================] - 0s 15ms/step - loss: 0.0123 - accuracy: 0.9997 - val_loss: 0.0143 - val_accuracy: 0.9996\n",
      "Epoch 68/100\n",
      "15/15 [==============================] - 0s 15ms/step - loss: 0.0118 - accuracy: 0.9997 - val_loss: 0.0139 - val_accuracy: 0.9996\n",
      "Epoch 69/100\n",
      "15/15 [==============================] - 0s 15ms/step - loss: 0.0113 - accuracy: 0.9997 - val_loss: 0.0134 - val_accuracy: 0.9996\n",
      "Epoch 70/100\n",
      "15/15 [==============================] - 0s 16ms/step - loss: 0.0108 - accuracy: 0.9997 - val_loss: 0.0130 - val_accuracy: 0.9996\n",
      "Epoch 71/100\n",
      "15/15 [==============================] - 0s 16ms/step - loss: 0.0104 - accuracy: 0.9997 - val_loss: 0.0126 - val_accuracy: 0.9996\n",
      "Epoch 72/100\n",
      "15/15 [==============================] - 0s 16ms/step - loss: 0.0100 - accuracy: 0.9997 - val_loss: 0.0122 - val_accuracy: 0.9996\n",
      "Epoch 73/100\n",
      "15/15 [==============================] - 0s 16ms/step - loss: 0.0096 - accuracy: 0.9997 - val_loss: 0.0119 - val_accuracy: 0.9996\n",
      "Epoch 74/100\n",
      "15/15 [==============================] - 0s 16ms/step - loss: 0.0093 - accuracy: 0.9997 - val_loss: 0.0115 - val_accuracy: 0.9996\n",
      "Epoch 75/100\n",
      "15/15 [==============================] - 0s 18ms/step - loss: 0.0089 - accuracy: 0.9997 - val_loss: 0.0112 - val_accuracy: 0.9996\n",
      "Epoch 76/100\n",
      "15/15 [==============================] - 0s 16ms/step - loss: 0.0086 - accuracy: 0.9997 - val_loss: 0.0109 - val_accuracy: 0.9996\n",
      "Epoch 77/100\n",
      "15/15 [==============================] - 0s 15ms/step - loss: 0.0083 - accuracy: 0.9997 - val_loss: 0.0107 - val_accuracy: 0.9996\n",
      "Epoch 78/100\n",
      "15/15 [==============================] - 0s 17ms/step - loss: 0.0080 - accuracy: 0.9997 - val_loss: 0.0104 - val_accuracy: 0.9996\n",
      "Epoch 79/100\n",
      "15/15 [==============================] - 0s 15ms/step - loss: 0.0078 - accuracy: 0.9997 - val_loss: 0.0102 - val_accuracy: 0.9996\n",
      "Epoch 80/100\n",
      "15/15 [==============================] - 0s 15ms/step - loss: 0.0075 - accuracy: 0.9997 - val_loss: 0.0099 - val_accuracy: 0.9996\n",
      "Epoch 81/100\n",
      "15/15 [==============================] - 0s 16ms/step - loss: 0.0073 - accuracy: 0.9997 - val_loss: 0.0097 - val_accuracy: 0.9996\n",
      "Epoch 82/100\n",
      "15/15 [==============================] - 0s 15ms/step - loss: 0.0070 - accuracy: 0.9997 - val_loss: 0.0095 - val_accuracy: 0.9996\n",
      "Epoch 83/100\n",
      "15/15 [==============================] - 0s 16ms/step - loss: 0.0068 - accuracy: 0.9997 - val_loss: 0.0093 - val_accuracy: 0.9996\n",
      "Epoch 84/100\n",
      "15/15 [==============================] - 0s 16ms/step - loss: 0.0066 - accuracy: 0.9997 - val_loss: 0.0091 - val_accuracy: 0.9996\n",
      "Epoch 85/100\n",
      "15/15 [==============================] - 0s 17ms/step - loss: 0.0064 - accuracy: 0.9997 - val_loss: 0.0090 - val_accuracy: 0.9996\n",
      "Epoch 86/100\n",
      "15/15 [==============================] - 0s 15ms/step - loss: 0.0062 - accuracy: 0.9997 - val_loss: 0.0088 - val_accuracy: 0.9996\n",
      "Epoch 87/100\n",
      "15/15 [==============================] - 0s 15ms/step - loss: 0.0061 - accuracy: 0.9997 - val_loss: 0.0086 - val_accuracy: 0.9996\n",
      "Epoch 88/100\n",
      "15/15 [==============================] - 0s 15ms/step - loss: 0.0059 - accuracy: 0.9997 - val_loss: 0.0085 - val_accuracy: 0.9996\n",
      "Epoch 89/100\n",
      "15/15 [==============================] - 0s 15ms/step - loss: 0.0057 - accuracy: 0.9997 - val_loss: 0.0083 - val_accuracy: 0.9996\n",
      "Epoch 90/100\n",
      "15/15 [==============================] - 0s 16ms/step - loss: 0.0055 - accuracy: 0.9997 - val_loss: 0.0081 - val_accuracy: 0.9996\n",
      "Epoch 91/100\n",
      "15/15 [==============================] - 0s 15ms/step - loss: 0.0054 - accuracy: 0.9997 - val_loss: 0.0080 - val_accuracy: 0.9996\n",
      "Epoch 92/100\n",
      "15/15 [==============================] - 0s 18ms/step - loss: 0.0052 - accuracy: 0.9997 - val_loss: 0.0079 - val_accuracy: 0.9996\n",
      "Epoch 93/100\n",
      "15/15 [==============================] - 0s 17ms/step - loss: 0.0051 - accuracy: 0.9997 - val_loss: 0.0078 - val_accuracy: 0.9996\n",
      "Epoch 94/100\n",
      "15/15 [==============================] - 0s 15ms/step - loss: 0.0049 - accuracy: 0.9997 - val_loss: 0.0077 - val_accuracy: 0.9996\n",
      "Epoch 95/100\n",
      "15/15 [==============================] - 0s 15ms/step - loss: 0.0048 - accuracy: 0.9997 - val_loss: 0.0075 - val_accuracy: 0.9996\n",
      "Epoch 96/100\n",
      "15/15 [==============================] - 0s 15ms/step - loss: 0.0047 - accuracy: 0.9997 - val_loss: 0.0074 - val_accuracy: 0.9996\n",
      "Epoch 97/100\n",
      "15/15 [==============================] - 0s 16ms/step - loss: 0.0046 - accuracy: 0.9997 - val_loss: 0.0074 - val_accuracy: 0.9996\n",
      "Epoch 98/100\n",
      "15/15 [==============================] - 0s 17ms/step - loss: 0.0045 - accuracy: 0.9997 - val_loss: 0.0073 - val_accuracy: 0.9996\n",
      "Epoch 99/100\n",
      "15/15 [==============================] - 0s 16ms/step - loss: 0.0044 - accuracy: 0.9997 - val_loss: 0.0072 - val_accuracy: 0.9996\n",
      "Epoch 100/100\n",
      "15/15 [==============================] - 0s 17ms/step - loss: 0.0043 - accuracy: 0.9997 - val_loss: 0.0071 - val_accuracy: 0.9996\n"
     ]
    }
   ],
   "source": [
    "history = model.fit(X_train_val, y_train_val, batch_size = 1024, epochs = 100,\n",
    "                    validation_split = 0.25, shuffle = True, callbacks = None, \n",
    "                    use_multiprocessing=True, workers=4)"
   ]
  },
  {
   "cell_type": "code",
   "execution_count": 9,
   "metadata": {},
   "outputs": [
    {
     "name": "stdout",
     "output_type": "stream",
     "text": [
      "WARNING:tensorflow:From C:\\Users\\45148\\anaconda3\\envs\\EPE_ML_TF2_GPU\\lib\\site-packages\\tensorflow\\python\\ops\\resource_variable_ops.py:1817: calling BaseResourceVariable.__init__ (from tensorflow.python.ops.resource_variable_ops) with constraint is deprecated and will be removed in a future version.\n",
      "Instructions for updating:\n",
      "If using Keras pass *_constraint arguments to layers.\n",
      "INFO:tensorflow:Assets written to: Conv2D\\assets\n"
     ]
    }
   ],
   "source": [
    "model.save('Conv2D') #Saves to local directory;"
   ]
  },
  {
   "cell_type": "code",
   "execution_count": 10,
   "metadata": {},
   "outputs": [],
   "source": [
    "loaded_model = keras.models.load_model('Conv2D') #Loads from local directory"
   ]
  },
  {
   "cell_type": "code",
   "execution_count": 11,
   "metadata": {},
   "outputs": [
    {
     "name": "stdout",
     "output_type": "stream",
     "text": [
      "Model: \"model\"\n",
      "_________________________________________________________________\n",
      "Layer (type)                 Output Shape              Param #   \n",
      "=================================================================\n",
      "input_1 (InputLayer)         [(None, 40, 40, 1)]       0         \n",
      "_________________________________________________________________\n",
      "conv1_relu (Conv2D)          (None, 40, 40, 8)         976       \n",
      "_________________________________________________________________\n",
      "conv2_relu (Conv2D)          (None, 20, 20, 4)         292       \n",
      "_________________________________________________________________\n",
      "conv3_relu (Conv2D)          (None, 10, 10, 2)         74        \n",
      "_________________________________________________________________\n",
      "flatten (Flatten)            (None, 200)               0         \n",
      "_________________________________________________________________\n",
      "dense (Dense)                (None, 32)                6432      \n",
      "_________________________________________________________________\n",
      "output_softmax (Dense)       (None, 5)                 165       \n",
      "=================================================================\n",
      "Total params: 7,939\n",
      "Trainable params: 7,939\n",
      "Non-trainable params: 0\n",
      "_________________________________________________________________\n"
     ]
    }
   ],
   "source": [
    "loaded_model.summary()"
   ]
  },
  {
   "cell_type": "code",
   "execution_count": 12,
   "metadata": {},
   "outputs": [],
   "source": [
    "def learningCurve(history):\n",
    "    plt.figure(figsize=(10,8))\n",
    "    plt.plot(history.history['loss'], linewidth=1)\n",
    "    plt.plot(history.history['val_loss'], linewidth=1)\n",
    "    plt.title('Model Loss over Epochs')\n",
    "    plt.ylabel('Loss')\n",
    "    plt.xlabel('Epoch')\n",
    "    plt.legend(['training sample loss','validation sample loss'])\n",
    "    #plt.savefig('Learning_curve.pdf')\n",
    "    plt.show()\n",
    "    plt.close()"
   ]
  },
  {
   "cell_type": "code",
   "execution_count": 13,
   "metadata": {},
   "outputs": [
    {
     "data": {
      "image/png": "[encoded data removed]",
      "text/plain": [
       "<Figure size 720x576 with 1 Axes>"
      ]
     },
     "metadata": {
      "needs_background": "light"
     },
     "output_type": "display_data"
    }
   ],
   "source": [
    "learningCurve(history)"
   ]
  },
  {
   "cell_type": "code",
   "execution_count": 14,
   "metadata": {},
   "outputs": [],
   "source": [
    "def makeRoc(features_val, labels_val, labels, model, outputDir='', outputSuffix=''):\n",
    "    from sklearn.metrics import roc_curve, auc\n",
    "    labels_pred = model.predict(features_val)\n",
    "    df = pd.DataFrame()\n",
    "    fpr = {}\n",
    "    tpr = {}\n",
    "    auc1 = {}\n",
    "    plt.figure(figsize=(10,8))       \n",
    "    for i, label in enumerate(labels):\n",
    "        df[label] = labels_val[:,i]\n",
    "        df[label + '_pred'] = labels_pred[:,i]\n",
    "        fpr[label], tpr[label], threshold = roc_curve(df[label],df[label+'_pred'])\n",
    "        auc1[label] = auc(fpr[label], tpr[label])\n",
    "        plt.plot(fpr[label],tpr[label],label='%s tagger, AUC = %.1f%%'%(label.replace('j_',''),auc1[label]*100.))\n",
    "    plt.plot([0, 1], [0, 1], lw=1, color='black', linestyle='--')\n",
    "    #plt.semilogy()\n",
    "    plt.xlabel(\"Background Efficiency\")\n",
    "    plt.ylabel(\"Signal Efficiency\")\n",
    "    plt.xlim([-0.05, 1.05])\n",
    "    plt.ylim(0.001,1.05)\n",
    "    plt.grid(True)\n",
    "    plt.legend(loc='lower right')\n",
    "    plt.figtext(0.25, 0.90,'CONV2D ROC Curve',fontweight='bold', wrap=True, horizontalalignment='right', fontsize=14)\n",
    "    #plt.figtext(0.35, 0.90,'preliminary', style='italic', wrap=True, horizontalalignment='center', fontsize=14) \n",
    "    #plt.savefig('%sROC_%s.pdf'%(outputDir, outputSuffix))\n",
    "    return labels_pred"
   ]
  },
  {
   "cell_type": "code",
   "execution_count": 15,
   "metadata": {},
   "outputs": [
    {
     "data": {
      "image/png": "[encoded data removed]",
      "text/plain": [
       "<Figure size 720x576 with 1 Axes>"
      ]
     },
     "metadata": {
      "needs_background": "light"
     },
     "output_type": "display_data"
    }
   ],
   "source": [
    "y_pred = makeRoc(X_test, y_test, labels, model, outputSuffix='Conv2D')"
   ]
  },
  {
   "cell_type": "code",
   "execution_count": null,
   "metadata": {},
   "outputs": [],
   "source": []
  }
 ],
 "metadata": {
  "kernelspec": {
   "display_name": "Python 3",
   "language": "python",
   "name": "python3"
  },
  "language_info": {
   "codemirror_mode": {
    "name": "ipython",
    "version": 3
   },
   "file_extension": ".py",
   "mimetype": "text/x-python",
   "name": "python",
   "nbconvert_exporter": "python",
   "pygments_lexer": "ipython3",
   "version": "3.6.10"
  }
 },
 "nbformat": 4,
 "nbformat_minor": 4
}
