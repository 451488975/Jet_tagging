{
 "cells": [
  {
   "cell_type": "code",
   "execution_count": 1,
   "metadata": {},
   "outputs": [
    {
     "name": "stderr",
     "output_type": "stream",
     "text": [
      "Using TensorFlow backend.\n"
     ]
    }
   ],
   "source": [
    "import tensorflow as tf\n",
    "import keras\n",
    "from keras.layers import Input, Dense, Flatten, Conv1D\n",
    "from keras.models import Model\n",
    "from keras.regularizers import l1\n",
    "from keras.optimizers import Adam\n",
    "from sklearn.model_selection import train_test_split\n",
    "import os\n",
    "import h5py\n",
    "import pandas as pd\n",
    "from constraints import *\n",
    "import numpy as np\n",
    "from sklearn import preprocessing\n",
    "#from callbacks import all_callbacks"
   ]
  },
  {
   "cell_type": "code",
   "execution_count": 2,
   "metadata": {},
   "outputs": [
    {
     "name": "stdout",
     "output_type": "stream",
     "text": [
      "(24816, 5)\n"
     ]
    }
   ],
   "source": [
    "f = h5py.File('../processed-pythia82-lhc13-all-pt1-50k-r1_h022_e0175_t220_nonu_withPars_truth.z', 'r')\n",
    "treeArray = f['t_allpar_new'][()]\n",
    "\n",
    "features = ['j1_ptrel', 'j1_etarot', 'j1_phirot', 'j1_erel', 'j1_deltaR', 'j1_costhetarel', 'j1_pdgid', 'j_index']\n",
    "labels = ['j_g', 'j_q', 'j_w', 'j_z', 'j_t', 'j_index']\n",
    "\n",
    "features_labels_df = pd.DataFrame(treeArray,columns=list(set(features+labels)))\n",
    "features_labels_df = features_labels_df.drop_duplicates()\n",
    "\n",
    "features_df = features_labels_df[features]\n",
    "labels_df = features_labels_df[labels]\n",
    "labels_df = labels_df.drop_duplicates()\n",
    "\n",
    "# Convert to numpy array \n",
    "features_val = features_df.values\n",
    "labels_val = labels_df.values\n",
    "\n",
    "if 'j_index' in features:\n",
    "    features_val = features_val[:,:-1] # drop the j_index feature\n",
    "if 'j_index' in labels:\n",
    "    labels_val = labels_val[:,:-1] # drop the j_index label\n",
    "    print(labels_val.shape)\n",
    "\n",
    "features_2dval = np.zeros((len(labels_df), 100, len(features)-1))\n",
    "for i in range(0, len(labels_df)):\n",
    "    features_df_i = features_df[features_df['j_index']==labels_df['j_index'].iloc[i]]\n",
    "    index_values = features_df_i.index.values\n",
    "    #features_val_i = features_val[index_values[0]:index_values[-1]+1,:-1] # drop the last feature j_index\n",
    "    features_val_i = features_val[np.array(index_values),:]\n",
    "    nParticles = len(features_val_i)\n",
    "    #print(\"before\", features_val_i[:,0])\n",
    "    features_val_i = features_val_i[features_val_i[:,0].argsort()[::-1]] # sort descending by first value (ptrel, usually)\n",
    "    #print(\"after\", features_val_i[:,0])\n",
    "    if nParticles>100:\n",
    "        features_val_i =  features_val_i[0:100,:]\n",
    "    else:        \n",
    "        features_val_i = np.concatenate([features_val_i, np.zeros((100-nParticles, len(features)-1))])\n",
    "    features_2dval[i, :, :] = features_val_i\n",
    "\n",
    "features_val = features_2dval"
   ]
  },
  {
   "cell_type": "code",
   "execution_count": 3,
   "metadata": {},
   "outputs": [],
   "source": [
    "X_train_val, X_test, y_train_val, y_test = train_test_split(features_val, labels_val, test_size=0.2, random_state=42)\n",
    "\n",
    "reshape_X_train_val = X_train_val.reshape(X_train_val.shape[0]*X_train_val.shape[1],X_train_val.shape[2])\n",
    "scaler = preprocessing.StandardScaler().fit(reshape_X_train_val)\n",
    "for p in range(X_train_val.shape[1]):\n",
    "    X_train_val[:,p,:] = scaler.transform(X_train_val[:,p,:])\n",
    "    X_test[:,p,:] = scaler.transform(X_test[:,p,:])\n",
    "    \n",
    "if 'j_index' in labels:\n",
    "    labels = labels[:-1]"
   ]
  },
  {
   "cell_type": "code",
   "execution_count": 4,
   "metadata": {},
   "outputs": [
    {
     "name": "stdout",
     "output_type": "stream",
     "text": [
      "Model: \"model\"\n",
      "_________________________________________________________________\n",
      "Layer (type)                 Output Shape              Param #   \n",
      "=================================================================\n",
      "input_1 (InputLayer)         [(None, 100, 7)]          0         \n",
      "_________________________________________________________________\n",
      "conv1_relu (Conv1D)          (None, 100, 8)            232       \n",
      "_________________________________________________________________\n",
      "conv2_relu (Conv1D)          (None, 50, 4)             132       \n",
      "_________________________________________________________________\n",
      "conv3_relu (Conv1D)          (None, 17, 2)             34        \n",
      "_________________________________________________________________\n",
      "flatten (Flatten)            (None, 34)                0         \n",
      "_________________________________________________________________\n",
      "fc1_relu (Dense)             (None, 32)                1120      \n",
      "_________________________________________________________________\n",
      "output_softmax (Dense)       (None, 5)                 165       \n",
      "=================================================================\n",
      "Total params: 1,683\n",
      "Trainable params: 1,683\n",
      "Non-trainable params: 0\n",
      "_________________________________________________________________\n"
     ]
    }
   ],
   "source": [
    "#h5f = h5py.File('KERAS_conv1d_weights.h5', 'r')\n",
    "Inputs = Input(shape=(100, 7,))\n",
    "x = Conv1D(filters=8, kernel_size=4, strides=1, padding='same',\n",
    "           kernel_initializer='he_normal', use_bias=True, name='conv1_relu',\n",
    "           activation = 'relu', kernel_regularizer=l1(0.0001))(Inputs) \n",
    "           #kernel_constraint = zero_some_weights(binary_tensor=h5f['conv1_relu'][()].tolist()))(Inputs)\n",
    "x = Conv1D(filters=4, kernel_size=4, strides=2, padding='same',\n",
    "           kernel_initializer='he_normal', use_bias=True, name='conv2_relu',\n",
    "           activation = 'relu', kernel_regularizer=l1(0.0001))(x)\n",
    "           #kernel_constraint = zero_some_weights(binary_tensor=h5f['conv2_relu'][()].tolist()))(x)\n",
    "x = Conv1D(filters=2, kernel_size=4, strides=3, padding='same',\n",
    "           kernel_initializer='he_normal', use_bias=True, name='conv3_relu',\n",
    "           activation = 'relu', kernel_regularizer=l1(0.0001))(x)\n",
    "           #kernel_constraint = zero_some_weights(binary_tensor=h5f['conv3_relu'][()].tolist()))(x)\n",
    "x = Flatten()(x)\n",
    "x = Dense(32, activation='relu', kernel_initializer='lecun_uniform', \n",
    "          name='fc1_relu', kernel_regularizer=l1(0.0001))(x)\n",
    "          #kernel_constraint = zero_some_weights(binary_tensor=h5f['fc1_relu'][()].tolist()))(x)\n",
    "predictions = Dense(5, activation='softmax', kernel_initializer='lecun_uniform', \n",
    "                    name='output_softmax', kernel_regularizer=l1(0.0001))(x)\n",
    "                    #kernel_constraint = zero_some_weights(binary_tensor=f['output_softmax'][()].tolist()))(x)\n",
    "model = Model(inputs=Inputs, outputs=predictions)\n",
    "model.summary()"
   ]
  },
  {
   "cell_type": "code",
   "execution_count": 5,
   "metadata": {},
   "outputs": [],
   "source": [
    "adam = Adam(lr=0.0001)\n",
    "model.compile(optimizer=adam, loss=['categorical_crossentropy'], metrics=['accuracy'])"
   ]
  },
  {
   "cell_type": "code",
   "execution_count": 6,
   "metadata": {},
   "outputs": [
    {
     "name": "stdout",
     "output_type": "stream",
     "text": [
      "Epoch 1/100\n",
      "15/15 [==============================] - 0s 29ms/step - loss: 0.9350 - accuracy: 0.7886 - val_loss: 0.8918 - val_accuracy: 0.7975\n",
      "Epoch 2/100\n",
      "15/15 [==============================] - 0s 6ms/step - loss: 0.8699 - accuracy: 0.7966 - val_loss: 0.8307 - val_accuracy: 0.8019\n",
      "Epoch 3/100\n",
      "15/15 [==============================] - 0s 6ms/step - loss: 0.8123 - accuracy: 0.7997 - val_loss: 0.7770 - val_accuracy: 0.8042\n",
      "Epoch 4/100\n",
      "15/15 [==============================] - 0s 6ms/step - loss: 0.7619 - accuracy: 0.8020 - val_loss: 0.7309 - val_accuracy: 0.8056\n",
      "Epoch 5/100\n",
      "15/15 [==============================] - 0s 6ms/step - loss: 0.7190 - accuracy: 0.8023 - val_loss: 0.6916 - val_accuracy: 0.8068\n",
      "Epoch 6/100\n",
      "15/15 [==============================] - 0s 6ms/step - loss: 0.6827 - accuracy: 0.8027 - val_loss: 0.6585 - val_accuracy: 0.8072\n",
      "Epoch 7/100\n",
      "15/15 [==============================] - 0s 6ms/step - loss: 0.6520 - accuracy: 0.8028 - val_loss: 0.6311 - val_accuracy: 0.8074\n",
      "Epoch 8/100\n",
      "15/15 [==============================] - 0s 7ms/step - loss: 0.6263 - accuracy: 0.8029 - val_loss: 0.6078 - val_accuracy: 0.8074\n",
      "Epoch 9/100\n",
      "15/15 [==============================] - 0s 7ms/step - loss: 0.6045 - accuracy: 0.8030 - val_loss: 0.5883 - val_accuracy: 0.8076\n",
      "Epoch 10/100\n",
      "15/15 [==============================] - 0s 6ms/step - loss: 0.5859 - accuracy: 0.8030 - val_loss: 0.5715 - val_accuracy: 0.8078\n",
      "Epoch 11/100\n",
      "15/15 [==============================] - 0s 6ms/step - loss: 0.5696 - accuracy: 0.8031 - val_loss: 0.5568 - val_accuracy: 0.8076\n",
      "Epoch 12/100\n",
      "15/15 [==============================] - 0s 6ms/step - loss: 0.5553 - accuracy: 0.8031 - val_loss: 0.5438 - val_accuracy: 0.8076\n",
      "Epoch 13/100\n",
      "15/15 [==============================] - 0s 6ms/step - loss: 0.5425 - accuracy: 0.8032 - val_loss: 0.5321 - val_accuracy: 0.8078\n",
      "Epoch 14/100\n",
      "15/15 [==============================] - 0s 6ms/step - loss: 0.5308 - accuracy: 0.8033 - val_loss: 0.5214 - val_accuracy: 0.8080\n",
      "Epoch 15/100\n",
      "15/15 [==============================] - 0s 7ms/step - loss: 0.5200 - accuracy: 0.8037 - val_loss: 0.5116 - val_accuracy: 0.8086\n",
      "Epoch 16/100\n",
      "15/15 [==============================] - 0s 7ms/step - loss: 0.5100 - accuracy: 0.8044 - val_loss: 0.5024 - val_accuracy: 0.8088\n",
      "Epoch 17/100\n",
      "15/15 [==============================] - 0s 7ms/step - loss: 0.5006 - accuracy: 0.8047 - val_loss: 0.4936 - val_accuracy: 0.8088\n",
      "Epoch 18/100\n",
      "15/15 [==============================] - 0s 7ms/step - loss: 0.4916 - accuracy: 0.8050 - val_loss: 0.4853 - val_accuracy: 0.8088\n",
      "Epoch 19/100\n",
      "15/15 [==============================] - 0s 7ms/step - loss: 0.4829 - accuracy: 0.8059 - val_loss: 0.4773 - val_accuracy: 0.8090\n",
      "Epoch 20/100\n",
      "15/15 [==============================] - 0s 7ms/step - loss: 0.4746 - accuracy: 0.8064 - val_loss: 0.4695 - val_accuracy: 0.8096\n",
      "Epoch 21/100\n",
      "15/15 [==============================] - 0s 7ms/step - loss: 0.4665 - accuracy: 0.8070 - val_loss: 0.4620 - val_accuracy: 0.8100\n",
      "Epoch 22/100\n",
      "15/15 [==============================] - 0s 7ms/step - loss: 0.4586 - accuracy: 0.8088 - val_loss: 0.4546 - val_accuracy: 0.8114\n",
      "Epoch 23/100\n",
      "15/15 [==============================] - 0s 7ms/step - loss: 0.4509 - accuracy: 0.8097 - val_loss: 0.4474 - val_accuracy: 0.8134\n",
      "Epoch 24/100\n",
      "15/15 [==============================] - 0s 7ms/step - loss: 0.4433 - accuracy: 0.8106 - val_loss: 0.4403 - val_accuracy: 0.8140\n",
      "Epoch 25/100\n",
      "15/15 [==============================] - 0s 7ms/step - loss: 0.4358 - accuracy: 0.8119 - val_loss: 0.4332 - val_accuracy: 0.8154\n",
      "Epoch 26/100\n",
      "15/15 [==============================] - 0s 7ms/step - loss: 0.4286 - accuracy: 0.8134 - val_loss: 0.4263 - val_accuracy: 0.8170\n",
      "Epoch 27/100\n",
      "15/15 [==============================] - 0s 7ms/step - loss: 0.4214 - accuracy: 0.8155 - val_loss: 0.4196 - val_accuracy: 0.8183\n",
      "Epoch 28/100\n",
      "15/15 [==============================] - 0s 7ms/step - loss: 0.4144 - accuracy: 0.8178 - val_loss: 0.4127 - val_accuracy: 0.8203\n",
      "Epoch 29/100\n",
      "15/15 [==============================] - 0s 7ms/step - loss: 0.4072 - accuracy: 0.8200 - val_loss: 0.4059 - val_accuracy: 0.8223\n",
      "Epoch 30/100\n",
      "15/15 [==============================] - 0s 7ms/step - loss: 0.4001 - accuracy: 0.8230 - val_loss: 0.3992 - val_accuracy: 0.8239\n",
      "Epoch 31/100\n",
      "15/15 [==============================] - 0s 7ms/step - loss: 0.3931 - accuracy: 0.8264 - val_loss: 0.3927 - val_accuracy: 0.8267\n",
      "Epoch 32/100\n",
      "15/15 [==============================] - 0s 7ms/step - loss: 0.3864 - accuracy: 0.8299 - val_loss: 0.3865 - val_accuracy: 0.8301\n",
      "Epoch 33/100\n",
      "15/15 [==============================] - 0s 7ms/step - loss: 0.3799 - accuracy: 0.8326 - val_loss: 0.3803 - val_accuracy: 0.8334\n",
      "Epoch 34/100\n",
      "15/15 [==============================] - 0s 7ms/step - loss: 0.3736 - accuracy: 0.8348 - val_loss: 0.3744 - val_accuracy: 0.8368\n",
      "Epoch 35/100\n",
      "15/15 [==============================] - 0s 6ms/step - loss: 0.3675 - accuracy: 0.8381 - val_loss: 0.3685 - val_accuracy: 0.8402\n",
      "Epoch 36/100\n",
      "15/15 [==============================] - 0s 7ms/step - loss: 0.3614 - accuracy: 0.8416 - val_loss: 0.3629 - val_accuracy: 0.8440\n",
      "Epoch 37/100\n",
      "15/15 [==============================] - 0s 7ms/step - loss: 0.3556 - accuracy: 0.8447 - val_loss: 0.3573 - val_accuracy: 0.8469\n",
      "Epoch 38/100\n",
      "15/15 [==============================] - 0s 7ms/step - loss: 0.3499 - accuracy: 0.8481 - val_loss: 0.3519 - val_accuracy: 0.8499\n",
      "Epoch 39/100\n",
      "15/15 [==============================] - 0s 6ms/step - loss: 0.3443 - accuracy: 0.8519 - val_loss: 0.3466 - val_accuracy: 0.8527\n",
      "Epoch 40/100\n",
      "15/15 [==============================] - 0s 7ms/step - loss: 0.3388 - accuracy: 0.8549 - val_loss: 0.3412 - val_accuracy: 0.8561\n",
      "Epoch 41/100\n",
      "15/15 [==============================] - 0s 6ms/step - loss: 0.3331 - accuracy: 0.8584 - val_loss: 0.3357 - val_accuracy: 0.8586\n",
      "Epoch 42/100\n",
      "15/15 [==============================] - 0s 7ms/step - loss: 0.3273 - accuracy: 0.8624 - val_loss: 0.3303 - val_accuracy: 0.8616\n",
      "Epoch 43/100\n",
      "15/15 [==============================] - 0s 7ms/step - loss: 0.3217 - accuracy: 0.8662 - val_loss: 0.3251 - val_accuracy: 0.8652\n",
      "Epoch 44/100\n",
      "15/15 [==============================] - 0s 9ms/step - loss: 0.3163 - accuracy: 0.8693 - val_loss: 0.3200 - val_accuracy: 0.8692\n",
      "Epoch 45/100\n",
      "15/15 [==============================] - 0s 6ms/step - loss: 0.3110 - accuracy: 0.8721 - val_loss: 0.3150 - val_accuracy: 0.8712\n",
      "Epoch 46/100\n",
      "15/15 [==============================] - 0s 6ms/step - loss: 0.3058 - accuracy: 0.8751 - val_loss: 0.3102 - val_accuracy: 0.8747\n",
      "Epoch 47/100\n",
      "15/15 [==============================] - 0s 7ms/step - loss: 0.3008 - accuracy: 0.8778 - val_loss: 0.3055 - val_accuracy: 0.8761\n",
      "Epoch 48/100\n",
      "15/15 [==============================] - 0s 7ms/step - loss: 0.2959 - accuracy: 0.8804 - val_loss: 0.3009 - val_accuracy: 0.8781\n",
      "Epoch 49/100\n",
      "15/15 [==============================] - 0s 7ms/step - loss: 0.2911 - accuracy: 0.8823 - val_loss: 0.2965 - val_accuracy: 0.8799\n",
      "Epoch 50/100\n",
      "15/15 [==============================] - 0s 7ms/step - loss: 0.2865 - accuracy: 0.8843 - val_loss: 0.2921 - val_accuracy: 0.8819\n",
      "Epoch 51/100\n",
      "15/15 [==============================] - 0s 6ms/step - loss: 0.2820 - accuracy: 0.8865 - val_loss: 0.2879 - val_accuracy: 0.8827\n",
      "Epoch 52/100\n",
      "15/15 [==============================] - 0s 7ms/step - loss: 0.2776 - accuracy: 0.8881 - val_loss: 0.2839 - val_accuracy: 0.8837\n",
      "Epoch 53/100\n",
      "15/15 [==============================] - 0s 7ms/step - loss: 0.2734 - accuracy: 0.8897 - val_loss: 0.2800 - val_accuracy: 0.8849\n",
      "Epoch 54/100\n",
      "15/15 [==============================] - 0s 7ms/step - loss: 0.2692 - accuracy: 0.8921 - val_loss: 0.2761 - val_accuracy: 0.8860\n",
      "Epoch 55/100\n",
      "15/15 [==============================] - 0s 7ms/step - loss: 0.2652 - accuracy: 0.8928 - val_loss: 0.2725 - val_accuracy: 0.8880\n",
      "Epoch 56/100\n",
      "15/15 [==============================] - 0s 7ms/step - loss: 0.2614 - accuracy: 0.8935 - val_loss: 0.2689 - val_accuracy: 0.8884\n",
      "Epoch 57/100\n",
      "15/15 [==============================] - 0s 7ms/step - loss: 0.2577 - accuracy: 0.8947 - val_loss: 0.2654 - val_accuracy: 0.8898\n",
      "Epoch 58/100\n",
      "15/15 [==============================] - 0s 6ms/step - loss: 0.2541 - accuracy: 0.8956 - val_loss: 0.2621 - val_accuracy: 0.8900\n"
     ]
    },
    {
     "name": "stdout",
     "output_type": "stream",
     "text": [
      "Epoch 59/100\n",
      "15/15 [==============================] - 0s 7ms/step - loss: 0.2506 - accuracy: 0.8962 - val_loss: 0.2588 - val_accuracy: 0.8906\n",
      "Epoch 60/100\n",
      "15/15 [==============================] - 0s 6ms/step - loss: 0.2473 - accuracy: 0.8968 - val_loss: 0.2557 - val_accuracy: 0.8912\n",
      "Epoch 61/100\n",
      "15/15 [==============================] - 0s 6ms/step - loss: 0.2441 - accuracy: 0.8976 - val_loss: 0.2527 - val_accuracy: 0.8916\n",
      "Epoch 62/100\n",
      "15/15 [==============================] - 0s 7ms/step - loss: 0.2410 - accuracy: 0.8979 - val_loss: 0.2498 - val_accuracy: 0.8916\n",
      "Epoch 63/100\n",
      "15/15 [==============================] - 0s 6ms/step - loss: 0.2380 - accuracy: 0.8984 - val_loss: 0.2470 - val_accuracy: 0.8928\n",
      "Epoch 64/100\n",
      "15/15 [==============================] - 0s 6ms/step - loss: 0.2352 - accuracy: 0.8990 - val_loss: 0.2443 - val_accuracy: 0.8930\n",
      "Epoch 65/100\n",
      "15/15 [==============================] - 0s 7ms/step - loss: 0.2324 - accuracy: 0.8996 - val_loss: 0.2416 - val_accuracy: 0.8934\n",
      "Epoch 66/100\n",
      "15/15 [==============================] - 0s 7ms/step - loss: 0.2297 - accuracy: 0.8999 - val_loss: 0.2391 - val_accuracy: 0.8950\n",
      "Epoch 67/100\n",
      "15/15 [==============================] - 0s 7ms/step - loss: 0.2272 - accuracy: 0.9001 - val_loss: 0.2366 - val_accuracy: 0.8956\n",
      "Epoch 68/100\n",
      "15/15 [==============================] - 0s 6ms/step - loss: 0.2247 - accuracy: 0.9004 - val_loss: 0.2343 - val_accuracy: 0.8958\n",
      "Epoch 69/100\n",
      "15/15 [==============================] - 0s 6ms/step - loss: 0.2223 - accuracy: 0.9007 - val_loss: 0.2320 - val_accuracy: 0.8962\n",
      "Epoch 70/100\n",
      "15/15 [==============================] - 0s 7ms/step - loss: 0.2200 - accuracy: 0.9010 - val_loss: 0.2297 - val_accuracy: 0.8966\n",
      "Epoch 71/100\n",
      "15/15 [==============================] - 0s 6ms/step - loss: 0.2178 - accuracy: 0.9014 - val_loss: 0.2276 - val_accuracy: 0.8970\n",
      "Epoch 72/100\n",
      "15/15 [==============================] - 0s 6ms/step - loss: 0.2156 - accuracy: 0.9017 - val_loss: 0.2255 - val_accuracy: 0.8980\n",
      "Epoch 73/100\n",
      "15/15 [==============================] - 0s 6ms/step - loss: 0.2135 - accuracy: 0.9021 - val_loss: 0.2234 - val_accuracy: 0.8984\n",
      "Epoch 74/100\n",
      "15/15 [==============================] - 0s 7ms/step - loss: 0.2115 - accuracy: 0.9030 - val_loss: 0.2215 - val_accuracy: 0.8995\n",
      "Epoch 75/100\n",
      "15/15 [==============================] - 0s 7ms/step - loss: 0.2096 - accuracy: 0.9035 - val_loss: 0.2196 - val_accuracy: 0.8999\n",
      "Epoch 76/100\n",
      "15/15 [==============================] - 0s 7ms/step - loss: 0.2077 - accuracy: 0.9044 - val_loss: 0.2177 - val_accuracy: 0.9005\n",
      "Epoch 77/100\n",
      "15/15 [==============================] - 0s 6ms/step - loss: 0.2058 - accuracy: 0.9051 - val_loss: 0.2159 - val_accuracy: 0.9017\n",
      "Epoch 78/100\n",
      "15/15 [==============================] - 0s 6ms/step - loss: 0.2040 - accuracy: 0.9062 - val_loss: 0.2142 - val_accuracy: 0.9033\n",
      "Epoch 79/100\n",
      "15/15 [==============================] - 0s 6ms/step - loss: 0.2023 - accuracy: 0.9075 - val_loss: 0.2125 - val_accuracy: 0.9045\n",
      "Epoch 80/100\n",
      "15/15 [==============================] - 0s 7ms/step - loss: 0.2006 - accuracy: 0.9083 - val_loss: 0.2108 - val_accuracy: 0.9061\n",
      "Epoch 81/100\n",
      "15/15 [==============================] - 0s 7ms/step - loss: 0.1989 - accuracy: 0.9095 - val_loss: 0.2091 - val_accuracy: 0.9065\n",
      "Epoch 82/100\n",
      "15/15 [==============================] - 0s 7ms/step - loss: 0.1973 - accuracy: 0.9108 - val_loss: 0.2076 - val_accuracy: 0.9079\n",
      "Epoch 83/100\n",
      "15/15 [==============================] - 0s 7ms/step - loss: 0.1957 - accuracy: 0.9122 - val_loss: 0.2060 - val_accuracy: 0.9089\n",
      "Epoch 84/100\n",
      "15/15 [==============================] - 0s 7ms/step - loss: 0.1941 - accuracy: 0.9138 - val_loss: 0.2044 - val_accuracy: 0.9099\n",
      "Epoch 85/100\n",
      "15/15 [==============================] - 0s 7ms/step - loss: 0.1926 - accuracy: 0.9148 - val_loss: 0.2029 - val_accuracy: 0.9119\n",
      "Epoch 86/100\n",
      "15/15 [==============================] - 0s 7ms/step - loss: 0.1911 - accuracy: 0.9164 - val_loss: 0.2014 - val_accuracy: 0.9130\n",
      "Epoch 87/100\n",
      "15/15 [==============================] - 0s 7ms/step - loss: 0.1896 - accuracy: 0.9183 - val_loss: 0.1999 - val_accuracy: 0.9136\n",
      "Epoch 88/100\n",
      "15/15 [==============================] - 0s 6ms/step - loss: 0.1882 - accuracy: 0.9199 - val_loss: 0.1984 - val_accuracy: 0.9142\n",
      "Epoch 89/100\n",
      "15/15 [==============================] - 0s 6ms/step - loss: 0.1867 - accuracy: 0.9215 - val_loss: 0.1970 - val_accuracy: 0.9152\n",
      "Epoch 90/100\n",
      "15/15 [==============================] - 0s 6ms/step - loss: 0.1853 - accuracy: 0.9228 - val_loss: 0.1956 - val_accuracy: 0.9174\n",
      "Epoch 91/100\n",
      "15/15 [==============================] - 0s 7ms/step - loss: 0.1839 - accuracy: 0.9238 - val_loss: 0.1942 - val_accuracy: 0.9184\n",
      "Epoch 92/100\n",
      "15/15 [==============================] - 0s 7ms/step - loss: 0.1825 - accuracy: 0.9251 - val_loss: 0.1928 - val_accuracy: 0.9198\n",
      "Epoch 93/100\n",
      "15/15 [==============================] - 0s 6ms/step - loss: 0.1812 - accuracy: 0.9267 - val_loss: 0.1913 - val_accuracy: 0.9208\n",
      "Epoch 94/100\n",
      "15/15 [==============================] - 0s 7ms/step - loss: 0.1798 - accuracy: 0.9278 - val_loss: 0.1899 - val_accuracy: 0.9228\n",
      "Epoch 95/100\n",
      "15/15 [==============================] - 0s 6ms/step - loss: 0.1784 - accuracy: 0.9291 - val_loss: 0.1885 - val_accuracy: 0.9240\n",
      "Epoch 96/100\n",
      "15/15 [==============================] - 0s 7ms/step - loss: 0.1770 - accuracy: 0.9306 - val_loss: 0.1871 - val_accuracy: 0.9248\n",
      "Epoch 97/100\n",
      "15/15 [==============================] - 0s 7ms/step - loss: 0.1756 - accuracy: 0.9318 - val_loss: 0.1857 - val_accuracy: 0.9267\n",
      "Epoch 98/100\n",
      "15/15 [==============================] - 0s 7ms/step - loss: 0.1743 - accuracy: 0.9328 - val_loss: 0.1843 - val_accuracy: 0.9277\n",
      "Epoch 99/100\n",
      "15/15 [==============================] - 0s 7ms/step - loss: 0.1729 - accuracy: 0.9342 - val_loss: 0.1828 - val_accuracy: 0.9283\n",
      "Epoch 100/100\n",
      "15/15 [==============================] - 0s 6ms/step - loss: 0.1715 - accuracy: 0.9353 - val_loss: 0.1814 - val_accuracy: 0.9297\n"
     ]
    }
   ],
   "source": [
    "history = model.fit(X_train_val, y_train_val, batch_size = 1024, epochs = 100, \n",
    "                    validation_split = 0.25, shuffle = True, callbacks = None)"
   ]
  },
  {
   "cell_type": "code",
   "execution_count": 7,
   "metadata": {},
   "outputs": [
    {
     "name": "stdout",
     "output_type": "stream",
     "text": [
      "WARNING:tensorflow:From C:\\Users\\45148\\anaconda3\\envs\\EPE_ML_TF2_GPU\\lib\\site-packages\\tensorflow\\python\\ops\\resource_variable_ops.py:1817: calling BaseResourceVariable.__init__ (from tensorflow.python.ops.resource_variable_ops) with constraint is deprecated and will be removed in a future version.\n",
      "Instructions for updating:\n",
      "If using Keras pass *_constraint arguments to layers.\n",
      "INFO:tensorflow:Assets written to: Conv1D\\assets\n"
     ]
    }
   ],
   "source": [
    "model.save('Conv1D') #Saves to local directory; model file 'two-layer' with no extension"
   ]
  },
  {
   "cell_type": "code",
   "execution_count": 8,
   "metadata": {},
   "outputs": [],
   "source": [
    "loaded_model = keras.models.load_model('Conv1D') #Loads from local directory"
   ]
  },
  {
   "cell_type": "code",
   "execution_count": 9,
   "metadata": {},
   "outputs": [
    {
     "name": "stdout",
     "output_type": "stream",
     "text": [
      "Model: \"model\"\n",
      "_________________________________________________________________\n",
      "Layer (type)                 Output Shape              Param #   \n",
      "=================================================================\n",
      "input_1 (InputLayer)         [(None, 100, 7)]          0         \n",
      "_________________________________________________________________\n",
      "conv1_relu (Conv1D)          (None, 100, 8)            232       \n",
      "_________________________________________________________________\n",
      "conv2_relu (Conv1D)          (None, 50, 4)             132       \n",
      "_________________________________________________________________\n",
      "conv3_relu (Conv1D)          (None, 17, 2)             34        \n",
      "_________________________________________________________________\n",
      "flatten (Flatten)            (None, 34)                0         \n",
      "_________________________________________________________________\n",
      "fc1_relu (Dense)             (None, 32)                1120      \n",
      "_________________________________________________________________\n",
      "output_softmax (Dense)       (None, 5)                 165       \n",
      "=================================================================\n",
      "Total params: 1,683\n",
      "Trainable params: 1,683\n",
      "Non-trainable params: 0\n",
      "_________________________________________________________________\n"
     ]
    }
   ],
   "source": [
    "loaded_model.summary()"
   ]
  },
  {
   "cell_type": "code",
   "execution_count": 10,
   "metadata": {},
   "outputs": [],
   "source": [
    "import matplotlib.pyplot as plt"
   ]
  },
  {
   "cell_type": "code",
   "execution_count": 11,
   "metadata": {},
   "outputs": [],
   "source": [
    "def learningCurve(history):\n",
    "    plt.figure(figsize=(10,8))\n",
    "    plt.plot(history.history['loss'], linewidth=1)\n",
    "    plt.plot(history.history['val_loss'], linewidth=1)\n",
    "    plt.title('Model Loss over Epochs')\n",
    "    plt.ylabel('Loss')\n",
    "    plt.xlabel('Epoch')\n",
    "    plt.legend(['training sample loss','validation sample loss'])\n",
    "    #plt.savefig('Learning_curve.pdf')\n",
    "    plt.show()\n",
    "    plt.close()"
   ]
  },
  {
   "cell_type": "code",
   "execution_count": 12,
   "metadata": {},
   "outputs": [
    {
     "data": {
      "image/png": "[encoded data removed]",
      "text/plain": [
       "<Figure size 720x576 with 1 Axes>"
      ]
     },
     "metadata": {
      "needs_background": "light"
     },
     "output_type": "display_data"
    }
   ],
   "source": [
    "learningCurve(history)"
   ]
  },
  {
   "cell_type": "code",
   "execution_count": 13,
   "metadata": {},
   "outputs": [],
   "source": [
    "def makeRoc(features_val, labels_val, labels, model, outputDir='', outputSuffix=''):\n",
    "    from sklearn.metrics import roc_curve, auc\n",
    "    labels_pred = model.predict(features_val)\n",
    "    df = pd.DataFrame()\n",
    "    fpr = {}\n",
    "    tpr = {}\n",
    "    auc1 = {}\n",
    "    plt.figure(figsize=(10,8))       \n",
    "    for i, label in enumerate(labels):\n",
    "        df[label] = labels_val[:,i]\n",
    "        df[label + '_pred'] = labels_pred[:,i]\n",
    "        fpr[label], tpr[label], threshold = roc_curve(df[label],df[label+'_pred'])\n",
    "        auc1[label] = auc(fpr[label], tpr[label])\n",
    "        plt.plot(fpr[label],tpr[label],label='%s tagger, AUC = %.1f%%'%(label.replace('j_',''),auc1[label]*100.))\n",
    "    plt.plot([0, 1], [0, 1], lw=1, color='black', linestyle='--')\n",
    "    #plt.semilogy()\n",
    "    plt.xlabel(\"Background Efficiency\")\n",
    "    plt.ylabel(\"Signal Efficiency\")\n",
    "    plt.xlim([-0.05, 1.05])\n",
    "    plt.ylim(0.001,1.05)\n",
    "    plt.grid(True)\n",
    "    plt.legend(loc='lower right')\n",
    "    plt.figtext(0.25, 0.90,'CONV1D ROC Curve',fontweight='bold', wrap=True, horizontalalignment='right', fontsize=14)\n",
    "    #plt.figtext(0.35, 0.90,'preliminary', style='italic', wrap=True, horizontalalignment='center', fontsize=14) \n",
    "    #plt.savefig('%sROC_%s.pdf'%(outputDir, outputSuffix))\n",
    "    return labels_pred"
   ]
  },
  {
   "cell_type": "code",
   "execution_count": 14,
   "metadata": {},
   "outputs": [
    {
     "data": {
      "image/png": "[encoded data removed]",
      "text/plain": [
       "<Figure size 720x576 with 1 Axes>"
      ]
     },
     "metadata": {
      "needs_background": "light"
     },
     "output_type": "display_data"
    }
   ],
   "source": [
    "y_pred = makeRoc(X_test, y_test, labels, model, outputSuffix='Conv1D')"
   ]
  },
  {
   "cell_type": "code",
   "execution_count": null,
   "metadata": {},
   "outputs": [],
   "source": []
  }
 ],
 "metadata": {
  "kernelspec": {
   "display_name": "Python 3",
   "language": "python",
   "name": "python3"
  },
  "language_info": {
   "codemirror_mode": {
    "name": "ipython",
    "version": 3
   },
   "file_extension": ".py",
   "mimetype": "text/x-python",
   "name": "python",
   "nbconvert_exporter": "python",
   "pygments_lexer": "ipython3",
   "version": "3.6.10"
  }
 },
 "nbformat": 4,
 "nbformat_minor": 4
}
