{
 "cells": [
  {
   "cell_type": "code",
   "execution_count": 1,
   "metadata": {},
   "outputs": [
    {
     "name": "stderr",
     "output_type": "stream",
     "text": [
      "Using TensorFlow backend.\n"
     ]
    }
   ],
   "source": [
    "import tensorflow as tf\n",
    "import keras\n",
    "from keras.layers import Input, Dense, Flatten, Conv1D\n",
    "from keras.models import Model\n",
    "from keras.regularizers import l1\n",
    "from keras.optimizers import Adam\n",
    "from sklearn.model_selection import train_test_split\n",
    "import os\n",
    "import h5py\n",
    "import pandas as pd\n",
    "from constraints import *\n",
    "import numpy as np\n",
    "from sklearn import preprocessing\n",
    "#from callbacks import all_callbacks"
   ]
  },
  {
   "cell_type": "code",
   "execution_count": 2,
   "metadata": {},
   "outputs": [
    {
     "name": "stdout",
     "output_type": "stream",
     "text": [
      "(24816, 5)\n"
     ]
    }
   ],
   "source": [
    "f = h5py.File('../processed-pythia82-lhc13-all-pt1-50k-r1_h022_e0175_t220_nonu_withPars_truth.z', 'r')\n",
    "treeArray = f['t_allpar_new'][()]\n",
    "\n",
    "features = ['j1_ptrel', 'j1_etarot', 'j1_phirot', 'j1_erel', 'j1_deltaR', 'j1_costhetarel', 'j1_pdgid', 'j_index']\n",
    "labels = ['j_g', 'j_q', 'j_w', 'j_z', 'j_t', 'j_index']\n",
    "\n",
    "features_labels_df = pd.DataFrame(treeArray,columns=list(set(features+labels)))\n",
    "features_labels_df = features_labels_df.drop_duplicates()\n",
    "\n",
    "features_df = features_labels_df[features]\n",
    "labels_df = features_labels_df[labels]\n",
    "labels_df = labels_df.drop_duplicates()\n",
    "\n",
    "# Convert to numpy array \n",
    "features_val = features_df.values\n",
    "labels_val = labels_df.values\n",
    "\n",
    "if 'j_index' in features:\n",
    "    features_val = features_val[:,:-1] # drop the j_index feature\n",
    "if 'j_index' in labels:\n",
    "    labels_val = labels_val[:,:-1] # drop the j_index label\n",
    "    print(labels_val.shape)\n",
    "\n",
    "features_2dval = np.zeros((len(labels_df), 100, len(features)-1))\n",
    "for i in range(0, len(labels_df)):\n",
    "    features_df_i = features_df[features_df['j_index']==labels_df['j_index'].iloc[i]]\n",
    "    index_values = features_df_i.index.values\n",
    "    #features_val_i = features_val[index_values[0]:index_values[-1]+1,:-1] # drop the last feature j_index\n",
    "    features_val_i = features_val[np.array(index_values),:]\n",
    "    nParticles = len(features_val_i)\n",
    "    #print(\"before\", features_val_i[:,0])\n",
    "    features_val_i = features_val_i[features_val_i[:,0].argsort()[::-1]] # sort descending by first value (ptrel, usually)\n",
    "    #print(\"after\", features_val_i[:,0])\n",
    "    if nParticles>100:\n",
    "        features_val_i =  features_val_i[0:100,:]\n",
    "    else:        \n",
    "        features_val_i = np.concatenate([features_val_i, np.zeros((100-nParticles, len(features)-1))])\n",
    "    features_2dval[i, :, :] = features_val_i\n",
    "\n",
    "features_val = features_2dval"
   ]
  },
  {
   "cell_type": "code",
   "execution_count": 3,
   "metadata": {},
   "outputs": [],
   "source": [
    "X_train_val, X_test, y_train_val, y_test = train_test_split(features_val, labels_val, test_size=0.2, random_state=42)\n",
    "\n",
    "reshape_X_train_val = X_train_val.reshape(X_train_val.shape[0]*X_train_val.shape[1],X_train_val.shape[2])\n",
    "scaler = preprocessing.StandardScaler().fit(reshape_X_train_val)\n",
    "for p in range(X_train_val.shape[1]):\n",
    "    X_train_val[:,p,:] = scaler.transform(X_train_val[:,p,:])\n",
    "    X_test[:,p,:] = scaler.transform(X_test[:,p,:])\n",
    "    \n",
    "if 'j_index' in labels:\n",
    "    labels = labels[:-1]"
   ]
  },
  {
   "cell_type": "code",
   "execution_count": 4,
   "metadata": {},
   "outputs": [
    {
     "name": "stdout",
     "output_type": "stream",
     "text": [
      "Model: \"model\"\n",
      "_________________________________________________________________\n",
      "Layer (type)                 Output Shape              Param #   \n",
      "=================================================================\n",
      "input_1 (InputLayer)         [(None, 100, 7)]          0         \n",
      "_________________________________________________________________\n",
      "conv1_relu (Conv1D)          (None, 100, 8)            232       \n",
      "_________________________________________________________________\n",
      "conv2_relu (Conv1D)          (None, 50, 4)             132       \n",
      "_________________________________________________________________\n",
      "conv3_relu (Conv1D)          (None, 17, 2)             34        \n",
      "_________________________________________________________________\n",
      "flatten (Flatten)            (None, 34)                0         \n",
      "_________________________________________________________________\n",
      "fc1_relu (Dense)             (None, 32)                1120      \n",
      "_________________________________________________________________\n",
      "output_softmax (Dense)       (None, 5)                 165       \n",
      "=================================================================\n",
      "Total params: 1,683\n",
      "Trainable params: 1,683\n",
      "Non-trainable params: 0\n",
      "_________________________________________________________________\n"
     ]
    }
   ],
   "source": [
    "#h5f = h5py.File('KERAS_conv1d_weights.h5', 'r')\n",
    "Inputs = Input(shape=(100, 7,))\n",
    "x = Conv1D(filters=8, kernel_size=4, strides=1, padding='same',\n",
    "           kernel_initializer='he_normal', use_bias=True, name='conv1_relu',\n",
    "           activation = 'relu', kernel_regularizer=l1(0.0001))(Inputs) \n",
    "           #kernel_constraint = zero_some_weights(binary_tensor=h5f['conv1_relu'][()].tolist()))(Inputs)\n",
    "x = Conv1D(filters=4, kernel_size=4, strides=2, padding='same',\n",
    "           kernel_initializer='he_normal', use_bias=True, name='conv2_relu',\n",
    "           activation = 'relu', kernel_regularizer=l1(0.0001))(x)\n",
    "           #kernel_constraint = zero_some_weights(binary_tensor=h5f['conv2_relu'][()].tolist()))(x)\n",
    "x = Conv1D(filters=2, kernel_size=4, strides=3, padding='same',\n",
    "           kernel_initializer='he_normal', use_bias=True, name='conv3_relu',\n",
    "           activation = 'relu', kernel_regularizer=l1(0.0001))(x)\n",
    "           #kernel_constraint = zero_some_weights(binary_tensor=h5f['conv3_relu'][()].tolist()))(x)\n",
    "x = Flatten()(x)\n",
    "x = Dense(32, activation='relu', kernel_initializer='lecun_uniform', \n",
    "          name='fc1_relu', kernel_regularizer=l1(0.0001))(x)\n",
    "          #kernel_constraint = zero_some_weights(binary_tensor=h5f['fc1_relu'][()].tolist()))(x)\n",
    "predictions = Dense(5, activation='softmax', kernel_initializer='lecun_uniform', \n",
    "                    name='output_softmax', kernel_regularizer=l1(0.0001))(x)\n",
    "                    #kernel_constraint = zero_some_weights(binary_tensor=f['output_softmax'][()].tolist()))(x)\n",
    "model = Model(inputs=Inputs, outputs=predictions)\n",
    "model.summary()"
   ]
  },
  {
   "cell_type": "code",
   "execution_count": 5,
   "metadata": {},
   "outputs": [],
   "source": [
    "adam = Adam(lr=0.0001)\n",
    "model.compile(optimizer=adam, loss=['categorical_crossentropy'], metrics=['accuracy'])"
   ]
  },
  {
   "cell_type": "code",
   "execution_count": 6,
   "metadata": {},
   "outputs": [
    {
     "name": "stdout",
     "output_type": "stream",
     "text": [
      "Epoch 1/100\n",
      "15/15 [==============================] - 1s 52ms/step - loss: 2.0260 - accuracy: 0.1286 - val_loss: 1.9519 - val_accuracy: 0.1517\n",
      "Epoch 2/100\n",
      "15/15 [==============================] - 0s 22ms/step - loss: 1.9227 - accuracy: 0.1593 - val_loss: 1.8557 - val_accuracy: 0.1910\n",
      "Epoch 3/100\n",
      "15/15 [==============================] - 0s 20ms/step - loss: 1.8313 - accuracy: 0.1958 - val_loss: 1.7691 - val_accuracy: 0.2319\n",
      "Epoch 4/100\n",
      "15/15 [==============================] - 0s 28ms/step - loss: 1.7477 - accuracy: 0.2372 - val_loss: 1.6895 - val_accuracy: 0.2839\n",
      "Epoch 5/100\n",
      "15/15 [==============================] - 0s 15ms/step - loss: 1.6695 - accuracy: 0.2836 - val_loss: 1.6133 - val_accuracy: 0.3276\n",
      "Epoch 6/100\n",
      "15/15 [==============================] - 0s 15ms/step - loss: 1.5938 - accuracy: 0.3340 - val_loss: 1.5388 - val_accuracy: 0.3790\n",
      "Epoch 7/100\n",
      "15/15 [==============================] - 0s 20ms/step - loss: 1.5191 - accuracy: 0.3856 - val_loss: 1.4642 - val_accuracy: 0.4304\n",
      "Epoch 8/100\n",
      "15/15 [==============================] - 0s 18ms/step - loss: 1.4436 - accuracy: 0.4432 - val_loss: 1.3884 - val_accuracy: 0.4882\n",
      "Epoch 9/100\n",
      "15/15 [==============================] - 1s 42ms/step - loss: 1.3667 - accuracy: 0.4978 - val_loss: 1.3109 - val_accuracy: 0.5412\n",
      "Epoch 10/100\n",
      "15/15 [==============================] - 0s 32ms/step - loss: 1.2882 - accuracy: 0.5580 - val_loss: 1.2318 - val_accuracy: 0.5998\n",
      "Epoch 11/100\n",
      "15/15 [==============================] - 1s 41ms/step - loss: 1.2086 - accuracy: 0.6124 - val_loss: 1.1519 - val_accuracy: 0.6496\n",
      "Epoch 12/100\n",
      "15/15 [==============================] - 0s 30ms/step - loss: 1.1286 - accuracy: 0.6620 - val_loss: 1.0725 - val_accuracy: 0.6923\n",
      "Epoch 13/100\n",
      "15/15 [==============================] - 0s 17ms/step - loss: 1.0493 - accuracy: 0.7059 - val_loss: 0.9956 - val_accuracy: 0.7292\n",
      "Epoch 14/100\n",
      "15/15 [==============================] - 0s 26ms/step - loss: 0.9735 - accuracy: 0.7360 - val_loss: 0.9224 - val_accuracy: 0.7568\n",
      "Epoch 15/100\n",
      "15/15 [==============================] - 0s 24ms/step - loss: 0.9022 - accuracy: 0.7597 - val_loss: 0.8550 - val_accuracy: 0.7745\n",
      "Epoch 16/100\n",
      "15/15 [==============================] - 0s 25ms/step - loss: 0.8376 - accuracy: 0.7763 - val_loss: 0.7946 - val_accuracy: 0.7842\n",
      "Epoch 17/100\n",
      "15/15 [==============================] - 0s 19ms/step - loss: 0.7802 - accuracy: 0.7880 - val_loss: 0.7420 - val_accuracy: 0.7957\n",
      "Epoch 18/100\n",
      "15/15 [==============================] - 0s 33ms/step - loss: 0.7307 - accuracy: 0.7955 - val_loss: 0.6974 - val_accuracy: 0.8025\n",
      "Epoch 19/100\n",
      "15/15 [==============================] - 0s 21ms/step - loss: 0.6889 - accuracy: 0.8003 - val_loss: 0.6601 - val_accuracy: 0.8048\n",
      "Epoch 20/100\n",
      "15/15 [==============================] - 0s 16ms/step - loss: 0.6541 - accuracy: 0.8025 - val_loss: 0.6290 - val_accuracy: 0.8082\n",
      "Epoch 21/100\n",
      "15/15 [==============================] - 0s 20ms/step - loss: 0.6251 - accuracy: 0.8042 - val_loss: 0.6031 - val_accuracy: 0.8090\n",
      "Epoch 22/100\n",
      "15/15 [==============================] - 0s 31ms/step - loss: 0.6008 - accuracy: 0.8056 - val_loss: 0.5816 - val_accuracy: 0.8090\n",
      "Epoch 23/100\n",
      "15/15 [==============================] - 0s 16ms/step - loss: 0.5804 - accuracy: 0.8060 - val_loss: 0.5634 - val_accuracy: 0.8098\n",
      "Epoch 24/100\n",
      "15/15 [==============================] - 0s 11ms/step - loss: 0.5632 - accuracy: 0.8065 - val_loss: 0.5479 - val_accuracy: 0.8096\n",
      "Epoch 25/100\n",
      "15/15 [==============================] - 0s 17ms/step - loss: 0.5483 - accuracy: 0.8070 - val_loss: 0.5344 - val_accuracy: 0.8096\n",
      "Epoch 26/100\n",
      "15/15 [==============================] - 0s 18ms/step - loss: 0.5352 - accuracy: 0.8072 - val_loss: 0.5225 - val_accuracy: 0.8100\n",
      "Epoch 27/100\n",
      "15/15 [==============================] - 0s 20ms/step - loss: 0.5236 - accuracy: 0.8074 - val_loss: 0.5118 - val_accuracy: 0.8108\n",
      "Epoch 28/100\n",
      "15/15 [==============================] - 0s 27ms/step - loss: 0.5131 - accuracy: 0.8076 - val_loss: 0.5020 - val_accuracy: 0.8112\n",
      "Epoch 29/100\n",
      "15/15 [==============================] - 0s 14ms/step - loss: 0.5033 - accuracy: 0.8080 - val_loss: 0.4929 - val_accuracy: 0.8122\n",
      "Epoch 30/100\n",
      "15/15 [==============================] - 0s 27ms/step - loss: 0.4941 - accuracy: 0.8087 - val_loss: 0.4843 - val_accuracy: 0.8130\n",
      "Epoch 31/100\n",
      "15/15 [==============================] - 0s 28ms/step - loss: 0.4854 - accuracy: 0.8095 - val_loss: 0.4759 - val_accuracy: 0.8138\n",
      "Epoch 32/100\n",
      "15/15 [==============================] - 0s 19ms/step - loss: 0.4769 - accuracy: 0.8105 - val_loss: 0.4679 - val_accuracy: 0.8148\n",
      "Epoch 33/100\n",
      "15/15 [==============================] - 0s 20ms/step - loss: 0.4686 - accuracy: 0.8122 - val_loss: 0.4601 - val_accuracy: 0.8158\n",
      "Epoch 34/100\n",
      "15/15 [==============================] - 0s 19ms/step - loss: 0.4606 - accuracy: 0.8141 - val_loss: 0.4525 - val_accuracy: 0.8170\n",
      "Epoch 35/100\n",
      "15/15 [==============================] - 1s 36ms/step - loss: 0.4526 - accuracy: 0.8161 - val_loss: 0.4451 - val_accuracy: 0.8185\n",
      "Epoch 36/100\n",
      "15/15 [==============================] - 0s 18ms/step - loss: 0.4449 - accuracy: 0.8191 - val_loss: 0.4379 - val_accuracy: 0.8227\n",
      "Epoch 37/100\n",
      "15/15 [==============================] - 0s 21ms/step - loss: 0.4371 - accuracy: 0.8226 - val_loss: 0.4308 - val_accuracy: 0.8257\n",
      "Epoch 38/100\n",
      "15/15 [==============================] - 0s 28ms/step - loss: 0.4296 - accuracy: 0.8252 - val_loss: 0.4238 - val_accuracy: 0.8309\n",
      "Epoch 39/100\n",
      "15/15 [==============================] - 0s 23ms/step - loss: 0.4221 - accuracy: 0.8290 - val_loss: 0.4169 - val_accuracy: 0.8352\n",
      "Epoch 40/100\n",
      "15/15 [==============================] - 0s 27ms/step - loss: 0.4147 - accuracy: 0.8343 - val_loss: 0.4100 - val_accuracy: 0.8398\n",
      "Epoch 41/100\n",
      "15/15 [==============================] - 0s 24ms/step - loss: 0.4073 - accuracy: 0.8391 - val_loss: 0.4030 - val_accuracy: 0.8440\n",
      "Epoch 42/100\n",
      "15/15 [==============================] - 0s 27ms/step - loss: 0.3999 - accuracy: 0.8440 - val_loss: 0.3962 - val_accuracy: 0.8489\n",
      "Epoch 43/100\n",
      "15/15 [==============================] - 0s 22ms/step - loss: 0.3925 - accuracy: 0.8505 - val_loss: 0.3893 - val_accuracy: 0.8545\n",
      "Epoch 44/100\n",
      "15/15 [==============================] - 0s 25ms/step - loss: 0.3850 - accuracy: 0.8561 - val_loss: 0.3824 - val_accuracy: 0.8592\n",
      "Epoch 45/100\n",
      "15/15 [==============================] - 0s 26ms/step - loss: 0.3776 - accuracy: 0.8623 - val_loss: 0.3755 - val_accuracy: 0.8640\n",
      "Epoch 46/100\n",
      "15/15 [==============================] - 0s 24ms/step - loss: 0.3701 - accuracy: 0.8672 - val_loss: 0.3684 - val_accuracy: 0.8684\n",
      "Epoch 47/100\n",
      "15/15 [==============================] - 0s 25ms/step - loss: 0.3626 - accuracy: 0.8718 - val_loss: 0.3612 - val_accuracy: 0.8717\n",
      "Epoch 48/100\n",
      "15/15 [==============================] - 0s 26ms/step - loss: 0.3551 - accuracy: 0.8768 - val_loss: 0.3540 - val_accuracy: 0.8759\n",
      "Epoch 49/100\n",
      "15/15 [==============================] - 0s 25ms/step - loss: 0.3475 - accuracy: 0.8807 - val_loss: 0.3467 - val_accuracy: 0.8795\n",
      "Epoch 50/100\n",
      "15/15 [==============================] - 0s 19ms/step - loss: 0.3399 - accuracy: 0.8852 - val_loss: 0.3394 - val_accuracy: 0.8827\n",
      "Epoch 51/100\n",
      "15/15 [==============================] - 1s 39ms/step - loss: 0.3323 - accuracy: 0.8898 - val_loss: 0.3320 - val_accuracy: 0.8864\n",
      "Epoch 52/100\n",
      "15/15 [==============================] - 1s 40ms/step - loss: 0.3248 - accuracy: 0.8935 - val_loss: 0.3247 - val_accuracy: 0.8914\n",
      "Epoch 53/100\n",
      "15/15 [==============================] - 1s 35ms/step - loss: 0.3173 - accuracy: 0.8968 - val_loss: 0.3173 - val_accuracy: 0.8948\n",
      "Epoch 54/100\n",
      "15/15 [==============================] - 0s 22ms/step - loss: 0.3098 - accuracy: 0.9004 - val_loss: 0.3100 - val_accuracy: 0.8978\n",
      "Epoch 55/100\n",
      "15/15 [==============================] - 0s 16ms/step - loss: 0.3024 - accuracy: 0.9031 - val_loss: 0.3027 - val_accuracy: 0.9009\n",
      "Epoch 56/100\n",
      "15/15 [==============================] - 0s 18ms/step - loss: 0.2952 - accuracy: 0.9078 - val_loss: 0.2956 - val_accuracy: 0.9041\n",
      "Epoch 57/100\n",
      "15/15 [==============================] - 0s 20ms/step - loss: 0.2881 - accuracy: 0.9112 - val_loss: 0.2885 - val_accuracy: 0.9067\n",
      "Epoch 58/100\n"
     ]
    },
    {
     "name": "stdout",
     "output_type": "stream",
     "text": [
      "15/15 [==============================] - 0s 18ms/step - loss: 0.2811 - accuracy: 0.9148 - val_loss: 0.2816 - val_accuracy: 0.9089\n",
      "Epoch 59/100\n",
      "15/15 [==============================] - 0s 10ms/step - loss: 0.2743 - accuracy: 0.9175 - val_loss: 0.2749 - val_accuracy: 0.9119\n",
      "Epoch 60/100\n",
      "15/15 [==============================] - 0s 15ms/step - loss: 0.2676 - accuracy: 0.9196 - val_loss: 0.2683 - val_accuracy: 0.9150\n",
      "Epoch 61/100\n",
      "15/15 [==============================] - 0s 24ms/step - loss: 0.2610 - accuracy: 0.9226 - val_loss: 0.2618 - val_accuracy: 0.9172\n",
      "Epoch 62/100\n",
      "15/15 [==============================] - 0s 19ms/step - loss: 0.2546 - accuracy: 0.9264 - val_loss: 0.2554 - val_accuracy: 0.9198\n",
      "Epoch 63/100\n",
      "15/15 [==============================] - 0s 16ms/step - loss: 0.2482 - accuracy: 0.9294 - val_loss: 0.2490 - val_accuracy: 0.9230\n",
      "Epoch 64/100\n",
      "15/15 [==============================] - 0s 17ms/step - loss: 0.2419 - accuracy: 0.9329 - val_loss: 0.2428 - val_accuracy: 0.9259\n",
      "Epoch 65/100\n",
      "15/15 [==============================] - 0s 17ms/step - loss: 0.2357 - accuracy: 0.9351 - val_loss: 0.2366 - val_accuracy: 0.9289\n",
      "Epoch 66/100\n",
      "15/15 [==============================] - 0s 22ms/step - loss: 0.2296 - accuracy: 0.9383 - val_loss: 0.2306 - val_accuracy: 0.9309\n",
      "Epoch 67/100\n",
      "15/15 [==============================] - 0s 18ms/step - loss: 0.2237 - accuracy: 0.9408 - val_loss: 0.2246 - val_accuracy: 0.9327\n",
      "Epoch 68/100\n",
      "15/15 [==============================] - 0s 25ms/step - loss: 0.2178 - accuracy: 0.9430 - val_loss: 0.2189 - val_accuracy: 0.9349\n",
      "Epoch 69/100\n",
      "15/15 [==============================] - 0s 14ms/step - loss: 0.2121 - accuracy: 0.9446 - val_loss: 0.2132 - val_accuracy: 0.9377\n",
      "Epoch 70/100\n",
      "15/15 [==============================] - 0s 16ms/step - loss: 0.2065 - accuracy: 0.9471 - val_loss: 0.2076 - val_accuracy: 0.9404\n",
      "Epoch 71/100\n",
      "15/15 [==============================] - 0s 17ms/step - loss: 0.2011 - accuracy: 0.9492 - val_loss: 0.2023 - val_accuracy: 0.9432\n",
      "Epoch 72/100\n",
      "15/15 [==============================] - 0s 26ms/step - loss: 0.1958 - accuracy: 0.9511 - val_loss: 0.1971 - val_accuracy: 0.9454\n",
      "Epoch 73/100\n",
      "15/15 [==============================] - 0s 24ms/step - loss: 0.1906 - accuracy: 0.9527 - val_loss: 0.1920 - val_accuracy: 0.9468\n",
      "Epoch 74/100\n",
      "15/15 [==============================] - 0s 12ms/step - loss: 0.1857 - accuracy: 0.9542 - val_loss: 0.1872 - val_accuracy: 0.9494\n",
      "Epoch 75/100\n",
      "15/15 [==============================] - 0s 18ms/step - loss: 0.1809 - accuracy: 0.9551 - val_loss: 0.1825 - val_accuracy: 0.9518\n",
      "Epoch 76/100\n",
      "15/15 [==============================] - 0s 18ms/step - loss: 0.1764 - accuracy: 0.9570 - val_loss: 0.1779 - val_accuracy: 0.9529\n",
      "Epoch 77/100\n",
      "15/15 [==============================] - 0s 23ms/step - loss: 0.1719 - accuracy: 0.9588 - val_loss: 0.1736 - val_accuracy: 0.9559\n",
      "Epoch 78/100\n",
      "15/15 [==============================] - 0s 18ms/step - loss: 0.1676 - accuracy: 0.9602 - val_loss: 0.1694 - val_accuracy: 0.9569\n",
      "Epoch 79/100\n",
      "15/15 [==============================] - 0s 15ms/step - loss: 0.1635 - accuracy: 0.9608 - val_loss: 0.1653 - val_accuracy: 0.9575\n",
      "Epoch 80/100\n",
      "15/15 [==============================] - 0s 17ms/step - loss: 0.1595 - accuracy: 0.9619 - val_loss: 0.1615 - val_accuracy: 0.9583\n",
      "Epoch 81/100\n",
      "15/15 [==============================] - 0s 16ms/step - loss: 0.1558 - accuracy: 0.9621 - val_loss: 0.1577 - val_accuracy: 0.9591\n",
      "Epoch 82/100\n",
      "15/15 [==============================] - 0s 23ms/step - loss: 0.1521 - accuracy: 0.9633 - val_loss: 0.1540 - val_accuracy: 0.9603\n",
      "Epoch 83/100\n",
      "15/15 [==============================] - 0s 21ms/step - loss: 0.1485 - accuracy: 0.9642 - val_loss: 0.1506 - val_accuracy: 0.9615\n",
      "Epoch 84/100\n",
      "15/15 [==============================] - 0s 30ms/step - loss: 0.1451 - accuracy: 0.9647 - val_loss: 0.1472 - val_accuracy: 0.9627\n",
      "Epoch 85/100\n",
      "15/15 [==============================] - 0s 16ms/step - loss: 0.1417 - accuracy: 0.9654 - val_loss: 0.1439 - val_accuracy: 0.9635\n",
      "Epoch 86/100\n",
      "15/15 [==============================] - 0s 17ms/step - loss: 0.1385 - accuracy: 0.9664 - val_loss: 0.1408 - val_accuracy: 0.9641\n",
      "Epoch 87/100\n",
      "15/15 [==============================] - 0s 19ms/step - loss: 0.1353 - accuracy: 0.9681 - val_loss: 0.1376 - val_accuracy: 0.9647\n",
      "Epoch 88/100\n",
      "15/15 [==============================] - 0s 21ms/step - loss: 0.1322 - accuracy: 0.9689 - val_loss: 0.1346 - val_accuracy: 0.9653\n",
      "Epoch 89/100\n",
      "15/15 [==============================] - 0s 25ms/step - loss: 0.1293 - accuracy: 0.9696 - val_loss: 0.1316 - val_accuracy: 0.9659\n",
      "Epoch 90/100\n",
      "15/15 [==============================] - 0s 21ms/step - loss: 0.1263 - accuracy: 0.9714 - val_loss: 0.1286 - val_accuracy: 0.9674\n",
      "Epoch 91/100\n",
      "15/15 [==============================] - 0s 15ms/step - loss: 0.1234 - accuracy: 0.9716 - val_loss: 0.1259 - val_accuracy: 0.9680\n",
      "Epoch 92/100\n",
      "15/15 [==============================] - 0s 26ms/step - loss: 0.1206 - accuracy: 0.9725 - val_loss: 0.1231 - val_accuracy: 0.9680\n",
      "Epoch 93/100\n",
      "15/15 [==============================] - 0s 19ms/step - loss: 0.1180 - accuracy: 0.9731 - val_loss: 0.1205 - val_accuracy: 0.9694\n",
      "Epoch 94/100\n",
      "15/15 [==============================] - 0s 20ms/step - loss: 0.1155 - accuracy: 0.9735 - val_loss: 0.1182 - val_accuracy: 0.9704\n",
      "Epoch 95/100\n",
      "15/15 [==============================] - 0s 13ms/step - loss: 0.1132 - accuracy: 0.9741 - val_loss: 0.1157 - val_accuracy: 0.9708\n",
      "Epoch 96/100\n",
      "15/15 [==============================] - 0s 17ms/step - loss: 0.1109 - accuracy: 0.9743 - val_loss: 0.1135 - val_accuracy: 0.9724\n",
      "Epoch 97/100\n",
      "15/15 [==============================] - 0s 31ms/step - loss: 0.1089 - accuracy: 0.9747 - val_loss: 0.1115 - val_accuracy: 0.9730\n",
      "Epoch 98/100\n",
      "15/15 [==============================] - 0s 14ms/step - loss: 0.1069 - accuracy: 0.9754 - val_loss: 0.1096 - val_accuracy: 0.9734\n",
      "Epoch 99/100\n",
      "15/15 [==============================] - 0s 16ms/step - loss: 0.1051 - accuracy: 0.9752 - val_loss: 0.1078 - val_accuracy: 0.9738\n",
      "Epoch 100/100\n",
      "15/15 [==============================] - 1s 37ms/step - loss: 0.1034 - accuracy: 0.9762 - val_loss: 0.1060 - val_accuracy: 0.9752\n"
     ]
    }
   ],
   "source": [
    "history = model.fit(X_train_val, y_train_val, batch_size = 1024, epochs = 100, \n",
    "                    validation_split = 0.25, shuffle = True, callbacks = None,\n",
    "                    use_multiprocessing=True, workers=4)"
   ]
  },
  {
   "cell_type": "code",
   "execution_count": 7,
   "metadata": {},
   "outputs": [
    {
     "name": "stdout",
     "output_type": "stream",
     "text": [
      "WARNING:tensorflow:From C:\\Users\\45148\\anaconda3\\envs\\EPE_ML_TF2_GPU\\lib\\site-packages\\tensorflow\\python\\ops\\resource_variable_ops.py:1817: calling BaseResourceVariable.__init__ (from tensorflow.python.ops.resource_variable_ops) with constraint is deprecated and will be removed in a future version.\n",
      "Instructions for updating:\n",
      "If using Keras pass *_constraint arguments to layers.\n",
      "INFO:tensorflow:Assets written to: Conv1D\\assets\n"
     ]
    }
   ],
   "source": [
    "model.save('Conv1D') #Saves to local directory; model file 'two-layer' with no extension"
   ]
  },
  {
   "cell_type": "code",
   "execution_count": 8,
   "metadata": {},
   "outputs": [],
   "source": [
    "loaded_model = keras.models.load_model('Conv1D') #Loads from local directory"
   ]
  },
  {
   "cell_type": "code",
   "execution_count": 9,
   "metadata": {},
   "outputs": [
    {
     "name": "stdout",
     "output_type": "stream",
     "text": [
      "Model: \"model\"\n",
      "_________________________________________________________________\n",
      "Layer (type)                 Output Shape              Param #   \n",
      "=================================================================\n",
      "input_1 (InputLayer)         [(None, 100, 7)]          0         \n",
      "_________________________________________________________________\n",
      "conv1_relu (Conv1D)          (None, 100, 8)            232       \n",
      "_________________________________________________________________\n",
      "conv2_relu (Conv1D)          (None, 50, 4)             132       \n",
      "_________________________________________________________________\n",
      "conv3_relu (Conv1D)          (None, 17, 2)             34        \n",
      "_________________________________________________________________\n",
      "flatten (Flatten)            (None, 34)                0         \n",
      "_________________________________________________________________\n",
      "fc1_relu (Dense)             (None, 32)                1120      \n",
      "_________________________________________________________________\n",
      "output_softmax (Dense)       (None, 5)                 165       \n",
      "=================================================================\n",
      "Total params: 1,683\n",
      "Trainable params: 1,683\n",
      "Non-trainable params: 0\n",
      "_________________________________________________________________\n"
     ]
    }
   ],
   "source": [
    "loaded_model.summary()"
   ]
  },
  {
   "cell_type": "code",
   "execution_count": 10,
   "metadata": {},
   "outputs": [],
   "source": [
    "import matplotlib.pyplot as plt"
   ]
  },
  {
   "cell_type": "code",
   "execution_count": 11,
   "metadata": {},
   "outputs": [],
   "source": [
    "def learningCurve(history):\n",
    "    plt.figure(figsize=(10,8))\n",
    "    plt.plot(history.history['loss'], linewidth=1)\n",
    "    plt.plot(history.history['val_loss'], linewidth=1)\n",
    "    plt.title('Model Loss over Epochs')\n",
    "    plt.ylabel('Loss')\n",
    "    plt.xlabel('Epoch')\n",
    "    plt.legend(['training sample loss','validation sample loss'])\n",
    "    #plt.savefig('Learning_curve.pdf')\n",
    "    plt.show()\n",
    "    plt.close()"
   ]
  },
  {
   "cell_type": "code",
   "execution_count": 12,
   "metadata": {},
   "outputs": [
    {
     "data": {
      "image/png": "[encoded data removed]",
      "text/plain": [
       "<Figure size 720x576 with 1 Axes>"
      ]
     },
     "metadata": {
      "needs_background": "light"
     },
     "output_type": "display_data"
    }
   ],
   "source": [
    "learningCurve(history)"
   ]
  },
  {
   "cell_type": "code",
   "execution_count": 13,
   "metadata": {},
   "outputs": [],
   "source": [
    "def makeRoc(features_val, labels_val, labels, model, outputDir='', outputSuffix=''):\n",
    "    from sklearn.metrics import roc_curve, auc\n",
    "    labels_pred = model.predict(features_val)\n",
    "    df = pd.DataFrame()\n",
    "    fpr = {}\n",
    "    tpr = {}\n",
    "    auc1 = {}\n",
    "    plt.figure(figsize=(10,8))       \n",
    "    for i, label in enumerate(labels):\n",
    "        df[label] = labels_val[:,i]\n",
    "        df[label + '_pred'] = labels_pred[:,i]\n",
    "        fpr[label], tpr[label], threshold = roc_curve(df[label],df[label+'_pred'])\n",
    "        auc1[label] = auc(fpr[label], tpr[label])\n",
    "        plt.plot(fpr[label],tpr[label],label='%s tagger, AUC = %.1f%%'%(label.replace('j_',''),auc1[label]*100.))\n",
    "    plt.plot([0, 1], [0, 1], lw=1, color='black', linestyle='--')\n",
    "    #plt.semilogy()\n",
    "    plt.xlabel(\"Background Efficiency\")\n",
    "    plt.ylabel(\"Signal Efficiency\")\n",
    "    plt.xlim([-0.05, 1.05])\n",
    "    plt.ylim(0.001,1.05)\n",
    "    plt.grid(True)\n",
    "    plt.legend(loc='lower right')\n",
    "    plt.figtext(0.25, 0.90,'CONV1D ROC Curve',fontweight='bold', wrap=True, horizontalalignment='right', fontsize=14)\n",
    "    #plt.figtext(0.35, 0.90,'preliminary', style='italic', wrap=True, horizontalalignment='center', fontsize=14) \n",
    "    #plt.savefig('%sROC_%s.pdf'%(outputDir, outputSuffix))\n",
    "    return labels_pred"
   ]
  },
  {
   "cell_type": "code",
   "execution_count": 14,
   "metadata": {},
   "outputs": [
    {
     "data": {
      "image/png": "[encoded data removed]",
      "text/plain": [
       "<Figure size 720x576 with 1 Axes>"
      ]
     },
     "metadata": {
      "needs_background": "light"
     },
     "output_type": "display_data"
    }
   ],
   "source": [
    "y_pred = makeRoc(X_test, y_test, labels, model, outputSuffix='Conv1D')"
   ]
  },
  {
   "cell_type": "code",
   "execution_count": null,
   "metadata": {},
   "outputs": [],
   "source": []
  }
 ],
 "metadata": {
  "kernelspec": {
   "display_name": "Python 3",
   "language": "python",
   "name": "python3"
  },
  "language_info": {
   "codemirror_mode": {
    "name": "ipython",
    "version": 3
   },
   "file_extension": ".py",
   "mimetype": "text/x-python",
   "name": "python",
   "nbconvert_exporter": "python",
   "pygments_lexer": "ipython3",
   "version": "3.6.10"
  }
 },
 "nbformat": 4,
 "nbformat_minor": 4
}
