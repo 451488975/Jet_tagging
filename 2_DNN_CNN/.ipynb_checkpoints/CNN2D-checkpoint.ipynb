{
 "cells": [
  {
   "cell_type": "code",
   "execution_count": 1,
   "metadata": {},
   "outputs": [
    {
     "name": "stderr",
     "output_type": "stream",
     "text": [
      "Using TensorFlow backend.\n"
     ]
    }
   ],
   "source": [
    "import tensorflow as tf\n",
    "import keras\n",
    "from keras.layers import Input, Dense, Flatten, Conv2D\n",
    "from keras.models import Model\n",
    "from keras.regularizers import l1\n",
    "from keras.optimizers import Adam\n",
    "from sklearn.model_selection import train_test_split\n",
    "import os\n",
    "import h5py\n",
    "import pandas as pd\n",
    "from constraints import *\n",
    "import numpy as np\n",
    "from sklearn import preprocessing\n",
    "from callbacks import all_callbacks\n",
    "import matplotlib.pyplot as plt"
   ]
  },
  {
   "cell_type": "code",
   "execution_count": 2,
   "metadata": {},
   "outputs": [
    {
     "name": "stdout",
     "output_type": "stream",
     "text": [
      "(24816, 5)\n"
     ]
    }
   ],
   "source": [
    "f = h5py.File('../processed-pythia82-lhc13-all-pt1-50k-r1_h022_e0175_t220_nonu_withPars_truth.z', 'r')\n",
    "treeArray = f['t_allpar_new'][()]\n",
    "\n",
    "features = ['j1_etarot', 'j1_phirot', 'j1_ptrel', 'j_index']\n",
    "labels = ['j_g', 'j_q', 'j_w', 'j_z', 'j_t', 'j_index']\n",
    "\n",
    "features_labels_df = pd.DataFrame(treeArray,columns=list(set(features+labels)))\n",
    "features_labels_df = features_labels_df.drop_duplicates()\n",
    "\n",
    "features_df = features_labels_df[features]\n",
    "labels_df = features_labels_df[labels]\n",
    "\n",
    "labels_df = labels_df.drop_duplicates()\n",
    "\n",
    "# Convert to numpy array \n",
    "features_val = features_df.values\n",
    "labels_val = labels_df.values    \n",
    "\n",
    "if 'j_index' in features:\n",
    "    features_val = features_val[:,:-1] # drop the j_index feature\n",
    "if 'j_index' in labels:\n",
    "    labels_val = labels_val[:,:-1] # drop the j_index label\n",
    "    print(labels_val.shape)"
   ]
  },
  {
   "cell_type": "code",
   "execution_count": 3,
   "metadata": {},
   "outputs": [],
   "source": [
    "BinsX = 40\n",
    "BinsY = 40\n",
    "MinX = -0.8\n",
    "MaxX = 0.8\n",
    "MinY = -1.0\n",
    "MaxY = 1.0\n",
    "features_2dval = np.zeros((len(labels_df), BinsX, BinsY, 1))\n",
    "for i in range(0, len(labels_df)):\n",
    "    features_df_i = features_df[features_df['j_index']==labels_df['j_index'].iloc[i]]\n",
    "    index_values = features_df_i.index.values\n",
    "\n",
    "    xbins = np.linspace(MinX,MaxX,BinsX+1)\n",
    "    ybins = np.linspace(MinY,MaxY,BinsY+1)\n",
    "\n",
    "    x = features_df_i[features[0]]           \n",
    "    y = features_df_i[features[1]]\n",
    "    w = features_df_i[features[2]]\n",
    "\n",
    "    hist, xedges, yedges = np.histogram2d(x, y, weights=w, bins=(xbins,ybins))\n",
    "\n",
    "    for ix in range(0,BinsX):\n",
    "        for iy in range(0,BinsY):\n",
    "            features_2dval[i,ix,iy,0] = hist[ix,iy]\n",
    "features_val = features_2dval"
   ]
  },
  {
   "cell_type": "code",
   "execution_count": 4,
   "metadata": {},
   "outputs": [],
   "source": [
    "X_train_val, X_test, y_train_val, y_test = train_test_split(features_val, labels_val, test_size=0.2, random_state=42)"
   ]
  },
  {
   "cell_type": "code",
   "execution_count": 5,
   "metadata": {},
   "outputs": [],
   "source": [
    "if 'j_index' in labels:\n",
    "    labels = labels[:-1]"
   ]
  },
  {
   "cell_type": "code",
   "execution_count": 6,
   "metadata": {},
   "outputs": [
    {
     "name": "stdout",
     "output_type": "stream",
     "text": [
      "Model: \"model\"\n",
      "_________________________________________________________________\n",
      "Layer (type)                 Output Shape              Param #   \n",
      "=================================================================\n",
      "input_1 (InputLayer)         [(None, 40, 40, 1)]       0         \n",
      "_________________________________________________________________\n",
      "conv1_relu (Conv2D)          (None, 40, 40, 8)         976       \n",
      "_________________________________________________________________\n",
      "conv2_relu (Conv2D)          (None, 20, 20, 4)         292       \n",
      "_________________________________________________________________\n",
      "conv3_relu (Conv2D)          (None, 10, 10, 2)         74        \n",
      "_________________________________________________________________\n",
      "flatten (Flatten)            (None, 200)               0         \n",
      "_________________________________________________________________\n",
      "dense (Dense)                (None, 32)                6432      \n",
      "_________________________________________________________________\n",
      "output_softmax (Dense)       (None, 5)                 165       \n",
      "=================================================================\n",
      "Total params: 7,939\n",
      "Trainable params: 7,939\n",
      "Non-trainable params: 0\n",
      "_________________________________________________________________\n",
      "None\n"
     ]
    }
   ],
   "source": [
    "Inputs = Input(shape=(40, 40, 1,))\n",
    "x = Conv2D(filters=8, kernel_size=(11,11), strides=(1,1), padding='same',\n",
    "           kernel_initializer='he_normal', use_bias=True, name='conv1_relu',\n",
    "           activation = 'relu')(Inputs)\n",
    "x = Conv2D(filters=4, kernel_size=(3,3), strides=(2,2), padding='same',\n",
    "           kernel_initializer='he_normal', use_bias=True, name='conv2_relu',\n",
    "           activation = 'relu')(x)\n",
    "x = Conv2D(filters=2, kernel_size=(3,3), strides=(2,2), padding='same',\n",
    "           kernel_initializer='he_normal', use_bias=True, name='conv3_relu',\n",
    "           activation = 'relu')(x)\n",
    "x = Flatten()(x)\n",
    "x = Dense(32, activation='relu')(x)\n",
    "predictions = Dense(5, activation='softmax', kernel_initializer='lecun_uniform', name='output_softmax')(x)\n",
    "model = Model(inputs=Inputs, outputs=predictions)\n",
    "print(model.summary())"
   ]
  },
  {
   "cell_type": "code",
   "execution_count": 7,
   "metadata": {},
   "outputs": [],
   "source": [
    "adam = Adam(lr=0.0001)\n",
    "model.compile(optimizer=adam, loss='binary_crossentropy', metrics=['accuracy'])"
   ]
  },
  {
   "cell_type": "code",
   "execution_count": 9,
   "metadata": {},
   "outputs": [
    {
     "name": "stdout",
     "output_type": "stream",
     "text": [
      "Epoch 1/100\n",
      "15/15 [==============================] - 2s 110ms/step - loss: 0.5000 - accuracy: 0.5399 - val_loss: 0.4990 - val_accuracy: 0.7697\n",
      "Epoch 2/100\n",
      "15/15 [==============================] - 0s 33ms/step - loss: 0.4981 - accuracy: 0.7948 - val_loss: 0.4971 - val_accuracy: 0.8096\n",
      "Epoch 3/100\n",
      "15/15 [==============================] - 0s 28ms/step - loss: 0.4961 - accuracy: 0.8068 - val_loss: 0.4949 - val_accuracy: 0.8170\n",
      "Epoch 4/100\n",
      "15/15 [==============================] - 1s 44ms/step - loss: 0.4938 - accuracy: 0.8155 - val_loss: 0.4923 - val_accuracy: 0.8285\n",
      "Epoch 5/100\n",
      "15/15 [==============================] - 0s 30ms/step - loss: 0.4911 - accuracy: 0.8236 - val_loss: 0.4894 - val_accuracy: 0.8346\n",
      "Epoch 6/100\n",
      "15/15 [==============================] - 1s 46ms/step - loss: 0.4880 - accuracy: 0.8280 - val_loss: 0.4861 - val_accuracy: 0.8376\n",
      "Epoch 7/100\n",
      "15/15 [==============================] - 0s 29ms/step - loss: 0.4843 - accuracy: 0.8308 - val_loss: 0.4813 - val_accuracy: 0.8396\n",
      "Epoch 8/100\n",
      "15/15 [==============================] - 0s 28ms/step - loss: 0.4773 - accuracy: 0.8326 - val_loss: 0.4706 - val_accuracy: 0.8420\n",
      "Epoch 9/100\n",
      "15/15 [==============================] - 0s 24ms/step - loss: 0.4624 - accuracy: 0.8346 - val_loss: 0.4498 - val_accuracy: 0.8410\n",
      "Epoch 10/100\n",
      "15/15 [==============================] - 1s 38ms/step - loss: 0.4368 - accuracy: 0.8291 - val_loss: 0.4182 - val_accuracy: 0.8338\n",
      "Epoch 11/100\n",
      "15/15 [==============================] - 0s 32ms/step - loss: 0.4008 - accuracy: 0.8235 - val_loss: 0.3763 - val_accuracy: 0.8305\n",
      "Epoch 12/100\n",
      "15/15 [==============================] - 1s 48ms/step - loss: 0.3555 - accuracy: 0.8221 - val_loss: 0.3271 - val_accuracy: 0.8312\n",
      "Epoch 13/100\n",
      "15/15 [==============================] - 0s 30ms/step - loss: 0.3048 - accuracy: 0.8250 - val_loss: 0.2745 - val_accuracy: 0.8348\n",
      "Epoch 14/100\n",
      "15/15 [==============================] - 1s 71ms/step - loss: 0.2535 - accuracy: 0.8338 - val_loss: 0.2249 - val_accuracy: 0.8529\n",
      "Epoch 15/100\n",
      "15/15 [==============================] - 1s 53ms/step - loss: 0.2078 - accuracy: 0.8483 - val_loss: 0.1843 - val_accuracy: 0.8582\n",
      "Epoch 16/100\n",
      "15/15 [==============================] - 1s 36ms/step - loss: 0.1725 - accuracy: 0.8518 - val_loss: 0.1545 - val_accuracy: 0.8594\n",
      "Epoch 17/100\n",
      "15/15 [==============================] - 0s 25ms/step - loss: 0.1469 - accuracy: 0.8524 - val_loss: 0.1333 - val_accuracy: 0.8584\n",
      "Epoch 18/100\n",
      "15/15 [==============================] - 0s 24ms/step - loss: 0.1282 - accuracy: 0.8541 - val_loss: 0.1175 - val_accuracy: 0.8650\n",
      "Epoch 19/100\n",
      "15/15 [==============================] - 0s 23ms/step - loss: 0.1139 - accuracy: 0.8722 - val_loss: 0.1052 - val_accuracy: 0.8952\n",
      "Epoch 20/100\n",
      "15/15 [==============================] - 0s 31ms/step - loss: 0.1024 - accuracy: 0.9128 - val_loss: 0.0952 - val_accuracy: 0.9311\n",
      "Epoch 21/100\n",
      "15/15 [==============================] - 0s 28ms/step - loss: 0.0926 - accuracy: 0.9395 - val_loss: 0.0867 - val_accuracy: 0.9539\n",
      "Epoch 22/100\n",
      "15/15 [==============================] - 0s 23ms/step - loss: 0.0844 - accuracy: 0.9610 - val_loss: 0.0795 - val_accuracy: 0.9706\n",
      "Epoch 23/100\n",
      "15/15 [==============================] - 1s 35ms/step - loss: 0.0774 - accuracy: 0.9743 - val_loss: 0.0733 - val_accuracy: 0.9766\n",
      "Epoch 24/100\n",
      "15/15 [==============================] - 0s 30ms/step - loss: 0.0712 - accuracy: 0.9760 - val_loss: 0.0678 - val_accuracy: 0.9762\n",
      "Epoch 25/100\n",
      "15/15 [==============================] - 1s 42ms/step - loss: 0.0658 - accuracy: 0.9772 - val_loss: 0.0630 - val_accuracy: 0.9788\n",
      "Epoch 26/100\n",
      "15/15 [==============================] - 2s 104ms/step - loss: 0.0609 - accuracy: 0.9818 - val_loss: 0.0585 - val_accuracy: 0.9829\n",
      "Epoch 27/100\n",
      "15/15 [==============================] - 1s 76ms/step - loss: 0.0565 - accuracy: 0.9811 - val_loss: 0.0543 - val_accuracy: 0.9829\n",
      "Epoch 28/100\n",
      "15/15 [==============================] - 1s 91ms/step - loss: 0.0521 - accuracy: 0.9849 - val_loss: 0.0503 - val_accuracy: 0.9873\n",
      "Epoch 29/100\n",
      "15/15 [==============================] - 2s 105ms/step - loss: 0.0482 - accuracy: 0.9902 - val_loss: 0.0466 - val_accuracy: 0.9923\n",
      "Epoch 30/100\n",
      "15/15 [==============================] - 0s 25ms/step - loss: 0.0445 - accuracy: 0.9918 - val_loss: 0.0433 - val_accuracy: 0.9921\n",
      "Epoch 31/100\n",
      "15/15 [==============================] - 0s 26ms/step - loss: 0.0412 - accuracy: 0.9944 - val_loss: 0.0402 - val_accuracy: 0.9950\n",
      "Epoch 32/100\n",
      "15/15 [==============================] - 0s 25ms/step - loss: 0.0383 - accuracy: 0.9956 - val_loss: 0.0374 - val_accuracy: 0.9952\n",
      "Epoch 33/100\n",
      "15/15 [==============================] - 0s 24ms/step - loss: 0.0355 - accuracy: 0.9979 - val_loss: 0.0348 - val_accuracy: 0.9974\n",
      "Epoch 34/100\n",
      "15/15 [==============================] - 0s 24ms/step - loss: 0.0330 - accuracy: 0.9983 - val_loss: 0.0325 - val_accuracy: 0.9982\n",
      "Epoch 35/100\n",
      "15/15 [==============================] - 0s 26ms/step - loss: 0.0307 - accuracy: 0.9985 - val_loss: 0.0303 - val_accuracy: 0.9988\n",
      "Epoch 36/100\n",
      "15/15 [==============================] - 0s 26ms/step - loss: 0.0286 - accuracy: 0.9990 - val_loss: 0.0283 - val_accuracy: 0.9990\n",
      "Epoch 37/100\n",
      "15/15 [==============================] - 0s 26ms/step - loss: 0.0266 - accuracy: 0.9995 - val_loss: 0.0264 - val_accuracy: 0.9990\n",
      "Epoch 38/100\n",
      "15/15 [==============================] - 0s 26ms/step - loss: 0.0248 - accuracy: 0.9995 - val_loss: 0.0246 - val_accuracy: 0.9992\n",
      "Epoch 39/100\n",
      "15/15 [==============================] - 0s 28ms/step - loss: 0.0230 - accuracy: 0.9996 - val_loss: 0.0229 - val_accuracy: 0.9990\n",
      "Epoch 40/100\n",
      "15/15 [==============================] - 0s 29ms/step - loss: 0.0213 - accuracy: 0.9999 - val_loss: 0.0212 - val_accuracy: 0.9994\n",
      "Epoch 41/100\n",
      "15/15 [==============================] - 0s 27ms/step - loss: 0.0196 - accuracy: 0.9999 - val_loss: 0.0196 - val_accuracy: 0.9992\n",
      "Epoch 42/100\n",
      "15/15 [==============================] - 1s 61ms/step - loss: 0.0181 - accuracy: 0.9999 - val_loss: 0.0181 - val_accuracy: 0.9994\n",
      "Epoch 43/100\n",
      "15/15 [==============================] - 0s 26ms/step - loss: 0.0166 - accuracy: 0.9999 - val_loss: 0.0167 - val_accuracy: 0.9992\n",
      "Epoch 44/100\n",
      "15/15 [==============================] - 0s 31ms/step - loss: 0.0153 - accuracy: 0.9999 - val_loss: 0.0154 - val_accuracy: 0.9992\n",
      "Epoch 45/100\n",
      "15/15 [==============================] - 0s 27ms/step - loss: 0.0140 - accuracy: 0.9999 - val_loss: 0.0141 - val_accuracy: 0.9994\n",
      "Epoch 46/100\n",
      "15/15 [==============================] - 1s 89ms/step - loss: 0.0128 - accuracy: 0.9999 - val_loss: 0.0130 - val_accuracy: 0.9992\n",
      "Epoch 47/100\n",
      "15/15 [==============================] - 2s 102ms/step - loss: 0.0116 - accuracy: 0.9999 - val_loss: 0.0119 - val_accuracy: 0.9992\n",
      "Epoch 48/100\n",
      "15/15 [==============================] - 1s 52ms/step - loss: 0.0106 - accuracy: 0.9999 - val_loss: 0.0109 - val_accuracy: 0.9992\n",
      "Epoch 49/100\n",
      "15/15 [==============================] - 1s 37ms/step - loss: 0.0096 - accuracy: 0.9999 - val_loss: 0.0099 - val_accuracy: 0.9994\n",
      "Epoch 50/100\n",
      "15/15 [==============================] - 1s 68ms/step - loss: 0.0087 - accuracy: 0.9999 - val_loss: 0.0091 - val_accuracy: 0.9992\n",
      "Epoch 51/100\n",
      "15/15 [==============================] - 1s 38ms/step - loss: 0.0079 - accuracy: 0.9999 - val_loss: 0.0083 - val_accuracy: 0.9992\n",
      "Epoch 52/100\n",
      "15/15 [==============================] - 1s 56ms/step - loss: 0.0071 - accuracy: 0.9999 - val_loss: 0.0077 - val_accuracy: 0.9992\n",
      "Epoch 53/100\n",
      "15/15 [==============================] - 1s 34ms/step - loss: 0.0065 - accuracy: 0.9999 - val_loss: 0.0070 - val_accuracy: 0.9992\n",
      "Epoch 54/100\n",
      "15/15 [==============================] - 0s 30ms/step - loss: 0.0059 - accuracy: 0.9999 - val_loss: 0.0065 - val_accuracy: 0.9992\n",
      "Epoch 55/100\n",
      "15/15 [==============================] - 1s 49ms/step - loss: 0.0053 - accuracy: 0.9999 - val_loss: 0.0060 - val_accuracy: 0.9992\n",
      "Epoch 56/100\n",
      "15/15 [==============================] - 0s 32ms/step - loss: 0.0049 - accuracy: 0.9999 - val_loss: 0.0055 - val_accuracy: 0.9992\n",
      "Epoch 57/100\n",
      "15/15 [==============================] - 0s 28ms/step - loss: 0.0044 - accuracy: 0.9999 - val_loss: 0.0052 - val_accuracy: 0.9994\n",
      "Epoch 58/100\n"
     ]
    },
    {
     "name": "stdout",
     "output_type": "stream",
     "text": [
      "15/15 [==============================] - 0s 28ms/step - loss: 0.0041 - accuracy: 0.9999 - val_loss: 0.0048 - val_accuracy: 0.9992\n",
      "Epoch 59/100\n",
      "15/15 [==============================] - 1s 46ms/step - loss: 0.0037 - accuracy: 0.9999 - val_loss: 0.0045 - val_accuracy: 0.9994\n",
      "Epoch 60/100\n",
      "15/15 [==============================] - 1s 35ms/step - loss: 0.0034 - accuracy: 0.9999 - val_loss: 0.0043 - val_accuracy: 0.9992\n",
      "Epoch 61/100\n",
      "15/15 [==============================] - 0s 22ms/step - loss: 0.0032 - accuracy: 0.9999 - val_loss: 0.0040 - val_accuracy: 0.9994\n",
      "Epoch 62/100\n",
      "15/15 [==============================] - 0s 25ms/step - loss: 0.0029 - accuracy: 0.9999 - val_loss: 0.0038 - val_accuracy: 0.9994\n",
      "Epoch 63/100\n",
      "15/15 [==============================] - 0s 23ms/step - loss: 0.0027 - accuracy: 0.9999 - val_loss: 0.0036 - val_accuracy: 0.9994\n",
      "Epoch 64/100\n",
      "15/15 [==============================] - 0s 22ms/step - loss: 0.0026 - accuracy: 0.9999 - val_loss: 0.0035 - val_accuracy: 0.9994\n",
      "Epoch 65/100\n",
      "15/15 [==============================] - 0s 24ms/step - loss: 0.0024 - accuracy: 0.9999 - val_loss: 0.0033 - val_accuracy: 0.9994\n",
      "Epoch 66/100\n",
      "15/15 [==============================] - 0s 21ms/step - loss: 0.0022 - accuracy: 0.9999 - val_loss: 0.0032 - val_accuracy: 0.9994\n",
      "Epoch 67/100\n",
      "15/15 [==============================] - 0s 21ms/step - loss: 0.0021 - accuracy: 0.9999 - val_loss: 0.0031 - val_accuracy: 0.9994\n",
      "Epoch 68/100\n",
      "15/15 [==============================] - 0s 21ms/step - loss: 0.0020 - accuracy: 0.9999 - val_loss: 0.0030 - val_accuracy: 0.9994\n",
      "Epoch 69/100\n",
      "15/15 [==============================] - 1s 35ms/step - loss: 0.0019 - accuracy: 0.9999 - val_loss: 0.0029 - val_accuracy: 0.9994\n",
      "Epoch 70/100\n",
      "15/15 [==============================] - 0s 30ms/step - loss: 0.0018 - accuracy: 0.9999 - val_loss: 0.0028 - val_accuracy: 0.9994\n",
      "Epoch 71/100\n",
      "15/15 [==============================] - 0s 19ms/step - loss: 0.0017 - accuracy: 0.9999 - val_loss: 0.0027 - val_accuracy: 0.9994\n",
      "Epoch 72/100\n",
      "15/15 [==============================] - 0s 22ms/step - loss: 0.0016 - accuracy: 0.9999 - val_loss: 0.0027 - val_accuracy: 0.9994\n",
      "Epoch 73/100\n",
      "15/15 [==============================] - 0s 19ms/step - loss: 0.0015 - accuracy: 0.9999 - val_loss: 0.0026 - val_accuracy: 0.9994\n",
      "Epoch 74/100\n",
      "15/15 [==============================] - 0s 18ms/step - loss: 0.0015 - accuracy: 0.9999 - val_loss: 0.0025 - val_accuracy: 0.9994\n",
      "Epoch 75/100\n",
      "15/15 [==============================] - 0s 25ms/step - loss: 0.0014 - accuracy: 0.9999 - val_loss: 0.0025 - val_accuracy: 0.9994\n",
      "Epoch 76/100\n",
      "15/15 [==============================] - 0s 21ms/step - loss: 0.0014 - accuracy: 0.9999 - val_loss: 0.0024 - val_accuracy: 0.9994\n",
      "Epoch 77/100\n",
      "15/15 [==============================] - 0s 25ms/step - loss: 0.0013 - accuracy: 0.9999 - val_loss: 0.0024 - val_accuracy: 0.9994\n",
      "Epoch 78/100\n",
      "15/15 [==============================] - 0s 22ms/step - loss: 0.0013 - accuracy: 0.9999 - val_loss: 0.0024 - val_accuracy: 0.9994\n",
      "Epoch 79/100\n",
      "15/15 [==============================] - 1s 44ms/step - loss: 0.0012 - accuracy: 0.9999 - val_loss: 0.0023 - val_accuracy: 0.9994\n",
      "Epoch 80/100\n",
      "15/15 [==============================] - 0s 25ms/step - loss: 0.0012 - accuracy: 0.9999 - val_loss: 0.0023 - val_accuracy: 0.9994\n",
      "Epoch 81/100\n",
      "15/15 [==============================] - 0s 24ms/step - loss: 0.0012 - accuracy: 0.9999 - val_loss: 0.0022 - val_accuracy: 0.9994\n",
      "Epoch 82/100\n",
      "15/15 [==============================] - 0s 32ms/step - loss: 0.0011 - accuracy: 0.9999 - val_loss: 0.0022 - val_accuracy: 0.9994\n",
      "Epoch 83/100\n",
      "15/15 [==============================] - 0s 29ms/step - loss: 0.0011 - accuracy: 0.9999 - val_loss: 0.0022 - val_accuracy: 0.9994\n",
      "Epoch 84/100\n",
      "15/15 [==============================] - 0s 26ms/step - loss: 0.0011 - accuracy: 0.9999 - val_loss: 0.0022 - val_accuracy: 0.9994\n",
      "Epoch 85/100\n",
      "15/15 [==============================] - 0s 22ms/step - loss: 0.0010 - accuracy: 0.9999 - val_loss: 0.0021 - val_accuracy: 0.9994\n",
      "Epoch 86/100\n",
      "15/15 [==============================] - 0s 26ms/step - loss: 0.0010 - accuracy: 0.9999 - val_loss: 0.0021 - val_accuracy: 0.9994\n",
      "Epoch 87/100\n",
      "15/15 [==============================] - 0s 22ms/step - loss: 9.8631e-04 - accuracy: 0.9999 - val_loss: 0.0021 - val_accuracy: 0.9994\n",
      "Epoch 88/100\n",
      "15/15 [==============================] - 0s 25ms/step - loss: 9.6438e-04 - accuracy: 0.9999 - val_loss: 0.0021 - val_accuracy: 0.9994\n",
      "Epoch 89/100\n",
      "15/15 [==============================] - 0s 24ms/step - loss: 9.4396e-04 - accuracy: 0.9999 - val_loss: 0.0021 - val_accuracy: 0.9994\n",
      "Epoch 90/100\n",
      "15/15 [==============================] - 0s 31ms/step - loss: 9.2544e-04 - accuracy: 0.9999 - val_loss: 0.0020 - val_accuracy: 0.9994\n",
      "Epoch 91/100\n",
      "15/15 [==============================] - 0s 28ms/step - loss: 9.0607e-04 - accuracy: 0.9999 - val_loss: 0.0020 - val_accuracy: 0.9994\n",
      "Epoch 92/100\n",
      "15/15 [==============================] - 0s 26ms/step - loss: 8.8970e-04 - accuracy: 0.9999 - val_loss: 0.0020 - val_accuracy: 0.9994\n",
      "Epoch 93/100\n",
      "15/15 [==============================] - 0s 25ms/step - loss: 8.7411e-04 - accuracy: 0.9999 - val_loss: 0.0020 - val_accuracy: 0.9994\n",
      "Epoch 94/100\n",
      "15/15 [==============================] - 1s 39ms/step - loss: 8.5934e-04 - accuracy: 0.9999 - val_loss: 0.0020 - val_accuracy: 0.9994\n",
      "Epoch 95/100\n",
      "15/15 [==============================] - 0s 32ms/step - loss: 8.4337e-04 - accuracy: 0.9999 - val_loss: 0.0020 - val_accuracy: 0.9994\n",
      "Epoch 96/100\n",
      "15/15 [==============================] - 0s 29ms/step - loss: 8.3058e-04 - accuracy: 0.9999 - val_loss: 0.0019 - val_accuracy: 0.9994\n",
      "Epoch 97/100\n",
      "15/15 [==============================] - 0s 29ms/step - loss: 8.1810e-04 - accuracy: 0.9999 - val_loss: 0.0019 - val_accuracy: 0.9994\n",
      "Epoch 98/100\n",
      "15/15 [==============================] - 1s 35ms/step - loss: 8.0616e-04 - accuracy: 0.9999 - val_loss: 0.0019 - val_accuracy: 0.9994\n",
      "Epoch 99/100\n",
      "15/15 [==============================] - 0s 27ms/step - loss: 7.9432e-04 - accuracy: 0.9999 - val_loss: 0.0019 - val_accuracy: 0.9994\n",
      "Epoch 100/100\n",
      "15/15 [==============================] - 0s 26ms/step - loss: 7.8352e-04 - accuracy: 0.9999 - val_loss: 0.0019 - val_accuracy: 0.9994\n"
     ]
    }
   ],
   "source": [
    "history = model.fit(X_train_val, y_train_val, batch_size = 1024, epochs = 100,\n",
    "                    validation_split = 0.25, shuffle = True, callbacks = None, \n",
    "                    use_multiprocessing=True, workers=4)"
   ]
  },
  {
   "cell_type": "code",
   "execution_count": 10,
   "metadata": {},
   "outputs": [
    {
     "name": "stdout",
     "output_type": "stream",
     "text": [
      "WARNING:tensorflow:From C:\\Users\\45148\\anaconda3\\envs\\EPE_ML_TF2_GPU\\lib\\site-packages\\tensorflow\\python\\ops\\resource_variable_ops.py:1817: calling BaseResourceVariable.__init__ (from tensorflow.python.ops.resource_variable_ops) with constraint is deprecated and will be removed in a future version.\n",
      "Instructions for updating:\n",
      "If using Keras pass *_constraint arguments to layers.\n",
      "INFO:tensorflow:Assets written to: Conv2D\\assets\n"
     ]
    }
   ],
   "source": [
    "model.save('Conv2D') #Saves to local directory; model file 'two-layer' with no extension"
   ]
  },
  {
   "cell_type": "code",
   "execution_count": 11,
   "metadata": {},
   "outputs": [],
   "source": [
    "loaded_model = keras.models.load_model('Conv2D') #Loads from local directory"
   ]
  },
  {
   "cell_type": "code",
   "execution_count": 12,
   "metadata": {},
   "outputs": [
    {
     "name": "stdout",
     "output_type": "stream",
     "text": [
      "Model: \"model\"\n",
      "_________________________________________________________________\n",
      "Layer (type)                 Output Shape              Param #   \n",
      "=================================================================\n",
      "input_1 (InputLayer)         [(None, 40, 40, 1)]       0         \n",
      "_________________________________________________________________\n",
      "conv1_relu (Conv2D)          (None, 40, 40, 8)         976       \n",
      "_________________________________________________________________\n",
      "conv2_relu (Conv2D)          (None, 20, 20, 4)         292       \n",
      "_________________________________________________________________\n",
      "conv3_relu (Conv2D)          (None, 10, 10, 2)         74        \n",
      "_________________________________________________________________\n",
      "flatten (Flatten)            (None, 200)               0         \n",
      "_________________________________________________________________\n",
      "dense (Dense)                (None, 32)                6432      \n",
      "_________________________________________________________________\n",
      "output_softmax (Dense)       (None, 5)                 165       \n",
      "=================================================================\n",
      "Total params: 7,939\n",
      "Trainable params: 7,939\n",
      "Non-trainable params: 0\n",
      "_________________________________________________________________\n"
     ]
    }
   ],
   "source": [
    "loaded_model.summary()"
   ]
  },
  {
   "cell_type": "code",
   "execution_count": 13,
   "metadata": {},
   "outputs": [],
   "source": [
    "def learningCurve(history):\n",
    "    plt.figure(figsize=(10,8))\n",
    "    plt.plot(history.history['loss'], linewidth=1)\n",
    "    plt.plot(history.history['val_loss'], linewidth=1)\n",
    "    plt.title('Model Loss over Epochs')\n",
    "    plt.ylabel('Loss')\n",
    "    plt.xlabel('Epoch')\n",
    "    plt.legend(['training sample loss','validation sample loss'])\n",
    "    #plt.savefig('Learning_curve.pdf')\n",
    "    plt.show()\n",
    "    plt.close()"
   ]
  },
  {
   "cell_type": "code",
   "execution_count": 14,
   "metadata": {},
   "outputs": [
    {
     "data": {
      "image/png": "[encoded data removed]",
      "text/plain": [
       "<Figure size 720x576 with 1 Axes>"
      ]
     },
     "metadata": {
      "needs_background": "light"
     },
     "output_type": "display_data"
    }
   ],
   "source": [
    "learningCurve(history)"
   ]
  },
  {
   "cell_type": "code",
   "execution_count": 15,
   "metadata": {},
   "outputs": [],
   "source": [
    "def makeRoc(features_val, labels_val, labels, model, outputDir='', outputSuffix=''):\n",
    "    from sklearn.metrics import roc_curve, auc\n",
    "    labels_pred = model.predict(features_val)\n",
    "    df = pd.DataFrame()\n",
    "    fpr = {}\n",
    "    tpr = {}\n",
    "    auc1 = {}\n",
    "    plt.figure(figsize=(10,8))       \n",
    "    for i, label in enumerate(labels):\n",
    "        df[label] = labels_val[:,i]\n",
    "        df[label + '_pred'] = labels_pred[:,i]\n",
    "        fpr[label], tpr[label], threshold = roc_curve(df[label],df[label+'_pred'])\n",
    "        auc1[label] = auc(fpr[label], tpr[label])\n",
    "        plt.plot(fpr[label],tpr[label],label='%s tagger, AUC = %.1f%%'%(label.replace('j_',''),auc1[label]*100.))\n",
    "    plt.plot([0, 1], [0, 1], lw=1, color='black', linestyle='--')\n",
    "    #plt.semilogy()\n",
    "    plt.xlabel(\"Background Efficiency\")\n",
    "    plt.ylabel(\"Signal Efficiency\")\n",
    "    plt.xlim([-0.05, 1.05])\n",
    "    plt.ylim(0.001,1.05)\n",
    "    plt.grid(True)\n",
    "    plt.legend(loc='lower right')\n",
    "    plt.figtext(0.25, 0.90,'CONV2D ROC Curve',fontweight='bold', wrap=True, horizontalalignment='right', fontsize=14)\n",
    "    #plt.figtext(0.35, 0.90,'preliminary', style='italic', wrap=True, horizontalalignment='center', fontsize=14) \n",
    "    #plt.savefig('%sROC_%s.pdf'%(outputDir, outputSuffix))\n",
    "    return labels_pred"
   ]
  },
  {
   "cell_type": "code",
   "execution_count": 16,
   "metadata": {},
   "outputs": [
    {
     "data": {
      "image/png": "[encoded data removed]",
      "text/plain": [
       "<Figure size 720x576 with 1 Axes>"
      ]
     },
     "metadata": {
      "needs_background": "light"
     },
     "output_type": "display_data"
    }
   ],
   "source": [
    "y_pred = makeRoc(X_test, y_test, labels, model, outputSuffix='Conv2D')"
   ]
  },
  {
   "cell_type": "code",
   "execution_count": null,
   "metadata": {},
   "outputs": [],
   "source": []
  }
 ],
 "metadata": {
  "kernelspec": {
   "display_name": "Python 3",
   "language": "python",
   "name": "python3"
  },
  "language_info": {
   "codemirror_mode": {
    "name": "ipython",
    "version": 3
   },
   "file_extension": ".py",
   "mimetype": "text/x-python",
   "name": "python",
   "nbconvert_exporter": "python",
   "pygments_lexer": "ipython3",
   "version": "3.6.10"
  }
 },
 "nbformat": 4,
 "nbformat_minor": 4
}
