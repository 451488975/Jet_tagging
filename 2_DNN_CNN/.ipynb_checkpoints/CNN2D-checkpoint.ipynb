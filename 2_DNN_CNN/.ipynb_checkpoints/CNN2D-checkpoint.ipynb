{
 "cells": [
  {
   "cell_type": "code",
   "execution_count": 1,
   "metadata": {},
   "outputs": [
    {
     "name": "stderr",
     "output_type": "stream",
     "text": [
      "Using TensorFlow backend.\n"
     ]
    }
   ],
   "source": [
    "import tensorflow as tf\n",
    "import keras\n",
    "from keras.layers import Input, Dense, Flatten, Conv2D\n",
    "from keras.models import Model\n",
    "from keras.regularizers import l1\n",
    "from keras.optimizers import Adam\n",
    "from sklearn.model_selection import train_test_split\n",
    "import os\n",
    "import h5py\n",
    "import pandas as pd\n",
    "from constraints import *\n",
    "import numpy as np\n",
    "from sklearn import preprocessing\n",
    "from callbacks import all_callbacks\n",
    "import matplotlib.pyplot as plt"
   ]
  },
  {
   "cell_type": "code",
   "execution_count": 2,
   "metadata": {},
   "outputs": [
    {
     "name": "stdout",
     "output_type": "stream",
     "text": [
      "(24816, 5)\n"
     ]
    }
   ],
   "source": [
    "f = h5py.File('../processed-pythia82-lhc13-all-pt1-50k-r1_h022_e0175_t220_nonu_withPars_truth.z', 'r')\n",
    "treeArray = f['t_allpar_new'][()]\n",
    "\n",
    "features = ['j1_etarot', 'j1_phirot', 'j1_ptrel', 'j_index']\n",
    "labels = ['j_g', 'j_q', 'j_w', 'j_z', 'j_t', 'j_index']\n",
    "\n",
    "features_labels_df = pd.DataFrame(treeArray,columns=list(set(features+labels)))\n",
    "features_labels_df = features_labels_df.drop_duplicates()\n",
    "\n",
    "features_df = features_labels_df[features]\n",
    "labels_df = features_labels_df[labels]\n",
    "\n",
    "labels_df = labels_df.drop_duplicates()\n",
    "\n",
    "# Convert to numpy array \n",
    "features_val = features_df.values\n",
    "labels_val = labels_df.values    \n",
    "\n",
    "if 'j_index' in features:\n",
    "    features_val = features_val[:,:-1] # drop the j_index feature\n",
    "if 'j_index' in labels:\n",
    "    labels_val = labels_val[:,:-1] # drop the j_index label\n",
    "    print(labels_val.shape)"
   ]
  },
  {
   "cell_type": "code",
   "execution_count": 3,
   "metadata": {},
   "outputs": [],
   "source": [
    "BinsX = 40\n",
    "BinsY = 40\n",
    "MinX = -0.8\n",
    "MaxX = 0.8\n",
    "MinY = -1.0\n",
    "MaxY = 1.0\n",
    "features_2dval = np.zeros((len(labels_df), BinsX, BinsY, 1))\n",
    "for i in range(0, len(labels_df)):\n",
    "    features_df_i = features_df[features_df['j_index']==labels_df['j_index'].iloc[i]]\n",
    "    index_values = features_df_i.index.values\n",
    "\n",
    "    xbins = np.linspace(MinX,MaxX,BinsX+1)\n",
    "    ybins = np.linspace(MinY,MaxY,BinsY+1)\n",
    "\n",
    "    x = features_df_i[features[0]]           \n",
    "    y = features_df_i[features[1]]\n",
    "    w = features_df_i[features[2]]\n",
    "\n",
    "    hist, xedges, yedges = np.histogram2d(x, y, weights=w, bins=(xbins,ybins))\n",
    "\n",
    "    for ix in range(0,BinsX):\n",
    "        for iy in range(0,BinsY):\n",
    "            features_2dval[i,ix,iy,0] = hist[ix,iy]\n",
    "features_val = features_2dval"
   ]
  },
  {
   "cell_type": "code",
   "execution_count": 4,
   "metadata": {},
   "outputs": [],
   "source": [
    "X_train_val, X_test, y_train_val, y_test = train_test_split(features_val, labels_val, test_size=0.2, random_state=42)"
   ]
  },
  {
   "cell_type": "code",
   "execution_count": 5,
   "metadata": {},
   "outputs": [],
   "source": [
    "if 'j_index' in labels:\n",
    "    labels = labels[:-1]"
   ]
  },
  {
   "cell_type": "code",
   "execution_count": 6,
   "metadata": {},
   "outputs": [
    {
     "name": "stdout",
     "output_type": "stream",
     "text": [
      "Model: \"model\"\n",
      "_________________________________________________________________\n",
      "Layer (type)                 Output Shape              Param #   \n",
      "=================================================================\n",
      "input_1 (InputLayer)         [(None, 40, 40, 1)]       0         \n",
      "_________________________________________________________________\n",
      "conv1_relu (Conv2D)          (None, 40, 40, 8)         976       \n",
      "_________________________________________________________________\n",
      "conv2_relu (Conv2D)          (None, 20, 20, 4)         292       \n",
      "_________________________________________________________________\n",
      "conv3_relu (Conv2D)          (None, 10, 10, 2)         74        \n",
      "_________________________________________________________________\n",
      "flatten (Flatten)            (None, 200)               0         \n",
      "_________________________________________________________________\n",
      "dense (Dense)                (None, 32)                6432      \n",
      "_________________________________________________________________\n",
      "output_softmax (Dense)       (None, 5)                 165       \n",
      "=================================================================\n",
      "Total params: 7,939\n",
      "Trainable params: 7,939\n",
      "Non-trainable params: 0\n",
      "_________________________________________________________________\n",
      "None\n"
     ]
    }
   ],
   "source": [
    "Inputs = Input(shape=(40, 40, 1,))\n",
    "x = Conv2D(filters=8, kernel_size=(11,11), strides=(1,1), padding='same',\n",
    "           kernel_initializer='he_normal', use_bias=True, name='conv1_relu',\n",
    "           activation = 'relu')(Inputs)\n",
    "x = Conv2D(filters=4, kernel_size=(3,3), strides=(2,2), padding='same',\n",
    "           kernel_initializer='he_normal', use_bias=True, name='conv2_relu',\n",
    "           activation = 'relu')(x)\n",
    "x = Conv2D(filters=2, kernel_size=(3,3), strides=(2,2), padding='same',\n",
    "           kernel_initializer='he_normal', use_bias=True, name='conv3_relu',\n",
    "           activation = 'relu')(x)\n",
    "x = Flatten()(x)\n",
    "x = Dense(32, activation='relu')(x)\n",
    "predictions = Dense(5, activation='softmax', kernel_initializer='lecun_uniform', name='output_softmax')(x)\n",
    "model = Model(inputs=Inputs, outputs=predictions)\n",
    "print(model.summary())"
   ]
  },
  {
   "cell_type": "code",
   "execution_count": 7,
   "metadata": {},
   "outputs": [],
   "source": [
    "adam = Adam(lr=0.0001)\n",
    "model.compile(optimizer=adam, loss=['categorical_crossentropy'], metrics=['accuracy'])"
   ]
  },
  {
   "cell_type": "code",
   "execution_count": 8,
   "metadata": {},
   "outputs": [
    {
     "name": "stdout",
     "output_type": "stream",
     "text": [
      "Epoch 1/100\n",
      "15/15 [==============================] - 1s 41ms/step - loss: 1.6066 - accuracy: 0.1063 - val_loss: 1.5987 - val_accuracy: 0.2357\n",
      "Epoch 2/100\n",
      "15/15 [==============================] - 0s 16ms/step - loss: 1.5922 - accuracy: 0.4379 - val_loss: 1.5820 - val_accuracy: 0.7066\n",
      "Epoch 3/100\n",
      "15/15 [==============================] - 0s 14ms/step - loss: 1.5728 - accuracy: 0.7795 - val_loss: 1.5587 - val_accuracy: 0.8283\n",
      "Epoch 4/100\n",
      "15/15 [==============================] - 0s 14ms/step - loss: 1.5458 - accuracy: 0.8248 - val_loss: 1.5267 - val_accuracy: 0.8342\n",
      "Epoch 5/100\n",
      "15/15 [==============================] - 0s 16ms/step - loss: 1.5095 - accuracy: 0.8275 - val_loss: 1.4847 - val_accuracy: 0.8348\n",
      "Epoch 6/100\n",
      "15/15 [==============================] - 0s 17ms/step - loss: 1.4628 - accuracy: 0.8275 - val_loss: 1.4317 - val_accuracy: 0.8348\n",
      "Epoch 7/100\n",
      "15/15 [==============================] - 0s 18ms/step - loss: 1.4050 - accuracy: 0.8275 - val_loss: 1.3672 - val_accuracy: 0.8348\n",
      "Epoch 8/100\n",
      "15/15 [==============================] - 0s 17ms/step - loss: 1.3353 - accuracy: 0.8275 - val_loss: 1.2902 - val_accuracy: 0.8348\n",
      "Epoch 9/100\n",
      "15/15 [==============================] - 0s 15ms/step - loss: 1.2532 - accuracy: 0.8276 - val_loss: 1.2013 - val_accuracy: 0.8348\n",
      "Epoch 10/100\n",
      "15/15 [==============================] - 0s 17ms/step - loss: 1.1600 - accuracy: 0.8276 - val_loss: 1.1025 - val_accuracy: 0.8348\n",
      "Epoch 11/100\n",
      "15/15 [==============================] - 0s 15ms/step - loss: 1.0582 - accuracy: 0.8276 - val_loss: 0.9959 - val_accuracy: 0.8348\n",
      "Epoch 12/100\n",
      "15/15 [==============================] - 0s 15ms/step - loss: 0.9502 - accuracy: 0.8279 - val_loss: 0.8856 - val_accuracy: 0.8350\n",
      "Epoch 13/100\n",
      "15/15 [==============================] - 0s 16ms/step - loss: 0.8401 - accuracy: 0.8287 - val_loss: 0.7758 - val_accuracy: 0.8360\n",
      "Epoch 14/100\n",
      "15/15 [==============================] - 0s 16ms/step - loss: 0.7331 - accuracy: 0.8247 - val_loss: 0.6728 - val_accuracy: 0.8183\n",
      "Epoch 15/100\n",
      "15/15 [==============================] - 0s 17ms/step - loss: 0.6350 - accuracy: 0.8174 - val_loss: 0.5815 - val_accuracy: 0.8275\n",
      "Epoch 16/100\n",
      "15/15 [==============================] - 0s 16ms/step - loss: 0.5495 - accuracy: 0.8350 - val_loss: 0.5039 - val_accuracy: 0.8414\n",
      "Epoch 17/100\n",
      "15/15 [==============================] - 0s 14ms/step - loss: 0.4768 - accuracy: 0.8507 - val_loss: 0.4382 - val_accuracy: 0.8573\n",
      "Epoch 18/100\n",
      "15/15 [==============================] - 0s 15ms/step - loss: 0.4151 - accuracy: 0.8688 - val_loss: 0.3844 - val_accuracy: 0.8755\n",
      "Epoch 19/100\n",
      "15/15 [==============================] - 0s 16ms/step - loss: 0.3654 - accuracy: 0.8880 - val_loss: 0.3412 - val_accuracy: 0.8924\n",
      "Epoch 20/100\n",
      "15/15 [==============================] - 0s 17ms/step - loss: 0.3246 - accuracy: 0.9042 - val_loss: 0.3054 - val_accuracy: 0.9029\n",
      "Epoch 21/100\n",
      "15/15 [==============================] - 0s 15ms/step - loss: 0.2911 - accuracy: 0.9145 - val_loss: 0.2759 - val_accuracy: 0.9109\n",
      "Epoch 22/100\n",
      "15/15 [==============================] - 0s 15ms/step - loss: 0.2634 - accuracy: 0.9202 - val_loss: 0.2514 - val_accuracy: 0.9160\n",
      "Epoch 23/100\n",
      "15/15 [==============================] - 0s 14ms/step - loss: 0.2398 - accuracy: 0.9225 - val_loss: 0.2303 - val_accuracy: 0.9174\n",
      "Epoch 24/100\n",
      "15/15 [==============================] - 0s 15ms/step - loss: 0.2197 - accuracy: 0.9253 - val_loss: 0.2122 - val_accuracy: 0.9196\n",
      "Epoch 25/100\n",
      "15/15 [==============================] - 0s 15ms/step - loss: 0.2018 - accuracy: 0.9278 - val_loss: 0.1954 - val_accuracy: 0.9246\n",
      "Epoch 26/100\n",
      "15/15 [==============================] - 0s 16ms/step - loss: 0.1856 - accuracy: 0.9330 - val_loss: 0.1806 - val_accuracy: 0.9317\n",
      "Epoch 27/100\n",
      "15/15 [==============================] - 0s 17ms/step - loss: 0.1712 - accuracy: 0.9458 - val_loss: 0.1672 - val_accuracy: 0.9416\n",
      "Epoch 28/100\n",
      "15/15 [==============================] - 0s 16ms/step - loss: 0.1580 - accuracy: 0.9592 - val_loss: 0.1548 - val_accuracy: 0.9678\n",
      "Epoch 29/100\n",
      "15/15 [==============================] - 0s 15ms/step - loss: 0.1460 - accuracy: 0.9758 - val_loss: 0.1434 - val_accuracy: 0.9774\n",
      "Epoch 30/100\n",
      "15/15 [==============================] - 0s 15ms/step - loss: 0.1349 - accuracy: 0.9796 - val_loss: 0.1328 - val_accuracy: 0.9823\n",
      "Epoch 31/100\n",
      "15/15 [==============================] - 0s 17ms/step - loss: 0.1246 - accuracy: 0.9892 - val_loss: 0.1229 - val_accuracy: 0.9893\n",
      "Epoch 32/100\n",
      "15/15 [==============================] - 0s 16ms/step - loss: 0.1152 - accuracy: 0.9908 - val_loss: 0.1139 - val_accuracy: 0.9938\n",
      "Epoch 33/100\n",
      "15/15 [==============================] - 0s 14ms/step - loss: 0.1064 - accuracy: 0.9967 - val_loss: 0.1052 - val_accuracy: 0.9972\n",
      "Epoch 34/100\n",
      "15/15 [==============================] - 0s 15ms/step - loss: 0.0981 - accuracy: 0.9982 - val_loss: 0.0973 - val_accuracy: 0.9988\n",
      "Epoch 35/100\n",
      "15/15 [==============================] - 0s 15ms/step - loss: 0.0905 - accuracy: 0.9988 - val_loss: 0.0901 - val_accuracy: 0.9994\n",
      "Epoch 36/100\n",
      "15/15 [==============================] - 0s 15ms/step - loss: 0.0835 - accuracy: 0.9996 - val_loss: 0.0832 - val_accuracy: 0.9994\n",
      "Epoch 37/100\n",
      "15/15 [==============================] - 0s 15ms/step - loss: 0.0770 - accuracy: 0.9996 - val_loss: 0.0770 - val_accuracy: 0.9994\n",
      "Epoch 38/100\n",
      "15/15 [==============================] - 0s 15ms/step - loss: 0.0709 - accuracy: 0.9997 - val_loss: 0.0708 - val_accuracy: 0.9994\n",
      "Epoch 39/100\n",
      "15/15 [==============================] - 0s 15ms/step - loss: 0.0649 - accuracy: 0.9997 - val_loss: 0.0642 - val_accuracy: 0.9994\n",
      "Epoch 40/100\n",
      "15/15 [==============================] - 0s 15ms/step - loss: 0.0583 - accuracy: 0.9997 - val_loss: 0.0576 - val_accuracy: 0.9994\n",
      "Epoch 41/100\n",
      "15/15 [==============================] - 0s 17ms/step - loss: 0.0521 - accuracy: 0.9997 - val_loss: 0.0518 - val_accuracy: 0.9994\n",
      "Epoch 42/100\n",
      "15/15 [==============================] - 0s 16ms/step - loss: 0.0468 - accuracy: 0.9997 - val_loss: 0.0469 - val_accuracy: 0.9994\n",
      "Epoch 43/100\n",
      "15/15 [==============================] - 0s 14ms/step - loss: 0.0423 - accuracy: 0.9997 - val_loss: 0.0427 - val_accuracy: 0.9994\n",
      "Epoch 44/100\n",
      "15/15 [==============================] - 0s 14ms/step - loss: 0.0384 - accuracy: 0.9997 - val_loss: 0.0390 - val_accuracy: 0.9994\n",
      "Epoch 45/100\n",
      "15/15 [==============================] - 0s 16ms/step - loss: 0.0348 - accuracy: 0.9997 - val_loss: 0.0357 - val_accuracy: 0.9994\n",
      "Epoch 46/100\n",
      "15/15 [==============================] - 0s 15ms/step - loss: 0.0318 - accuracy: 0.9997 - val_loss: 0.0329 - val_accuracy: 0.9994\n",
      "Epoch 47/100\n",
      "15/15 [==============================] - 0s 16ms/step - loss: 0.0292 - accuracy: 0.9997 - val_loss: 0.0303 - val_accuracy: 0.9994\n",
      "Epoch 48/100\n",
      "15/15 [==============================] - 0s 15ms/step - loss: 0.0268 - accuracy: 0.9997 - val_loss: 0.0280 - val_accuracy: 0.9994\n",
      "Epoch 49/100\n",
      "15/15 [==============================] - 0s 16ms/step - loss: 0.0246 - accuracy: 0.9997 - val_loss: 0.0260 - val_accuracy: 0.9994\n",
      "Epoch 50/100\n",
      "15/15 [==============================] - 0s 15ms/step - loss: 0.0226 - accuracy: 0.9997 - val_loss: 0.0241 - val_accuracy: 0.9994\n",
      "Epoch 51/100\n",
      "15/15 [==============================] - 0s 16ms/step - loss: 0.0208 - accuracy: 0.9997 - val_loss: 0.0224 - val_accuracy: 0.9994\n",
      "Epoch 52/100\n",
      "15/15 [==============================] - 0s 15ms/step - loss: 0.0192 - accuracy: 0.9997 - val_loss: 0.0209 - val_accuracy: 0.9994\n",
      "Epoch 53/100\n",
      "15/15 [==============================] - 0s 15ms/step - loss: 0.0178 - accuracy: 0.9997 - val_loss: 0.0195 - val_accuracy: 0.9994\n",
      "Epoch 54/100\n",
      "15/15 [==============================] - 0s 15ms/step - loss: 0.0165 - accuracy: 0.9998 - val_loss: 0.0183 - val_accuracy: 0.9994\n",
      "Epoch 55/100\n",
      "15/15 [==============================] - 0s 15ms/step - loss: 0.0154 - accuracy: 0.9998 - val_loss: 0.0172 - val_accuracy: 0.9994\n",
      "Epoch 56/100\n",
      "15/15 [==============================] - 0s 15ms/step - loss: 0.0144 - accuracy: 0.9998 - val_loss: 0.0162 - val_accuracy: 0.9994\n",
      "Epoch 57/100\n",
      "15/15 [==============================] - 0s 17ms/step - loss: 0.0134 - accuracy: 0.9998 - val_loss: 0.0153 - val_accuracy: 0.9994\n",
      "Epoch 58/100\n"
     ]
    },
    {
     "name": "stdout",
     "output_type": "stream",
     "text": [
      "15/15 [==============================] - 0s 15ms/step - loss: 0.0126 - accuracy: 0.9999 - val_loss: 0.0146 - val_accuracy: 0.9994\n",
      "Epoch 59/100\n",
      "15/15 [==============================] - 0s 16ms/step - loss: 0.0118 - accuracy: 0.9999 - val_loss: 0.0139 - val_accuracy: 0.9994\n",
      "Epoch 60/100\n",
      "15/15 [==============================] - 0s 15ms/step - loss: 0.0112 - accuracy: 0.9999 - val_loss: 0.0132 - val_accuracy: 0.9994\n",
      "Epoch 61/100\n",
      "15/15 [==============================] - 0s 15ms/step - loss: 0.0105 - accuracy: 0.9999 - val_loss: 0.0126 - val_accuracy: 0.9994\n",
      "Epoch 62/100\n",
      "15/15 [==============================] - 0s 15ms/step - loss: 0.0100 - accuracy: 0.9999 - val_loss: 0.0121 - val_accuracy: 0.9994\n",
      "Epoch 63/100\n",
      "15/15 [==============================] - 0s 16ms/step - loss: 0.0095 - accuracy: 0.9999 - val_loss: 0.0116 - val_accuracy: 0.9994\n",
      "Epoch 64/100\n",
      "15/15 [==============================] - 0s 16ms/step - loss: 0.0090 - accuracy: 0.9999 - val_loss: 0.0112 - val_accuracy: 0.9994\n",
      "Epoch 65/100\n",
      "15/15 [==============================] - 0s 15ms/step - loss: 0.0085 - accuracy: 0.9999 - val_loss: 0.0107 - val_accuracy: 0.9994\n",
      "Epoch 66/100\n",
      "15/15 [==============================] - 0s 16ms/step - loss: 0.0081 - accuracy: 0.9999 - val_loss: 0.0103 - val_accuracy: 0.9994\n",
      "Epoch 67/100\n",
      "15/15 [==============================] - 0s 15ms/step - loss: 0.0077 - accuracy: 0.9999 - val_loss: 0.0100 - val_accuracy: 0.9994\n",
      "Epoch 68/100\n",
      "15/15 [==============================] - 0s 15ms/step - loss: 0.0074 - accuracy: 0.9999 - val_loss: 0.0096 - val_accuracy: 0.9994\n",
      "Epoch 69/100\n",
      "15/15 [==============================] - 0s 15ms/step - loss: 0.0071 - accuracy: 0.9999 - val_loss: 0.0093 - val_accuracy: 0.9994\n",
      "Epoch 70/100\n",
      "15/15 [==============================] - 0s 15ms/step - loss: 0.0068 - accuracy: 0.9999 - val_loss: 0.0090 - val_accuracy: 0.9994\n",
      "Epoch 71/100\n",
      "15/15 [==============================] - 0s 15ms/step - loss: 0.0065 - accuracy: 0.9999 - val_loss: 0.0087 - val_accuracy: 0.9994\n",
      "Epoch 72/100\n",
      "15/15 [==============================] - 0s 15ms/step - loss: 0.0062 - accuracy: 0.9999 - val_loss: 0.0085 - val_accuracy: 0.9994\n",
      "Epoch 73/100\n",
      "15/15 [==============================] - 0s 15ms/step - loss: 0.0060 - accuracy: 0.9999 - val_loss: 0.0082 - val_accuracy: 0.9994\n",
      "Epoch 74/100\n",
      "15/15 [==============================] - 0s 15ms/step - loss: 0.0057 - accuracy: 0.9999 - val_loss: 0.0080 - val_accuracy: 0.9994\n",
      "Epoch 75/100\n",
      "15/15 [==============================] - 0s 14ms/step - loss: 0.0055 - accuracy: 0.9999 - val_loss: 0.0078 - val_accuracy: 0.9994\n",
      "Epoch 76/100\n",
      "15/15 [==============================] - 0s 14ms/step - loss: 0.0053 - accuracy: 0.9999 - val_loss: 0.0076 - val_accuracy: 0.9994\n",
      "Epoch 77/100\n",
      "15/15 [==============================] - 0s 15ms/step - loss: 0.0051 - accuracy: 0.9999 - val_loss: 0.0074 - val_accuracy: 0.9994\n",
      "Epoch 78/100\n",
      "15/15 [==============================] - 0s 15ms/step - loss: 0.0050 - accuracy: 0.9999 - val_loss: 0.0073 - val_accuracy: 0.9994\n",
      "Epoch 79/100\n",
      "15/15 [==============================] - 0s 15ms/step - loss: 0.0048 - accuracy: 0.9999 - val_loss: 0.0072 - val_accuracy: 0.9994\n",
      "Epoch 80/100\n",
      "15/15 [==============================] - 0s 15ms/step - loss: 0.0046 - accuracy: 0.9999 - val_loss: 0.0070 - val_accuracy: 0.9994\n",
      "Epoch 81/100\n",
      "15/15 [==============================] - 0s 15ms/step - loss: 0.0045 - accuracy: 0.9999 - val_loss: 0.0068 - val_accuracy: 0.9994\n",
      "Epoch 82/100\n",
      "15/15 [==============================] - 0s 17ms/step - loss: 0.0043 - accuracy: 0.9999 - val_loss: 0.0067 - val_accuracy: 0.9994\n",
      "Epoch 83/100\n",
      "15/15 [==============================] - 0s 16ms/step - loss: 0.0042 - accuracy: 0.9999 - val_loss: 0.0066 - val_accuracy: 0.9994\n",
      "Epoch 84/100\n",
      "15/15 [==============================] - 0s 15ms/step - loss: 0.0041 - accuracy: 0.9999 - val_loss: 0.0065 - val_accuracy: 0.9994\n",
      "Epoch 85/100\n",
      "15/15 [==============================] - 0s 16ms/step - loss: 0.0040 - accuracy: 0.9999 - val_loss: 0.0064 - val_accuracy: 0.9994\n",
      "Epoch 86/100\n",
      "15/15 [==============================] - 0s 15ms/step - loss: 0.0039 - accuracy: 0.9999 - val_loss: 0.0063 - val_accuracy: 0.9994\n",
      "Epoch 87/100\n",
      "15/15 [==============================] - 0s 15ms/step - loss: 0.0038 - accuracy: 0.9999 - val_loss: 0.0062 - val_accuracy: 0.9994\n",
      "Epoch 88/100\n",
      "15/15 [==============================] - 0s 15ms/step - loss: 0.0037 - accuracy: 0.9999 - val_loss: 0.0061 - val_accuracy: 0.9994\n",
      "Epoch 89/100\n",
      "15/15 [==============================] - 0s 15ms/step - loss: 0.0036 - accuracy: 0.9999 - val_loss: 0.0060 - val_accuracy: 0.9994\n",
      "Epoch 90/100\n",
      "15/15 [==============================] - 0s 17ms/step - loss: 0.0035 - accuracy: 0.9999 - val_loss: 0.0059 - val_accuracy: 0.9994\n",
      "Epoch 91/100\n",
      "15/15 [==============================] - 0s 15ms/step - loss: 0.0034 - accuracy: 0.9999 - val_loss: 0.0059 - val_accuracy: 0.9994\n",
      "Epoch 92/100\n",
      "15/15 [==============================] - 0s 16ms/step - loss: 0.0033 - accuracy: 0.9999 - val_loss: 0.0058 - val_accuracy: 0.9994\n",
      "Epoch 93/100\n",
      "15/15 [==============================] - 0s 16ms/step - loss: 0.0033 - accuracy: 0.9999 - val_loss: 0.0057 - val_accuracy: 0.9994\n",
      "Epoch 94/100\n",
      "15/15 [==============================] - 0s 16ms/step - loss: 0.0032 - accuracy: 0.9999 - val_loss: 0.0057 - val_accuracy: 0.9994\n",
      "Epoch 95/100\n",
      "15/15 [==============================] - 0s 16ms/step - loss: 0.0031 - accuracy: 0.9999 - val_loss: 0.0056 - val_accuracy: 0.9994\n",
      "Epoch 96/100\n",
      "15/15 [==============================] - 0s 16ms/step - loss: 0.0031 - accuracy: 0.9999 - val_loss: 0.0055 - val_accuracy: 0.9994\n",
      "Epoch 97/100\n",
      "15/15 [==============================] - 0s 16ms/step - loss: 0.0030 - accuracy: 0.9999 - val_loss: 0.0055 - val_accuracy: 0.9994\n",
      "Epoch 98/100\n",
      "15/15 [==============================] - 0s 16ms/step - loss: 0.0029 - accuracy: 0.9999 - val_loss: 0.0054 - val_accuracy: 0.9994\n",
      "Epoch 99/100\n",
      "15/15 [==============================] - 0s 15ms/step - loss: 0.0029 - accuracy: 0.9999 - val_loss: 0.0054 - val_accuracy: 0.9994\n",
      "Epoch 100/100\n",
      "15/15 [==============================] - 0s 16ms/step - loss: 0.0028 - accuracy: 0.9999 - val_loss: 0.0053 - val_accuracy: 0.9994\n"
     ]
    }
   ],
   "source": [
    "history = model.fit(X_train_val, y_train_val, batch_size = 1024, epochs = 100,\n",
    "          validation_split = 0.25, shuffle = True, callbacks = None)"
   ]
  },
  {
   "cell_type": "code",
   "execution_count": 16,
   "metadata": {},
   "outputs": [
    {
     "name": "stdout",
     "output_type": "stream",
     "text": [
      "INFO:tensorflow:Assets written to: Conv2D\\assets\n"
     ]
    }
   ],
   "source": [
    "model.save('Conv2D') #Saves to local directory; model file 'two-layer' with no extension"
   ]
  },
  {
   "cell_type": "code",
   "execution_count": 17,
   "metadata": {},
   "outputs": [],
   "source": [
    "loaded_model = keras.models.load_model('Conv2D') #Loads from local directory"
   ]
  },
  {
   "cell_type": "code",
   "execution_count": 18,
   "metadata": {},
   "outputs": [
    {
     "name": "stdout",
     "output_type": "stream",
     "text": [
      "Model: \"model\"\n",
      "_________________________________________________________________\n",
      "Layer (type)                 Output Shape              Param #   \n",
      "=================================================================\n",
      "input_1 (InputLayer)         [(None, 40, 40, 1)]       0         \n",
      "_________________________________________________________________\n",
      "conv1_relu (Conv2D)          (None, 40, 40, 8)         976       \n",
      "_________________________________________________________________\n",
      "conv2_relu (Conv2D)          (None, 20, 20, 4)         292       \n",
      "_________________________________________________________________\n",
      "conv3_relu (Conv2D)          (None, 10, 10, 2)         74        \n",
      "_________________________________________________________________\n",
      "flatten (Flatten)            (None, 200)               0         \n",
      "_________________________________________________________________\n",
      "dense (Dense)                (None, 32)                6432      \n",
      "_________________________________________________________________\n",
      "output_softmax (Dense)       (None, 5)                 165       \n",
      "=================================================================\n",
      "Total params: 7,939\n",
      "Trainable params: 7,939\n",
      "Non-trainable params: 0\n",
      "_________________________________________________________________\n"
     ]
    }
   ],
   "source": [
    "loaded_model.summary()"
   ]
  },
  {
   "cell_type": "code",
   "execution_count": 19,
   "metadata": {},
   "outputs": [],
   "source": [
    "def learningCurve(history):\n",
    "    plt.figure(figsize=(10,8))\n",
    "    plt.plot(history.history['loss'], linewidth=1)\n",
    "    plt.plot(history.history['val_loss'], linewidth=1)\n",
    "    plt.title('Model Loss over Epochs')\n",
    "    plt.ylabel('Loss')\n",
    "    plt.xlabel('Epoch')\n",
    "    plt.legend(['training sample loss','validation sample loss'])\n",
    "    #plt.savefig('Learning_curve.pdf')\n",
    "    plt.show()\n",
    "    plt.close()"
   ]
  },
  {
   "cell_type": "code",
   "execution_count": 20,
   "metadata": {},
   "outputs": [
    {
     "data": {
      "image/png": "[encoded data removed]",
      "text/plain": [
       "<Figure size 720x576 with 1 Axes>"
      ]
     },
     "metadata": {
      "needs_background": "light"
     },
     "output_type": "display_data"
    }
   ],
   "source": [
    "learningCurve(history)"
   ]
  },
  {
   "cell_type": "code",
   "execution_count": 21,
   "metadata": {},
   "outputs": [],
   "source": [
    "def makeRoc(features_val, labels_val, labels, model, outputDir='', outputSuffix=''):\n",
    "    from sklearn.metrics import roc_curve, auc\n",
    "    labels_pred = model.predict(features_val)\n",
    "    df = pd.DataFrame()\n",
    "    fpr = {}\n",
    "    tpr = {}\n",
    "    auc1 = {}\n",
    "    plt.figure(figsize=(10,8))       \n",
    "    for i, label in enumerate(labels):\n",
    "        df[label] = labels_val[:,i]\n",
    "        df[label + '_pred'] = labels_pred[:,i]\n",
    "        fpr[label], tpr[label], threshold = roc_curve(df[label],df[label+'_pred'])\n",
    "        auc1[label] = auc(fpr[label], tpr[label])\n",
    "        plt.plot(fpr[label],tpr[label],label='%s tagger, AUC = %.1f%%'%(label.replace('j_',''),auc1[label]*100.))\n",
    "    plt.plot([0, 1], [0, 1], lw=1, color='black', linestyle='--')\n",
    "    #plt.semilogy()\n",
    "    plt.xlabel(\"Background Efficiency\")\n",
    "    plt.ylabel(\"Signal Efficiency\")\n",
    "    plt.xlim([-0.05, 1.05])\n",
    "    plt.ylim(0.001,1.05)\n",
    "    plt.grid(True)\n",
    "    plt.legend(loc='lower right')\n",
    "    plt.figtext(0.25, 0.90,'CONV2D ROC Curve',fontweight='bold', wrap=True, horizontalalignment='right', fontsize=14)\n",
    "    #plt.figtext(0.35, 0.90,'preliminary', style='italic', wrap=True, horizontalalignment='center', fontsize=14) \n",
    "    #plt.savefig('%sROC_%s.pdf'%(outputDir, outputSuffix))\n",
    "    return labels_pred"
   ]
  },
  {
   "cell_type": "code",
   "execution_count": 22,
   "metadata": {},
   "outputs": [
    {
     "data": {
      "image/png": "[encoded data removed]",
      "text/plain": [
       "<Figure size 720x576 with 1 Axes>"
      ]
     },
     "metadata": {
      "needs_background": "light"
     },
     "output_type": "display_data"
    }
   ],
   "source": [
    "y_pred = makeRoc(X_test, y_test, labels, model, outputSuffix='Conv2D')"
   ]
  },
  {
   "cell_type": "code",
   "execution_count": null,
   "metadata": {},
   "outputs": [],
   "source": []
  }
 ],
 "metadata": {
  "kernelspec": {
   "display_name": "Python 3",
   "language": "python",
   "name": "python3"
  },
  "language_info": {
   "codemirror_mode": {
    "name": "ipython",
    "version": 3
   },
   "file_extension": ".py",
   "mimetype": "text/x-python",
   "name": "python",
   "nbconvert_exporter": "python",
   "pygments_lexer": "ipython3",
   "version": "3.6.10"
  }
 },
 "nbformat": 4,
 "nbformat_minor": 4
}
