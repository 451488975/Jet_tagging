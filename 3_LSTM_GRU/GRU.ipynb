{
 "cells": [
  {
   "cell_type": "code",
   "execution_count": 1,
   "metadata": {},
   "outputs": [
    {
     "name": "stderr",
     "output_type": "stream",
     "text": [
      "Using TensorFlow backend.\n"
     ]
    }
   ],
   "source": [
    "import keras\n",
    "from keras.models import load_model\n",
    "from keras.models import model_from_json\n",
    "from keras.optimizers import Adam\n",
    "from sklearn.metrics import roc_curve, auc\n",
    "from sklearn.model_selection import train_test_split\n",
    "from sklearn import preprocessing\n",
    "import numpy as np\n",
    "import os\n",
    "import h5py\n",
    "import yaml\n",
    "import pandas as pd\n",
    "import matplotlib.pyplot as plt\n",
    "from collections import namedtuple"
   ]
  },
  {
   "cell_type": "code",
   "execution_count": 2,
   "metadata": {},
   "outputs": [
    {
     "name": "stdout",
     "output_type": "stream",
     "text": [
      "Loading configuration from train_config_gru.yml\n"
     ]
    },
    {
     "data": {
      "text/plain": [
       "{'Inputs': ['j1_ptrel',\n",
       "  'j1_etarot',\n",
       "  'j1_phirot',\n",
       "  'j1_erel',\n",
       "  'j1_deltaR',\n",
       "  'j1_pdgid',\n",
       "  'j_index'],\n",
       " 'Labels': ['j_g', 'j_q', 'j_w', 'j_z', 'j_t', 'j_index'],\n",
       " 'KerasModel': 'gru_model',\n",
       " 'KerasModelRetrain': 'gru_model_constraint',\n",
       " 'KerasLoss': 'categorical_crossentropy',\n",
       " 'L1Reg': 0.0001,\n",
       " 'L1RegR': 0.001,\n",
       " 'NormalizeInputs': 1,\n",
       " 'InputType': 'Conv1D',\n",
       " 'MaxParticles': 20}"
      ]
     },
     "execution_count": 2,
     "metadata": {},
     "output_type": "execute_result"
    }
   ],
   "source": [
    "Option = namedtuple(\"MyStruct\", \"inputModel inputFile tree config jsonModel outputDir\")\n",
    "\n",
    "options = Option(\n",
    "    inputModel = 'KERAS_gru_model_weights.h5',\n",
    "    inputFile = '../processed-pythia82-lhc13-all-pt1-50k-r1_h022_e0175_t220_nonu_withPars_truth.z',\n",
    "    tree = 't_allpar_new',\n",
    "    config = 'train_config_gru.yml',\n",
    "    jsonModel = 'KERAS_gru_model.json',\n",
    "    outputDir = '/output'\n",
    ")\n",
    "\n",
    "print(\"Loading configuration from\", options.config)\n",
    "config = open(options.config, 'r')\n",
    "yamlConfig =  yaml.load(config, Loader=yaml.FullLoader)\n",
    "yamlConfig"
   ]
  },
  {
   "cell_type": "code",
   "execution_count": 4,
   "metadata": {},
   "outputs": [
    {
     "name": "stdout",
     "output_type": "stream",
     "text": [
      "WARNING:tensorflow:Layer gru_selu will not use cuDNN kernel since it doesn't meet the cuDNN kernel criteria. It will use generic GPU kernel as fallback when running on GPU\n",
      "Model: \"model_1\"\n",
      "_________________________________________________________________\n",
      "Layer (type)                 Output Shape              Param #   \n",
      "=================================================================\n",
      "input_1 (InputLayer)         [(None, 20, 6)]           0         \n",
      "_________________________________________________________________\n",
      "gru_selu (GRU)               (None, 20)                1680      \n",
      "_________________________________________________________________\n",
      "dense_relu (Dense)           (None, 20)                420       \n",
      "_________________________________________________________________\n",
      "dropout_1 (Dropout)          (None, 20)                0         \n",
      "_________________________________________________________________\n",
      "rnn_densef (Dense)           (None, 5)                 105       \n",
      "=================================================================\n",
      "Total params: 2,205\n",
      "Trainable params: 2,205\n",
      "Non-trainable params: 0\n",
      "_________________________________________________________________\n"
     ]
    }
   ],
   "source": [
    "json_file = open(options.jsonModel, 'r')\n",
    "model = model_from_json(json_file.read())\n",
    "json_file.close()\n",
    "\n",
    "#model.load_weights(options.inputModel)\n",
    "model.summary()"
   ]
  },
  {
   "cell_type": "code",
   "execution_count": 5,
   "metadata": {},
   "outputs": [
    {
     "name": "stdout",
     "output_type": "stream",
     "text": [
      "(24816, 5)\n"
     ]
    }
   ],
   "source": [
    "# To use one data file:\n",
    "h5File = h5py.File(options.inputFile, 'r')\n",
    "treeArray = h5File[options.tree][()]\n",
    "\n",
    "#print(treeArray.shape)\n",
    "#print(treeArray.dtype.names)\n",
    "\n",
    "# List of features to use\n",
    "features = yamlConfig['Inputs']\n",
    "\n",
    "# List of labels to use\n",
    "labels = yamlConfig['Labels']\n",
    "\n",
    "# Convert to dataframe\n",
    "features_labels_df = pd.DataFrame(treeArray,columns=list(set(features+labels)))\n",
    "features_labels_df = features_labels_df.drop_duplicates()\n",
    "\n",
    "features_df = features_labels_df[features]\n",
    "labels_df = features_labels_df[labels]\n",
    "\n",
    "labels_df = labels_df.drop_duplicates()\n",
    "\n",
    "# Convert to numpy array \n",
    "features_val = features_df.values\n",
    "labels_val = labels_df.values\n",
    "\n",
    "if 'j_index' in features:\n",
    "    features_val = features_val[:,:-1] # drop the j_index feature\n",
    "if 'j_index' in labels:\n",
    "    labels_val = labels_val[:,:-1] # drop the j_index label\n",
    "    print(labels_val.shape)"
   ]
  },
  {
   "cell_type": "code",
   "execution_count": 6,
   "metadata": {},
   "outputs": [],
   "source": [
    "features_2dval = np.zeros((len(labels_df), yamlConfig['MaxParticles'], len(features)-1))\n",
    "for i in range(0, len(labels_df)):\n",
    "    features_df_i = features_df[features_df['j_index']==labels_df['j_index'].iloc[i]]\n",
    "    index_values = features_df_i.index.values\n",
    "    #features_val_i = features_val[index_values[0]:index_values[-1]+1,:-1] # drop the last feature j_index\n",
    "    features_val_i = features_val[np.array(index_values),:]\n",
    "    nParticles = len(features_val_i)\n",
    "    #print(\"before\", features_val_i[:,0])\n",
    "    features_val_i = features_val_i[features_val_i[:,0].argsort()[::-1]] # sort descending by first value (ptrel, usually)\n",
    "    #print(\"after\", features_val_i[:,0])\n",
    "    if nParticles>yamlConfig['MaxParticles']:\n",
    "        features_val_i =  features_val_i[0:yamlConfig['MaxParticles'],:]\n",
    "    else:        \n",
    "        features_val_i = np.concatenate([features_val_i, np.zeros((yamlConfig['MaxParticles']-nParticles, len(features)-1))])\n",
    "    features_2dval[i, :, :] = features_val_i\n",
    "    \n",
    "features_val = features_2dval\n",
    "\n",
    "X_train_val, X_test, y_train_val, y_test = train_test_split(features_val, labels_val, test_size=0.2, random_state=42)"
   ]
  },
  {
   "cell_type": "code",
   "execution_count": 7,
   "metadata": {},
   "outputs": [],
   "source": [
    "# Normalize conv inputs\n",
    "reshape_X_train_val = X_train_val.reshape(X_train_val.shape[0]*X_train_val.shape[1],X_train_val.shape[2])\n",
    "scaler = preprocessing.StandardScaler().fit(reshape_X_train_val)\n",
    "for p in range(X_train_val.shape[1]):\n",
    "    X_train_val[:,p,:] = scaler.transform(X_train_val[:,p,:])\n",
    "    X_test[:,p,:] = scaler.transform(X_test[:,p,:])    \n",
    "if 'j_index' in labels:\n",
    "    labels = labels[:-1]"
   ]
  },
  {
   "cell_type": "code",
   "execution_count": 8,
   "metadata": {},
   "outputs": [],
   "source": [
    "adam = Adam(lr=0.0001)\n",
    "model.compile(optimizer=adam, loss=[yamlConfig['KerasLoss']], metrics=['accuracy'])"
   ]
  },
  {
   "cell_type": "code",
   "execution_count": 9,
   "metadata": {},
   "outputs": [
    {
     "name": "stdout",
     "output_type": "stream",
     "text": [
      "Epoch 1/100\n",
      "15/15 [==============================] - 1s 64ms/step - loss: 1.8715 - accuracy: 0.0942 - val_loss: 1.8592 - val_accuracy: 0.0921\n",
      "Epoch 2/100\n",
      "15/15 [==============================] - 1s 46ms/step - loss: 1.8477 - accuracy: 0.0975 - val_loss: 1.8357 - val_accuracy: 0.0951\n",
      "Epoch 3/100\n",
      "15/15 [==============================] - 1s 42ms/step - loss: 1.8240 - accuracy: 0.1028 - val_loss: 1.8121 - val_accuracy: 0.0995\n",
      "Epoch 4/100\n",
      "15/15 [==============================] - 1s 47ms/step - loss: 1.8003 - accuracy: 0.1077 - val_loss: 1.7880 - val_accuracy: 0.1036\n",
      "Epoch 5/100\n",
      "15/15 [==============================] - 1s 43ms/step - loss: 1.7765 - accuracy: 0.1155 - val_loss: 1.7631 - val_accuracy: 0.1076\n",
      "Epoch 6/100\n",
      "15/15 [==============================] - 1s 45ms/step - loss: 1.7510 - accuracy: 0.1276 - val_loss: 1.7371 - val_accuracy: 0.1151\n",
      "Epoch 7/100\n",
      "15/15 [==============================] - 1s 42ms/step - loss: 1.7252 - accuracy: 0.1412 - val_loss: 1.7099 - val_accuracy: 0.1277\n",
      "Epoch 8/100\n",
      "15/15 [==============================] - 1s 41ms/step - loss: 1.6969 - accuracy: 0.1776 - val_loss: 1.6813 - val_accuracy: 0.1644\n",
      "Epoch 9/100\n",
      "15/15 [==============================] - 1s 39ms/step - loss: 1.6686 - accuracy: 0.2292 - val_loss: 1.6512 - val_accuracy: 0.2472\n",
      "Epoch 10/100\n",
      "15/15 [==============================] - 1s 45ms/step - loss: 1.6373 - accuracy: 0.3212 - val_loss: 1.6195 - val_accuracy: 0.3820\n",
      "Epoch 11/100\n",
      "15/15 [==============================] - 1s 45ms/step - loss: 1.6059 - accuracy: 0.4294 - val_loss: 1.5866 - val_accuracy: 0.5475\n",
      "Epoch 12/100\n",
      "15/15 [==============================] - 1s 46ms/step - loss: 1.5728 - accuracy: 0.5540 - val_loss: 1.5522 - val_accuracy: 0.6851\n",
      "Epoch 13/100\n",
      "15/15 [==============================] - 1s 45ms/step - loss: 1.5388 - accuracy: 0.6710 - val_loss: 1.5164 - val_accuracy: 0.7838\n",
      "Epoch 14/100\n",
      "15/15 [==============================] - 1s 46ms/step - loss: 1.5017 - accuracy: 0.7504 - val_loss: 1.4791 - val_accuracy: 0.8265\n",
      "Epoch 15/100\n",
      "15/15 [==============================] - 1s 43ms/step - loss: 1.4645 - accuracy: 0.7912 - val_loss: 1.4402 - val_accuracy: 0.8307\n",
      "Epoch 16/100\n",
      "15/15 [==============================] - 1s 40ms/step - loss: 1.4261 - accuracy: 0.8091 - val_loss: 1.4003 - val_accuracy: 0.8267\n",
      "Epoch 17/100\n",
      "15/15 [==============================] - 1s 40ms/step - loss: 1.3862 - accuracy: 0.8192 - val_loss: 1.3595 - val_accuracy: 0.8247\n",
      "Epoch 18/100\n",
      "15/15 [==============================] - 1s 39ms/step - loss: 1.3465 - accuracy: 0.8192 - val_loss: 1.3181 - val_accuracy: 0.8225\n",
      "Epoch 19/100\n",
      "15/15 [==============================] - 1s 40ms/step - loss: 1.3044 - accuracy: 0.8209 - val_loss: 1.2762 - val_accuracy: 0.8203\n",
      "Epoch 20/100\n",
      "15/15 [==============================] - 1s 40ms/step - loss: 1.2616 - accuracy: 0.8215 - val_loss: 1.2338 - val_accuracy: 0.8193\n",
      "Epoch 21/100\n",
      "15/15 [==============================] - 1s 44ms/step - loss: 1.2213 - accuracy: 0.8213 - val_loss: 1.1910 - val_accuracy: 0.8185\n",
      "Epoch 22/100\n",
      "15/15 [==============================] - 1s 47ms/step - loss: 1.1798 - accuracy: 0.8195 - val_loss: 1.1478 - val_accuracy: 0.8174\n",
      "Epoch 23/100\n",
      "15/15 [==============================] - 1s 47ms/step - loss: 1.1346 - accuracy: 0.8197 - val_loss: 1.1046 - val_accuracy: 0.8166\n",
      "Epoch 24/100\n",
      "15/15 [==============================] - 1s 49ms/step - loss: 1.0947 - accuracy: 0.8179 - val_loss: 1.0614 - val_accuracy: 0.8166\n",
      "Epoch 25/100\n",
      "15/15 [==============================] - 1s 46ms/step - loss: 1.0508 - accuracy: 0.8179 - val_loss: 1.0183 - val_accuracy: 0.8172\n",
      "Epoch 26/100\n",
      "15/15 [==============================] - 1s 42ms/step - loss: 1.0072 - accuracy: 0.8166 - val_loss: 0.9754 - val_accuracy: 0.8172\n",
      "Epoch 27/100\n",
      "15/15 [==============================] - 1s 39ms/step - loss: 0.9665 - accuracy: 0.8177 - val_loss: 0.9328 - val_accuracy: 0.8172\n",
      "Epoch 28/100\n",
      "15/15 [==============================] - 1s 39ms/step - loss: 0.9240 - accuracy: 0.8174 - val_loss: 0.8909 - val_accuracy: 0.8174\n",
      "Epoch 29/100\n",
      "15/15 [==============================] - 1s 39ms/step - loss: 0.8838 - accuracy: 0.8186 - val_loss: 0.8500 - val_accuracy: 0.8174\n",
      "Epoch 30/100\n",
      "15/15 [==============================] - 1s 41ms/step - loss: 0.8428 - accuracy: 0.8200 - val_loss: 0.8101 - val_accuracy: 0.8179\n",
      "Epoch 31/100\n",
      "15/15 [==============================] - 1s 41ms/step - loss: 0.8040 - accuracy: 0.8207 - val_loss: 0.7717 - val_accuracy: 0.8183\n",
      "Epoch 32/100\n",
      "15/15 [==============================] - 1s 39ms/step - loss: 0.7669 - accuracy: 0.8202 - val_loss: 0.7346 - val_accuracy: 0.8187\n",
      "Epoch 33/100\n",
      "15/15 [==============================] - 1s 39ms/step - loss: 0.7322 - accuracy: 0.8206 - val_loss: 0.6992 - val_accuracy: 0.8215\n",
      "Epoch 34/100\n",
      "15/15 [==============================] - 1s 46ms/step - loss: 0.6980 - accuracy: 0.8217 - val_loss: 0.6656 - val_accuracy: 0.8229\n",
      "Epoch 35/100\n",
      "15/15 [==============================] - 1s 39ms/step - loss: 0.6646 - accuracy: 0.8232 - val_loss: 0.6339 - val_accuracy: 0.8241\n",
      "Epoch 36/100\n",
      "15/15 [==============================] - 1s 39ms/step - loss: 0.6357 - accuracy: 0.8265 - val_loss: 0.6042 - val_accuracy: 0.8263\n",
      "Epoch 37/100\n",
      "15/15 [==============================] - 1s 42ms/step - loss: 0.6058 - accuracy: 0.8279 - val_loss: 0.5765 - val_accuracy: 0.8291\n",
      "Epoch 38/100\n",
      "15/15 [==============================] - 1s 39ms/step - loss: 0.5799 - accuracy: 0.8289 - val_loss: 0.5511 - val_accuracy: 0.8338\n",
      "Epoch 39/100\n",
      "15/15 [==============================] - 1s 39ms/step - loss: 0.5549 - accuracy: 0.8314 - val_loss: 0.5280 - val_accuracy: 0.8366\n",
      "Epoch 40/100\n",
      "15/15 [==============================] - 1s 40ms/step - loss: 0.5333 - accuracy: 0.8345 - val_loss: 0.5074 - val_accuracy: 0.8402\n",
      "Epoch 41/100\n",
      "15/15 [==============================] - 1s 40ms/step - loss: 0.5121 - accuracy: 0.8389 - val_loss: 0.4894 - val_accuracy: 0.8444\n",
      "Epoch 42/100\n",
      "15/15 [==============================] - 1s 40ms/step - loss: 0.4954 - accuracy: 0.8436 - val_loss: 0.4736 - val_accuracy: 0.8479\n",
      "Epoch 43/100\n",
      "15/15 [==============================] - 1s 40ms/step - loss: 0.4799 - accuracy: 0.8453 - val_loss: 0.4600 - val_accuracy: 0.8513\n",
      "Epoch 44/100\n",
      "15/15 [==============================] - 1s 40ms/step - loss: 0.4655 - accuracy: 0.8500 - val_loss: 0.4483 - val_accuracy: 0.8543\n",
      "Epoch 45/100\n",
      "15/15 [==============================] - 1s 44ms/step - loss: 0.4546 - accuracy: 0.8541 - val_loss: 0.4382 - val_accuracy: 0.8567\n",
      "Epoch 46/100\n",
      "15/15 [==============================] - 1s 47ms/step - loss: 0.4439 - accuracy: 0.8584 - val_loss: 0.4292 - val_accuracy: 0.8598\n",
      "Epoch 47/100\n",
      "15/15 [==============================] - 1s 46ms/step - loss: 0.4351 - accuracy: 0.8628 - val_loss: 0.4212 - val_accuracy: 0.8618\n",
      "Epoch 48/100\n",
      "15/15 [==============================] - 1s 44ms/step - loss: 0.4267 - accuracy: 0.8647 - val_loss: 0.4140 - val_accuracy: 0.8646\n",
      "Epoch 49/100\n",
      "15/15 [==============================] - 1s 40ms/step - loss: 0.4186 - accuracy: 0.8684 - val_loss: 0.4074 - val_accuracy: 0.8676\n",
      "Epoch 50/100\n",
      "15/15 [==============================] - 1s 40ms/step - loss: 0.4125 - accuracy: 0.8710 - val_loss: 0.4014 - val_accuracy: 0.8708\n",
      "Epoch 51/100\n",
      "15/15 [==============================] - 1s 40ms/step - loss: 0.4046 - accuracy: 0.8738 - val_loss: 0.3957 - val_accuracy: 0.8731\n",
      "Epoch 52/100\n",
      "15/15 [==============================] - 1s 39ms/step - loss: 0.3990 - accuracy: 0.8767 - val_loss: 0.3904 - val_accuracy: 0.8759\n",
      "Epoch 53/100\n",
      "15/15 [==============================] - 1s 40ms/step - loss: 0.3936 - accuracy: 0.8793 - val_loss: 0.3853 - val_accuracy: 0.8773\n",
      "Epoch 54/100\n",
      "15/15 [==============================] - 1s 39ms/step - loss: 0.3881 - accuracy: 0.8825 - val_loss: 0.3804 - val_accuracy: 0.8805\n",
      "Epoch 55/100\n",
      "15/15 [==============================] - 1s 46ms/step - loss: 0.3834 - accuracy: 0.8825 - val_loss: 0.3758 - val_accuracy: 0.8819\n",
      "Epoch 56/100\n",
      "15/15 [==============================] - 1s 48ms/step - loss: 0.3779 - accuracy: 0.8850 - val_loss: 0.3712 - val_accuracy: 0.8835\n",
      "Epoch 57/100\n",
      "15/15 [==============================] - 1s 46ms/step - loss: 0.3728 - accuracy: 0.8868 - val_loss: 0.3668 - val_accuracy: 0.8841\n",
      "Epoch 58/100\n"
     ]
    },
    {
     "name": "stdout",
     "output_type": "stream",
     "text": [
      "15/15 [==============================] - 1s 48ms/step - loss: 0.3692 - accuracy: 0.8876 - val_loss: 0.3624 - val_accuracy: 0.8856\n",
      "Epoch 59/100\n",
      "15/15 [==============================] - 1s 47ms/step - loss: 0.3633 - accuracy: 0.8891 - val_loss: 0.3581 - val_accuracy: 0.8880\n",
      "Epoch 60/100\n",
      "15/15 [==============================] - 1s 41ms/step - loss: 0.3607 - accuracy: 0.8903 - val_loss: 0.3540 - val_accuracy: 0.8888\n",
      "Epoch 61/100\n",
      "15/15 [==============================] - 1s 40ms/step - loss: 0.3548 - accuracy: 0.8914 - val_loss: 0.3499 - val_accuracy: 0.8894\n",
      "Epoch 62/100\n",
      "15/15 [==============================] - 1s 40ms/step - loss: 0.3502 - accuracy: 0.8917 - val_loss: 0.3458 - val_accuracy: 0.8902\n",
      "Epoch 63/100\n",
      "15/15 [==============================] - 1s 40ms/step - loss: 0.3457 - accuracy: 0.8925 - val_loss: 0.3418 - val_accuracy: 0.8906\n",
      "Epoch 64/100\n",
      "15/15 [==============================] - 1s 40ms/step - loss: 0.3418 - accuracy: 0.8939 - val_loss: 0.3378 - val_accuracy: 0.8918\n",
      "Epoch 65/100\n",
      "15/15 [==============================] - 1s 39ms/step - loss: 0.3381 - accuracy: 0.8944 - val_loss: 0.3338 - val_accuracy: 0.8922\n",
      "Epoch 66/100\n",
      "15/15 [==============================] - 1s 40ms/step - loss: 0.3347 - accuracy: 0.8944 - val_loss: 0.3299 - val_accuracy: 0.8928\n",
      "Epoch 67/100\n",
      "15/15 [==============================] - 1s 40ms/step - loss: 0.3299 - accuracy: 0.8950 - val_loss: 0.3261 - val_accuracy: 0.8930\n",
      "Epoch 68/100\n",
      "15/15 [==============================] - 1s 40ms/step - loss: 0.3251 - accuracy: 0.8956 - val_loss: 0.3223 - val_accuracy: 0.8932\n",
      "Epoch 69/100\n",
      "15/15 [==============================] - 1s 42ms/step - loss: 0.3200 - accuracy: 0.8960 - val_loss: 0.3183 - val_accuracy: 0.8932\n",
      "Epoch 70/100\n",
      "15/15 [==============================] - 1s 40ms/step - loss: 0.3174 - accuracy: 0.8959 - val_loss: 0.3145 - val_accuracy: 0.8938\n",
      "Epoch 71/100\n",
      "15/15 [==============================] - 1s 39ms/step - loss: 0.3140 - accuracy: 0.8964 - val_loss: 0.3107 - val_accuracy: 0.8938\n",
      "Epoch 72/100\n",
      "15/15 [==============================] - 1s 40ms/step - loss: 0.3086 - accuracy: 0.8973 - val_loss: 0.3069 - val_accuracy: 0.8940\n",
      "Epoch 73/100\n",
      "15/15 [==============================] - 1s 40ms/step - loss: 0.3052 - accuracy: 0.8979 - val_loss: 0.3031 - val_accuracy: 0.8940\n",
      "Epoch 74/100\n",
      "15/15 [==============================] - 1s 40ms/step - loss: 0.3014 - accuracy: 0.8973 - val_loss: 0.2994 - val_accuracy: 0.8942\n",
      "Epoch 75/100\n",
      "15/15 [==============================] - 1s 41ms/step - loss: 0.2969 - accuracy: 0.8980 - val_loss: 0.2957 - val_accuracy: 0.8942\n",
      "Epoch 76/100\n",
      "15/15 [==============================] - 1s 43ms/step - loss: 0.2934 - accuracy: 0.8980 - val_loss: 0.2921 - val_accuracy: 0.8942\n",
      "Epoch 77/100\n",
      "15/15 [==============================] - 1s 44ms/step - loss: 0.2898 - accuracy: 0.8983 - val_loss: 0.2888 - val_accuracy: 0.8944\n",
      "Epoch 78/100\n",
      "15/15 [==============================] - 1s 40ms/step - loss: 0.2869 - accuracy: 0.8981 - val_loss: 0.2855 - val_accuracy: 0.8944\n",
      "Epoch 79/100\n",
      "15/15 [==============================] - 1s 44ms/step - loss: 0.2830 - accuracy: 0.8990 - val_loss: 0.2822 - val_accuracy: 0.8948\n",
      "Epoch 80/100\n",
      "15/15 [==============================] - 1s 40ms/step - loss: 0.2791 - accuracy: 0.8992 - val_loss: 0.2791 - val_accuracy: 0.8950\n",
      "Epoch 81/100\n",
      "15/15 [==============================] - 1s 40ms/step - loss: 0.2760 - accuracy: 0.8996 - val_loss: 0.2762 - val_accuracy: 0.8950\n",
      "Epoch 82/100\n",
      "15/15 [==============================] - 1s 40ms/step - loss: 0.2728 - accuracy: 0.9004 - val_loss: 0.2732 - val_accuracy: 0.8952\n",
      "Epoch 83/100\n",
      "15/15 [==============================] - 1s 40ms/step - loss: 0.2699 - accuracy: 0.9007 - val_loss: 0.2703 - val_accuracy: 0.8956\n",
      "Epoch 84/100\n",
      "15/15 [==============================] - 1s 40ms/step - loss: 0.2668 - accuracy: 0.9012 - val_loss: 0.2674 - val_accuracy: 0.8956\n",
      "Epoch 85/100\n",
      "15/15 [==============================] - 1s 40ms/step - loss: 0.2638 - accuracy: 0.9023 - val_loss: 0.2645 - val_accuracy: 0.8958\n",
      "Epoch 86/100\n",
      "15/15 [==============================] - 1s 44ms/step - loss: 0.2615 - accuracy: 0.9031 - val_loss: 0.2619 - val_accuracy: 0.8958\n",
      "Epoch 87/100\n",
      "15/15 [==============================] - 1s 46ms/step - loss: 0.2580 - accuracy: 0.9034 - val_loss: 0.2592 - val_accuracy: 0.8962\n",
      "Epoch 88/100\n",
      "15/15 [==============================] - 1s 40ms/step - loss: 0.2557 - accuracy: 0.9040 - val_loss: 0.2565 - val_accuracy: 0.8974\n",
      "Epoch 89/100\n",
      "15/15 [==============================] - 1s 39ms/step - loss: 0.2540 - accuracy: 0.9052 - val_loss: 0.2539 - val_accuracy: 0.8986\n",
      "Epoch 90/100\n",
      "15/15 [==============================] - 1s 46ms/step - loss: 0.2509 - accuracy: 0.9065 - val_loss: 0.2515 - val_accuracy: 0.9025\n",
      "Epoch 91/100\n",
      "15/15 [==============================] - 1s 45ms/step - loss: 0.2484 - accuracy: 0.9107 - val_loss: 0.2489 - val_accuracy: 0.9045\n",
      "Epoch 92/100\n",
      "15/15 [==============================] - 1s 45ms/step - loss: 0.2457 - accuracy: 0.9131 - val_loss: 0.2465 - val_accuracy: 0.9099\n",
      "Epoch 93/100\n",
      "15/15 [==============================] - 1s 40ms/step - loss: 0.2432 - accuracy: 0.9158 - val_loss: 0.2440 - val_accuracy: 0.9138\n",
      "Epoch 94/100\n",
      "15/15 [==============================] - 1s 42ms/step - loss: 0.2415 - accuracy: 0.9186 - val_loss: 0.2416 - val_accuracy: 0.9172\n",
      "Epoch 95/100\n",
      "15/15 [==============================] - 1s 40ms/step - loss: 0.2385 - accuracy: 0.9222 - val_loss: 0.2391 - val_accuracy: 0.9230\n",
      "Epoch 96/100\n",
      "15/15 [==============================] - 1s 41ms/step - loss: 0.2372 - accuracy: 0.9264 - val_loss: 0.2366 - val_accuracy: 0.9279\n",
      "Epoch 97/100\n",
      "15/15 [==============================] - 1s 43ms/step - loss: 0.2343 - accuracy: 0.9293 - val_loss: 0.2342 - val_accuracy: 0.9303\n",
      "Epoch 98/100\n",
      "15/15 [==============================] - 1s 40ms/step - loss: 0.2319 - accuracy: 0.9319 - val_loss: 0.2316 - val_accuracy: 0.9349\n",
      "Epoch 99/100\n",
      "15/15 [==============================] - 1s 40ms/step - loss: 0.2291 - accuracy: 0.9353 - val_loss: 0.2291 - val_accuracy: 0.9396\n",
      "Epoch 100/100\n",
      "15/15 [==============================] - 1s 40ms/step - loss: 0.2274 - accuracy: 0.9377 - val_loss: 0.2264 - val_accuracy: 0.9416\n"
     ]
    }
   ],
   "source": [
    "history = model.fit(X_train_val, y_train_val, batch_size = 1024, epochs = 100,\n",
    "                    validation_split = 0.25, shuffle = True, callbacks = None, \n",
    "                    use_multiprocessing=True, workers=4)"
   ]
  },
  {
   "cell_type": "code",
   "execution_count": 10,
   "metadata": {},
   "outputs": [
    {
     "name": "stdout",
     "output_type": "stream",
     "text": [
      "WARNING:tensorflow:From C:\\Users\\45148\\anaconda3\\envs\\EPE_ML_TF2_GPU\\lib\\site-packages\\tensorflow\\python\\ops\\resource_variable_ops.py:1817: calling BaseResourceVariable.__init__ (from tensorflow.python.ops.resource_variable_ops) with constraint is deprecated and will be removed in a future version.\n",
      "Instructions for updating:\n",
      "If using Keras pass *_constraint arguments to layers.\n",
      "INFO:tensorflow:Assets written to: GRU\\assets\n"
     ]
    }
   ],
   "source": [
    "model.save('GRU') #Saves to local directory;"
   ]
  },
  {
   "cell_type": "code",
   "execution_count": 11,
   "metadata": {},
   "outputs": [],
   "source": [
    "def learningCurve(history):\n",
    "    plt.figure(figsize=(10,8))\n",
    "    plt.plot(history.history['loss'], linewidth=1)\n",
    "    plt.plot(history.history['val_loss'], linewidth=1)\n",
    "    plt.title('Model Loss over Epochs')\n",
    "    plt.ylabel('Loss')\n",
    "    plt.xlabel('Epoch')\n",
    "    plt.legend(['training sample loss','validation sample loss'])\n",
    "    #plt.savefig('Learning_curve.pdf')\n",
    "    plt.show()\n",
    "    plt.close()"
   ]
  },
  {
   "cell_type": "code",
   "execution_count": 12,
   "metadata": {},
   "outputs": [
    {
     "data": {
      "image/png": "[encoded data removed]",
      "text/plain": [
       "<Figure size 720x576 with 1 Axes>"
      ]
     },
     "metadata": {
      "needs_background": "light"
     },
     "output_type": "display_data"
    }
   ],
   "source": [
    "learningCurve(history)"
   ]
  },
  {
   "cell_type": "code",
   "execution_count": 13,
   "metadata": {},
   "outputs": [],
   "source": [
    "def makeRoc(features_val, labels_val, labels, model, outputDir='', outputSuffix=''):\n",
    "    labels_pred = model.predict(features_val)\n",
    "    df = pd.DataFrame()\n",
    "    fpr = {}\n",
    "    tpr = {}\n",
    "    auc1 = {}\n",
    "    plt.figure(figsize=(10,8))       \n",
    "    for i, label in enumerate(labels):\n",
    "        df[label] = labels_val[:,i]\n",
    "        df[label + '_pred'] = labels_pred[:,i]\n",
    "        fpr[label], tpr[label], threshold = roc_curve(df[label],df[label+'_pred'])\n",
    "        auc1[label] = auc(fpr[label], tpr[label])\n",
    "        plt.plot(fpr[label],tpr[label],label='%s tagger, AUC = %.1f%%'%(label.replace('j_',''),auc1[label]*100.))\n",
    "    plt.plot([0, 1], [0, 1], lw=1, color='black', linestyle='--')\n",
    "    #plt.semilogy()\n",
    "    plt.xlabel(\"Background Efficiency\")\n",
    "    plt.ylabel(\"Signal Efficiency\")\n",
    "    plt.xlim([-0.05, 1.05])\n",
    "    plt.ylim(0.001,1.05)\n",
    "    plt.grid(True)\n",
    "    plt.legend(loc='lower right')\n",
    "    plt.figtext(0.25, 0.90,'GRU ROC Curve',fontweight='bold', wrap=True, horizontalalignment='right', fontsize=14)\n",
    "    #plt.figtext(0.35, 0.90,'preliminary', style='italic', wrap=True, horizontalalignment='center', fontsize=14) \n",
    "    #plt.savefig('%sROC_%s.pdf'%(outputDir, outputSuffix))\n",
    "    return labels_pred"
   ]
  },
  {
   "cell_type": "code",
   "execution_count": 14,
   "metadata": {},
   "outputs": [
    {
     "data": {
      "image/png": "[encoded data removed]",
      "text/plain": [
       "<Figure size 720x576 with 1 Axes>"
      ]
     },
     "metadata": {
      "needs_background": "light"
     },
     "output_type": "display_data"
    }
   ],
   "source": [
    "y_pred = makeRoc(X_test, y_test, labels, model, outputSuffix='GRU')"
   ]
  },
  {
   "cell_type": "code",
   "execution_count": null,
   "metadata": {},
   "outputs": [],
   "source": []
  }
 ],
 "metadata": {
  "kernelspec": {
   "display_name": "Python 3",
   "language": "python",
   "name": "python3"
  },
  "language_info": {
   "codemirror_mode": {
    "name": "ipython",
    "version": 3
   },
   "file_extension": ".py",
   "mimetype": "text/x-python",
   "name": "python",
   "nbconvert_exporter": "python",
   "pygments_lexer": "ipython3",
   "version": "3.6.10"
  }
 },
 "nbformat": 4,
 "nbformat_minor": 4
}
