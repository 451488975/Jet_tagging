{
 "cells": [
  {
   "cell_type": "code",
   "execution_count": 1,
   "metadata": {},
   "outputs": [
    {
     "name": "stderr",
     "output_type": "stream",
     "text": [
      "Using TensorFlow backend.\n"
     ]
    }
   ],
   "source": [
    "import keras\n",
    "from keras.models import load_model\n",
    "from keras.models import model_from_json\n",
    "from keras.optimizers import Adam\n",
    "from sklearn.metrics import roc_curve, auc\n",
    "import os, sys\n",
    "import h5py\n",
    "import yaml\n",
    "import pandas as pd\n",
    "import matplotlib.pyplot as plt\n",
    "from collections import namedtuple\n",
    "sys.path.insert(0,'../lib')\n",
    "from train import get_features"
   ]
  },
  {
   "cell_type": "code",
   "execution_count": 2,
   "metadata": {},
   "outputs": [
    {
     "name": "stdout",
     "output_type": "stream",
     "text": [
      "Loading configuration from train_config_gru.yml\n"
     ]
    },
    {
     "data": {
      "text/plain": [
       "{'Inputs': ['j1_ptrel',\n",
       "  'j1_etarot',\n",
       "  'j1_phirot',\n",
       "  'j1_erel',\n",
       "  'j1_deltaR',\n",
       "  'j1_pdgid',\n",
       "  'j_index'],\n",
       " 'Labels': ['j_g', 'j_q', 'j_w', 'j_z', 'j_t', 'j_index'],\n",
       " 'KerasModel': 'gru_model',\n",
       " 'KerasModelRetrain': 'gru_model_constraint',\n",
       " 'KerasLoss': 'categorical_crossentropy',\n",
       " 'L1Reg': 0.0001,\n",
       " 'L1RegR': 0.001,\n",
       " 'NormalizeInputs': 1,\n",
       " 'InputType': 'Conv1D',\n",
       " 'MaxParticles': 20}"
      ]
     },
     "execution_count": 2,
     "metadata": {},
     "output_type": "execute_result"
    }
   ],
   "source": [
    "Option = namedtuple(\"MyStruct\", \"inputModel inputFile tree config jsonModel outputDir\")\n",
    "\n",
    "options = Option(\n",
    "    inputModel = 'KERAS_gru_model_weights.h5',\n",
    "    inputFile = '../processed-pythia82-lhc13-all-pt1-50k-r1_h022_e0175_t220_nonu_withPars_truth.z',\n",
    "    tree = 't_allpar_new',\n",
    "    config = 'train_config_gru.yml',\n",
    "    jsonModel = 'KERAS_gru_model.json',\n",
    "    outputDir = '/output'\n",
    ")\n",
    "\n",
    "print(\"Loading configuration from\", options.config)\n",
    "config = open(options.config, 'r')\n",
    "yamlConfig =  yaml.load(config, Loader=yaml.FullLoader)\n",
    "yamlConfig"
   ]
  },
  {
   "cell_type": "code",
   "execution_count": 3,
   "metadata": {},
   "outputs": [
    {
     "name": "stdout",
     "output_type": "stream",
     "text": [
      "WARNING:tensorflow:Layer gru_selu will not use cuDNN kernel since it doesn't meet the cuDNN kernel criteria. It will use generic GPU kernel as fallback when running on GPU\n",
      "Model: \"model_1\"\n",
      "_________________________________________________________________\n",
      "Layer (type)                 Output Shape              Param #   \n",
      "=================================================================\n",
      "input_1 (InputLayer)         [(None, 20, 6)]           0         \n",
      "_________________________________________________________________\n",
      "gru_selu (GRU)               (None, 20)                1680      \n",
      "_________________________________________________________________\n",
      "dense_relu (Dense)           (None, 20)                420       \n",
      "_________________________________________________________________\n",
      "dropout_1 (Dropout)          (None, 20)                0         \n",
      "_________________________________________________________________\n",
      "rnn_densef (Dense)           (None, 5)                 105       \n",
      "=================================================================\n",
      "Total params: 2,205\n",
      "Trainable params: 2,205\n",
      "Non-trainable params: 0\n",
      "_________________________________________________________________\n"
     ]
    }
   ],
   "source": [
    "json_file = open(options.jsonModel, 'r')\n",
    "model = model_from_json(json_file.read())\n",
    "json_file.close()\n",
    "\n",
    "#model.load_weights(options.inputModel)\n",
    "model.summary()"
   ]
  },
  {
   "cell_type": "code",
   "execution_count": 4,
   "metadata": {},
   "outputs": [
    {
     "name": "stderr",
     "output_type": "stream",
     "text": [
      "../lib\\train.py:33: H5pyDeprecationWarning: The default file mode will change to 'r' (read-only) in h5py 3.0. To suppress this warning, pass the mode you need to h5py.File(), or set the global default h5.get_config().default_file_mode, or set the environment variable H5PY_DEFAULT_READONLY=1. Available modes are: 'r', 'r+', 'w', 'w-'/'x', 'a'. See the docs for details.\n",
      "  h5File = h5py.File(options.inputFile)\n"
     ]
    },
    {
     "name": "stdout",
     "output_type": "stream",
     "text": [
      "(5119909,)\n",
      "('j_ptfrac', 'j_pt', 'j_eta', 'j_mass', 'j_tau1_b1', 'j_tau2_b1', 'j_tau3_b1', 'j_tau1_b2', 'j_tau2_b2', 'j_tau3_b2', 'j_tau32_b1', 'j_tau32_b2', 'j_zlogz', 'j_c1_b0', 'j_c1_b1', 'j_c1_b2', 'j_c2_b1', 'j_c2_b2', 'j_d2_b1', 'j_d2_b2', 'j_d2_a1_b1', 'j_d2_a1_b2', 'j_m2_b1', 'j_m2_b2', 'j_n2_b1', 'j_n2_b2', 'j_tau1_b1_mmdt', 'j_tau2_b1_mmdt', 'j_tau3_b1_mmdt', 'j_tau1_b2_mmdt', 'j_tau2_b2_mmdt', 'j_tau3_b2_mmdt', 'j_tau32_b1_mmdt', 'j_tau32_b2_mmdt', 'j_c1_b0_mmdt', 'j_c1_b1_mmdt', 'j_c1_b2_mmdt', 'j_c2_b1_mmdt', 'j_c2_b2_mmdt', 'j_d2_b1_mmdt', 'j_d2_b2_mmdt', 'j_d2_a1_b1_mmdt', 'j_d2_a1_b2_mmdt', 'j_m2_b1_mmdt', 'j_m2_b2_mmdt', 'j_n2_b1_mmdt', 'j_n2_b2_mmdt', 'j_mass_trim', 'j_mass_mmdt', 'j_mass_prun', 'j_mass_sdb2', 'j_mass_sdm1', 'j_multiplicity', 'j1_px', 'j1_py', 'j1_pz', 'j1_e', 'j1_pdgid', 'j1_erel', 'j1_pt', 'j1_ptrel', 'j1_eta', 'j1_etarel', 'j1_etarot', 'j1_phi', 'j1_phirel', 'j1_phirot', 'j1_deltaR', 'j1_costheta', 'j1_costhetarel', 'j1_e1mcosthetarel', 'j_index', 'j_g', 'j_q', 'j_w', 'j_z', 'j_t', 'j_undef')\n",
      "(24816, 5)\n"
     ]
    }
   ],
   "source": [
    "X_train_val, X_test, y_train_val, y_test, labels  = get_features(options, yamlConfig)"
   ]
  },
  {
   "cell_type": "code",
   "execution_count": 5,
   "metadata": {},
   "outputs": [
    {
     "name": "stderr",
     "output_type": "stream",
     "text": [
      "C:\\Users\\45148\\anaconda3\\envs\\EPE_ML_TF2_GPU\\lib\\site-packages\\keras\\callbacks\\callbacks.py:998: UserWarning: `epsilon` argument is deprecated and will be removed, use `min_delta` instead.\n",
      "  warnings.warn('`epsilon` argument is deprecated and '\n"
     ]
    }
   ],
   "source": [
    "from callbacks import all_callbacks\n",
    "adam = Adam(lr=0.0001)\n",
    "model.compile(optimizer=adam, loss=[yamlConfig['KerasLoss']], metrics=['accuracy'])\n",
    "\n",
    "callbacks=all_callbacks(stop_patience=1000, \n",
    "                        lr_factor=0.5,\n",
    "                        lr_patience=10,\n",
    "                        lr_epsilon=0.000001, \n",
    "                        lr_cooldown=2, \n",
    "                        lr_minimum=0.0000001,\n",
    "                        outputDir=options.outputDir)"
   ]
  },
  {
   "cell_type": "code",
   "execution_count": 6,
   "metadata": {},
   "outputs": [
    {
     "name": "stdout",
     "output_type": "stream",
     "text": [
      "Epoch 1/100\n",
      "15/15 [==============================] - 1s 59ms/step - loss: 1.6802 - accuracy: 0.5092 - val_loss: 1.6649 - val_accuracy: 0.5821\n",
      "Epoch 2/100\n",
      "15/15 [==============================] - 1s 41ms/step - loss: 1.6534 - accuracy: 0.5677 - val_loss: 1.6367 - val_accuracy: 0.6504\n",
      "Epoch 3/100\n",
      "15/15 [==============================] - 1s 41ms/step - loss: 1.6255 - accuracy: 0.6225 - val_loss: 1.6084 - val_accuracy: 0.7056\n",
      "Epoch 4/100\n",
      "15/15 [==============================] - 1s 42ms/step - loss: 1.5978 - accuracy: 0.6677 - val_loss: 1.5798 - val_accuracy: 0.7413\n",
      "Epoch 5/100\n",
      "15/15 [==============================] - 1s 41ms/step - loss: 1.5671 - accuracy: 0.7090 - val_loss: 1.5504 - val_accuracy: 0.7663\n",
      "Epoch 6/100\n",
      "15/15 [==============================] - 1s 41ms/step - loss: 1.5379 - accuracy: 0.7338 - val_loss: 1.5201 - val_accuracy: 0.7778\n",
      "Epoch 7/100\n",
      "15/15 [==============================] - 1s 43ms/step - loss: 1.5081 - accuracy: 0.7504 - val_loss: 1.4888 - val_accuracy: 0.7862\n",
      "Epoch 8/100\n",
      "15/15 [==============================] - 1s 41ms/step - loss: 1.4758 - accuracy: 0.7663 - val_loss: 1.4562 - val_accuracy: 0.7931\n",
      "Epoch 9/100\n",
      "15/15 [==============================] - 1s 41ms/step - loss: 1.4443 - accuracy: 0.7812 - val_loss: 1.4221 - val_accuracy: 0.7985\n",
      "Epoch 10/100\n",
      "15/15 [==============================] - 1s 41ms/step - loss: 1.4087 - accuracy: 0.7900 - val_loss: 1.3866 - val_accuracy: 0.8019\n",
      "Epoch 11/100\n",
      "15/15 [==============================] - 1s 41ms/step - loss: 1.3736 - accuracy: 0.7956 - val_loss: 1.3492 - val_accuracy: 0.8048\n",
      "Epoch 12/100\n",
      "15/15 [==============================] - 1s 41ms/step - loss: 1.3354 - accuracy: 0.7990 - val_loss: 1.3097 - val_accuracy: 0.8064\n",
      "Epoch 13/100\n",
      "15/15 [==============================] - 1s 41ms/step - loss: 1.2961 - accuracy: 0.8011 - val_loss: 1.2674 - val_accuracy: 0.8068\n",
      "Epoch 14/100\n",
      "15/15 [==============================] - 1s 45ms/step - loss: 1.2534 - accuracy: 0.8026 - val_loss: 1.2219 - val_accuracy: 0.8072\n",
      "Epoch 15/100\n",
      "15/15 [==============================] - 1s 42ms/step - loss: 1.2075 - accuracy: 0.8025 - val_loss: 1.1728 - val_accuracy: 0.8072\n",
      "Epoch 16/100\n",
      "15/15 [==============================] - 1s 41ms/step - loss: 1.1558 - accuracy: 0.8028 - val_loss: 1.1195 - val_accuracy: 0.8072\n",
      "Epoch 17/100\n",
      "15/15 [==============================] - 1s 43ms/step - loss: 1.1007 - accuracy: 0.8030 - val_loss: 1.0624 - val_accuracy: 0.8072\n",
      "Epoch 18/100\n",
      "15/15 [==============================] - 1s 40ms/step - loss: 1.0448 - accuracy: 0.8029 - val_loss: 1.0023 - val_accuracy: 0.8072\n",
      "Epoch 19/100\n",
      "15/15 [==============================] - 1s 41ms/step - loss: 0.9838 - accuracy: 0.8031 - val_loss: 0.9400 - val_accuracy: 0.8072\n",
      "Epoch 20/100\n",
      "15/15 [==============================] - 1s 41ms/step - loss: 0.9233 - accuracy: 0.8030 - val_loss: 0.8772 - val_accuracy: 0.8072\n",
      "Epoch 21/100\n",
      "15/15 [==============================] - 1s 41ms/step - loss: 0.8612 - accuracy: 0.8030 - val_loss: 0.8146 - val_accuracy: 0.8072\n",
      "Epoch 22/100\n",
      "15/15 [==============================] - 1s 43ms/step - loss: 0.8022 - accuracy: 0.8031 - val_loss: 0.7536 - val_accuracy: 0.8072\n",
      "Epoch 23/100\n",
      "15/15 [==============================] - 1s 47ms/step - loss: 0.7425 - accuracy: 0.8031 - val_loss: 0.6956 - val_accuracy: 0.8072\n",
      "Epoch 24/100\n",
      "15/15 [==============================] - 1s 42ms/step - loss: 0.6862 - accuracy: 0.8033 - val_loss: 0.6425 - val_accuracy: 0.8072\n",
      "Epoch 25/100\n",
      "15/15 [==============================] - 1s 45ms/step - loss: 0.6384 - accuracy: 0.8031 - val_loss: 0.5954 - val_accuracy: 0.8072\n",
      "Epoch 26/100\n",
      "15/15 [==============================] - 1s 48ms/step - loss: 0.5939 - accuracy: 0.8033 - val_loss: 0.5557 - val_accuracy: 0.8072\n",
      "Epoch 27/100\n",
      "15/15 [==============================] - 1s 41ms/step - loss: 0.5573 - accuracy: 0.8034 - val_loss: 0.5238 - val_accuracy: 0.8072\n",
      "Epoch 28/100\n",
      "15/15 [==============================] - 1s 41ms/step - loss: 0.5285 - accuracy: 0.8037 - val_loss: 0.4997 - val_accuracy: 0.8072\n",
      "Epoch 29/100\n",
      "15/15 [==============================] - 1s 44ms/step - loss: 0.5060 - accuracy: 0.8045 - val_loss: 0.4820 - val_accuracy: 0.8078\n",
      "Epoch 30/100\n",
      "15/15 [==============================] - 1s 43ms/step - loss: 0.4880 - accuracy: 0.8054 - val_loss: 0.4694 - val_accuracy: 0.8080\n",
      "Epoch 31/100\n",
      "15/15 [==============================] - 1s 44ms/step - loss: 0.4774 - accuracy: 0.8060 - val_loss: 0.4602 - val_accuracy: 0.8096\n",
      "Epoch 32/100\n",
      "15/15 [==============================] - 1s 46ms/step - loss: 0.4676 - accuracy: 0.8089 - val_loss: 0.4530 - val_accuracy: 0.8112\n",
      "Epoch 33/100\n",
      "15/15 [==============================] - 1s 40ms/step - loss: 0.4602 - accuracy: 0.8103 - val_loss: 0.4471 - val_accuracy: 0.8136\n",
      "Epoch 34/100\n",
      "15/15 [==============================] - 1s 43ms/step - loss: 0.4535 - accuracy: 0.8136 - val_loss: 0.4420 - val_accuracy: 0.8166\n",
      "Epoch 35/100\n",
      "15/15 [==============================] - 1s 44ms/step - loss: 0.4486 - accuracy: 0.8153 - val_loss: 0.4373 - val_accuracy: 0.8197\n",
      "Epoch 36/100\n",
      "15/15 [==============================] - 1s 43ms/step - loss: 0.4439 - accuracy: 0.8194 - val_loss: 0.4331 - val_accuracy: 0.8221\n",
      "Epoch 37/100\n",
      "15/15 [==============================] - 1s 41ms/step - loss: 0.4389 - accuracy: 0.8228 - val_loss: 0.4291 - val_accuracy: 0.8263\n",
      "Epoch 38/100\n",
      "15/15 [==============================] - 1s 41ms/step - loss: 0.4344 - accuracy: 0.8279 - val_loss: 0.4253 - val_accuracy: 0.8318\n",
      "Epoch 39/100\n",
      "15/15 [==============================] - 1s 42ms/step - loss: 0.4304 - accuracy: 0.8324 - val_loss: 0.4217 - val_accuracy: 0.8358\n",
      "Epoch 40/100\n",
      "15/15 [==============================] - 1s 43ms/step - loss: 0.4267 - accuracy: 0.8367 - val_loss: 0.4182 - val_accuracy: 0.8406\n",
      "Epoch 41/100\n",
      "15/15 [==============================] - 1s 42ms/step - loss: 0.4230 - accuracy: 0.8407 - val_loss: 0.4148 - val_accuracy: 0.8457\n",
      "Epoch 42/100\n",
      "15/15 [==============================] - 1s 46ms/step - loss: 0.4191 - accuracy: 0.8451 - val_loss: 0.4115 - val_accuracy: 0.8493\n",
      "Epoch 43/100\n",
      "15/15 [==============================] - 1s 42ms/step - loss: 0.4164 - accuracy: 0.8491 - val_loss: 0.4084 - val_accuracy: 0.8527\n",
      "Epoch 44/100\n",
      "15/15 [==============================] - 1s 41ms/step - loss: 0.4132 - accuracy: 0.8532 - val_loss: 0.4053 - val_accuracy: 0.8569\n",
      "Epoch 45/100\n",
      "15/15 [==============================] - 1s 41ms/step - loss: 0.4099 - accuracy: 0.8565 - val_loss: 0.4023 - val_accuracy: 0.8592\n",
      "Epoch 46/100\n",
      "15/15 [==============================] - 1s 42ms/step - loss: 0.4062 - accuracy: 0.8596 - val_loss: 0.3993 - val_accuracy: 0.8618\n",
      "Epoch 47/100\n",
      "15/15 [==============================] - 1s 41ms/step - loss: 0.4037 - accuracy: 0.8627 - val_loss: 0.3964 - val_accuracy: 0.8646\n",
      "Epoch 48/100\n",
      "15/15 [==============================] - 1s 42ms/step - loss: 0.4001 - accuracy: 0.8674 - val_loss: 0.3935 - val_accuracy: 0.8674\n",
      "Epoch 49/100\n",
      "15/15 [==============================] - 1s 48ms/step - loss: 0.3968 - accuracy: 0.8700 - val_loss: 0.3907 - val_accuracy: 0.8700\n",
      "Epoch 50/100\n",
      "15/15 [==============================] - 1s 45ms/step - loss: 0.3944 - accuracy: 0.8735 - val_loss: 0.3879 - val_accuracy: 0.8725\n",
      "Epoch 51/100\n",
      "15/15 [==============================] - 1s 42ms/step - loss: 0.3911 - accuracy: 0.8756 - val_loss: 0.3851 - val_accuracy: 0.8749\n",
      "Epoch 52/100\n",
      "15/15 [==============================] - 1s 42ms/step - loss: 0.3877 - accuracy: 0.8784 - val_loss: 0.3824 - val_accuracy: 0.8785\n",
      "Epoch 53/100\n",
      "15/15 [==============================] - 1s 42ms/step - loss: 0.3856 - accuracy: 0.8801 - val_loss: 0.3796 - val_accuracy: 0.8799\n",
      "Epoch 54/100\n",
      "15/15 [==============================] - 1s 41ms/step - loss: 0.3818 - accuracy: 0.8821 - val_loss: 0.3769 - val_accuracy: 0.8817\n",
      "Epoch 55/100\n",
      "15/15 [==============================] - 1s 41ms/step - loss: 0.3802 - accuracy: 0.8835 - val_loss: 0.3742 - val_accuracy: 0.8841\n",
      "Epoch 56/100\n",
      "15/15 [==============================] - 1s 45ms/step - loss: 0.3771 - accuracy: 0.8849 - val_loss: 0.3715 - val_accuracy: 0.8849\n",
      "Epoch 57/100\n",
      "15/15 [==============================] - 1s 41ms/step - loss: 0.3743 - accuracy: 0.8870 - val_loss: 0.3688 - val_accuracy: 0.8870\n",
      "Epoch 58/100\n"
     ]
    },
    {
     "name": "stdout",
     "output_type": "stream",
     "text": [
      "15/15 [==============================] - 1s 46ms/step - loss: 0.3711 - accuracy: 0.8882 - val_loss: 0.3662 - val_accuracy: 0.8882\n",
      "Epoch 59/100\n",
      "15/15 [==============================] - 1s 40ms/step - loss: 0.3686 - accuracy: 0.8882 - val_loss: 0.3635 - val_accuracy: 0.8890\n",
      "Epoch 60/100\n",
      "15/15 [==============================] - 1s 44ms/step - loss: 0.3657 - accuracy: 0.8901 - val_loss: 0.3608 - val_accuracy: 0.8904\n",
      "Epoch 61/100\n",
      "15/15 [==============================] - 1s 45ms/step - loss: 0.3632 - accuracy: 0.8907 - val_loss: 0.3581 - val_accuracy: 0.8906\n",
      "Epoch 62/100\n",
      "15/15 [==============================] - 1s 46ms/step - loss: 0.3604 - accuracy: 0.8911 - val_loss: 0.3554 - val_accuracy: 0.8912\n",
      "Epoch 63/100\n",
      "15/15 [==============================] - 1s 52ms/step - loss: 0.3577 - accuracy: 0.8921 - val_loss: 0.3528 - val_accuracy: 0.8918\n",
      "Epoch 64/100\n",
      "15/15 [==============================] - 1s 49ms/step - loss: 0.3543 - accuracy: 0.8938 - val_loss: 0.3501 - val_accuracy: 0.8922\n",
      "Epoch 65/100\n",
      "15/15 [==============================] - 1s 54ms/step - loss: 0.3529 - accuracy: 0.8929 - val_loss: 0.3474 - val_accuracy: 0.8930\n",
      "Epoch 66/100\n",
      "15/15 [==============================] - 1s 45ms/step - loss: 0.3493 - accuracy: 0.8948 - val_loss: 0.3447 - val_accuracy: 0.8930\n",
      "Epoch 67/100\n",
      "15/15 [==============================] - 1s 41ms/step - loss: 0.3464 - accuracy: 0.8952 - val_loss: 0.3420 - val_accuracy: 0.8932\n",
      "Epoch 68/100\n",
      "15/15 [==============================] - 1s 41ms/step - loss: 0.3440 - accuracy: 0.8955 - val_loss: 0.3392 - val_accuracy: 0.8932\n",
      "Epoch 69/100\n",
      "15/15 [==============================] - 1s 41ms/step - loss: 0.3403 - accuracy: 0.8968 - val_loss: 0.3365 - val_accuracy: 0.8932\n",
      "Epoch 70/100\n",
      "15/15 [==============================] - 1s 42ms/step - loss: 0.3372 - accuracy: 0.8977 - val_loss: 0.3336 - val_accuracy: 0.8932\n",
      "Epoch 71/100\n",
      "15/15 [==============================] - 1s 41ms/step - loss: 0.3336 - accuracy: 0.8990 - val_loss: 0.3308 - val_accuracy: 0.8934\n",
      "Epoch 72/100\n",
      "15/15 [==============================] - 1s 40ms/step - loss: 0.3321 - accuracy: 0.8982 - val_loss: 0.3280 - val_accuracy: 0.8938\n",
      "Epoch 73/100\n",
      "15/15 [==============================] - 1s 42ms/step - loss: 0.3281 - accuracy: 0.8991 - val_loss: 0.3251 - val_accuracy: 0.8942\n",
      "Epoch 74/100\n",
      "15/15 [==============================] - 1s 48ms/step - loss: 0.3245 - accuracy: 0.9003 - val_loss: 0.3223 - val_accuracy: 0.8944\n",
      "Epoch 75/100\n",
      "15/15 [==============================] - 1s 47ms/step - loss: 0.3229 - accuracy: 0.9003 - val_loss: 0.3194 - val_accuracy: 0.8944\n",
      "Epoch 76/100\n",
      "15/15 [==============================] - 1s 49ms/step - loss: 0.3197 - accuracy: 0.9013 - val_loss: 0.3165 - val_accuracy: 0.8950\n",
      "Epoch 77/100\n",
      "15/15 [==============================] - 1s 42ms/step - loss: 0.3166 - accuracy: 0.9025 - val_loss: 0.3136 - val_accuracy: 0.8956\n",
      "Epoch 78/100\n",
      "15/15 [==============================] - 1s 43ms/step - loss: 0.3133 - accuracy: 0.9040 - val_loss: 0.3105 - val_accuracy: 0.8962\n",
      "Epoch 79/100\n",
      "15/15 [==============================] - 1s 47ms/step - loss: 0.3110 - accuracy: 0.9034 - val_loss: 0.3075 - val_accuracy: 0.8968\n",
      "Epoch 80/100\n",
      "15/15 [==============================] - 1s 47ms/step - loss: 0.3071 - accuracy: 0.9059 - val_loss: 0.3045 - val_accuracy: 0.8976\n",
      "Epoch 81/100\n",
      "15/15 [==============================] - 1s 47ms/step - loss: 0.3047 - accuracy: 0.9055 - val_loss: 0.3015 - val_accuracy: 0.8982\n",
      "Epoch 82/100\n",
      "15/15 [==============================] - 1s 48ms/step - loss: 0.3026 - accuracy: 0.9069 - val_loss: 0.2986 - val_accuracy: 0.8999\n",
      "Epoch 83/100\n",
      "15/15 [==============================] - 1s 47ms/step - loss: 0.2987 - accuracy: 0.9103 - val_loss: 0.2956 - val_accuracy: 0.9021\n",
      "Epoch 84/100\n",
      "15/15 [==============================] - 1s 45ms/step - loss: 0.2951 - accuracy: 0.9099 - val_loss: 0.2925 - val_accuracy: 0.9037\n",
      "Epoch 85/100\n",
      "15/15 [==============================] - 1s 44ms/step - loss: 0.2911 - accuracy: 0.9119 - val_loss: 0.2893 - val_accuracy: 0.9043\n",
      "Epoch 86/100\n",
      "15/15 [==============================] - 1s 47ms/step - loss: 0.2883 - accuracy: 0.9130 - val_loss: 0.2862 - val_accuracy: 0.9059\n",
      "Epoch 87/100\n",
      "15/15 [==============================] - 1s 43ms/step - loss: 0.2852 - accuracy: 0.9147 - val_loss: 0.2829 - val_accuracy: 0.9071\n",
      "Epoch 88/100\n",
      "15/15 [==============================] - 1s 42ms/step - loss: 0.2832 - accuracy: 0.9151 - val_loss: 0.2799 - val_accuracy: 0.9091\n",
      "Epoch 89/100\n",
      "15/15 [==============================] - 1s 43ms/step - loss: 0.2788 - accuracy: 0.9172 - val_loss: 0.2768 - val_accuracy: 0.9107\n",
      "Epoch 90/100\n",
      "15/15 [==============================] - 1s 43ms/step - loss: 0.2757 - accuracy: 0.9173 - val_loss: 0.2736 - val_accuracy: 0.9130\n",
      "Epoch 91/100\n",
      "15/15 [==============================] - 1s 43ms/step - loss: 0.2730 - accuracy: 0.9195 - val_loss: 0.2704 - val_accuracy: 0.9144\n",
      "Epoch 92/100\n",
      "15/15 [==============================] - 1s 42ms/step - loss: 0.2694 - accuracy: 0.9208 - val_loss: 0.2672 - val_accuracy: 0.9156\n",
      "Epoch 93/100\n",
      "15/15 [==============================] - 1s 43ms/step - loss: 0.2661 - accuracy: 0.9230 - val_loss: 0.2640 - val_accuracy: 0.9172\n",
      "Epoch 94/100\n",
      "15/15 [==============================] - 1s 44ms/step - loss: 0.2622 - accuracy: 0.9240 - val_loss: 0.2608 - val_accuracy: 0.9210\n",
      "Epoch 95/100\n",
      "15/15 [==============================] - 1s 43ms/step - loss: 0.2597 - accuracy: 0.9263 - val_loss: 0.2576 - val_accuracy: 0.9248\n",
      "Epoch 96/100\n",
      "15/15 [==============================] - 1s 43ms/step - loss: 0.2565 - accuracy: 0.9263 - val_loss: 0.2546 - val_accuracy: 0.9261\n",
      "Epoch 97/100\n",
      "15/15 [==============================] - 1s 47ms/step - loss: 0.2538 - accuracy: 0.9285 - val_loss: 0.2517 - val_accuracy: 0.9265\n",
      "Epoch 98/100\n",
      "15/15 [==============================] - 1s 43ms/step - loss: 0.2499 - accuracy: 0.9300 - val_loss: 0.2488 - val_accuracy: 0.9295\n",
      "Epoch 99/100\n",
      "15/15 [==============================] - 1s 47ms/step - loss: 0.2475 - accuracy: 0.9304 - val_loss: 0.2459 - val_accuracy: 0.9309\n",
      "Epoch 100/100\n",
      "15/15 [==============================] - 1s 44ms/step - loss: 0.2449 - accuracy: 0.9310 - val_loss: 0.2432 - val_accuracy: 0.9315\n"
     ]
    }
   ],
   "source": [
    "history = model.fit(X_train_val, y_train_val, batch_size = 1024, epochs = 100,\n",
    "                    validation_split = 0.25, shuffle = True, callbacks = None)"
   ]
  },
  {
   "cell_type": "code",
   "execution_count": 7,
   "metadata": {},
   "outputs": [
    {
     "name": "stdout",
     "output_type": "stream",
     "text": [
      "WARNING:tensorflow:From C:\\Users\\45148\\anaconda3\\envs\\EPE_ML_TF2_GPU\\lib\\site-packages\\tensorflow\\python\\ops\\resource_variable_ops.py:1817: calling BaseResourceVariable.__init__ (from tensorflow.python.ops.resource_variable_ops) with constraint is deprecated and will be removed in a future version.\n",
      "Instructions for updating:\n",
      "If using Keras pass *_constraint arguments to layers.\n",
      "INFO:tensorflow:Assets written to: GRU\\assets\n"
     ]
    }
   ],
   "source": [
    "model.save('GRU') #Saves to local directory;"
   ]
  },
  {
   "cell_type": "code",
   "execution_count": 8,
   "metadata": {},
   "outputs": [],
   "source": [
    "def learningCurve(history):\n",
    "    plt.figure(figsize=(10,8))\n",
    "    plt.plot(history.history['loss'], linewidth=1)\n",
    "    plt.plot(history.history['val_loss'], linewidth=1)\n",
    "    plt.title('Model Loss over Epochs')\n",
    "    plt.ylabel('Loss')\n",
    "    plt.xlabel('Epoch')\n",
    "    plt.legend(['training sample loss','validation sample loss'])\n",
    "    #plt.savefig('Learning_curve.pdf')\n",
    "    plt.show()\n",
    "    plt.close()"
   ]
  },
  {
   "cell_type": "code",
   "execution_count": 9,
   "metadata": {},
   "outputs": [
    {
     "data": {
      "image/png": "[encoded data removed]",
      "text/plain": [
       "<Figure size 720x576 with 1 Axes>"
      ]
     },
     "metadata": {
      "needs_background": "light"
     },
     "output_type": "display_data"
    }
   ],
   "source": [
    "learningCurve(history)"
   ]
  },
  {
   "cell_type": "code",
   "execution_count": 10,
   "metadata": {},
   "outputs": [],
   "source": [
    "def makeRoc(features_val, labels_val, labels, model, outputDir='', outputSuffix=''):\n",
    "    labels_pred = model.predict(features_val)\n",
    "    df = pd.DataFrame()\n",
    "    fpr = {}\n",
    "    tpr = {}\n",
    "    auc1 = {}\n",
    "    plt.figure(figsize=(10,8))       \n",
    "    for i, label in enumerate(labels):\n",
    "        df[label] = labels_val[:,i]\n",
    "        df[label + '_pred'] = labels_pred[:,i]\n",
    "        fpr[label], tpr[label], threshold = roc_curve(df[label],df[label+'_pred'])\n",
    "        auc1[label] = auc(fpr[label], tpr[label])\n",
    "        plt.plot(fpr[label],tpr[label],label='%s tagger, AUC = %.1f%%'%(label.replace('j_',''),auc1[label]*100.))\n",
    "    plt.plot([0, 1], [0, 1], lw=1, color='black', linestyle='--')\n",
    "    #plt.semilogy()\n",
    "    plt.xlabel(\"Background Efficiency\")\n",
    "    plt.ylabel(\"Signal Efficiency\")\n",
    "    plt.xlim([-0.05, 1.05])\n",
    "    plt.ylim(0.001,1.05)\n",
    "    plt.grid(True)\n",
    "    plt.legend(loc='lower right')\n",
    "    plt.semilogy()\n",
    "    plt.figtext(0.25, 0.90,'GRU ROC Curve',fontweight='bold', wrap=True, horizontalalignment='right', fontsize=14)\n",
    "    #plt.figtext(0.35, 0.90,'preliminary', style='italic', wrap=True, horizontalalignment='center', fontsize=14) \n",
    "    #plt.savefig('%sROC_%s.pdf'%(outputDir, outputSuffix))\n",
    "    return labels_pred"
   ]
  },
  {
   "cell_type": "code",
   "execution_count": 11,
   "metadata": {},
   "outputs": [
    {
     "data": {
      "image/png": "[encoded data removed]",
      "text/plain": [
       "<Figure size 720x576 with 1 Axes>"
      ]
     },
     "metadata": {
      "needs_background": "light"
     },
     "output_type": "display_data"
    }
   ],
   "source": [
    "y_pred = makeRoc(X_test, y_test, labels, model, outputSuffix='GRU')"
   ]
  },
  {
   "cell_type": "code",
   "execution_count": null,
   "metadata": {},
   "outputs": [],
   "source": []
  }
 ],
 "metadata": {
  "kernelspec": {
   "display_name": "Python 3",
   "language": "python",
   "name": "python3"
  },
  "language_info": {
   "codemirror_mode": {
    "name": "ipython",
    "version": 3
   },
   "file_extension": ".py",
   "mimetype": "text/x-python",
   "name": "python",
   "nbconvert_exporter": "python",
   "pygments_lexer": "ipython3",
   "version": "3.6.10"
  }
 },
 "nbformat": 4,
 "nbformat_minor": 4
}
