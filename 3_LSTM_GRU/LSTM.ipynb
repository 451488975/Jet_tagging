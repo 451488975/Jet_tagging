{
 "cells": [
  {
   "cell_type": "code",
   "execution_count": 1,
   "metadata": {},
   "outputs": [
    {
     "name": "stderr",
     "output_type": "stream",
     "text": [
      "Using TensorFlow backend.\n"
     ]
    }
   ],
   "source": [
    "import keras\n",
    "from keras.models import load_model\n",
    "from keras.models import model_from_json\n",
    "from keras.optimizers import Adam\n",
    "from sklearn.metrics import roc_curve, auc\n",
    "from sklearn.model_selection import train_test_split\n",
    "from sklearn import preprocessing\n",
    "import numpy as np\n",
    "import os\n",
    "import h5py\n",
    "import yaml\n",
    "import pandas as pd\n",
    "import matplotlib.pyplot as plt\n",
    "from collections import namedtuple"
   ]
  },
  {
   "cell_type": "code",
   "execution_count": 2,
   "metadata": {},
   "outputs": [
    {
     "name": "stdout",
     "output_type": "stream",
     "text": [
      "Loading configuration from train_config_lstm.yml\n"
     ]
    },
    {
     "data": {
      "text/plain": [
       "{'Inputs': ['j1_ptrel',\n",
       "  'j1_etarot',\n",
       "  'j1_phirot',\n",
       "  'j1_erel',\n",
       "  'j1_deltaR',\n",
       "  'j1_pdgid',\n",
       "  'j_index'],\n",
       " 'Labels': ['j_g', 'j_q', 'j_w', 'j_z', 'j_t', 'j_index'],\n",
       " 'KerasModel': 'lstm_model',\n",
       " 'KerasModelRetrain': 'lstm_model_constraint',\n",
       " 'KerasLoss': 'categorical_crossentropy',\n",
       " 'L1Reg': 0.0001,\n",
       " 'L1RegR': 0.001,\n",
       " 'NormalizeInputs': 1,\n",
       " 'InputType': 'Conv1D',\n",
       " 'MaxParticles': 20}"
      ]
     },
     "execution_count": 2,
     "metadata": {},
     "output_type": "execute_result"
    }
   ],
   "source": [
    "Option = namedtuple(\"MyStruct\", \"inputModel inputFile tree config jsonModel outputDir\")\n",
    "\n",
    "options = Option(\n",
    "    inputModel = 'KERAS_lstm_model_weights.h5',\n",
    "    inputFile = '../processed-pythia82-lhc13-all-pt1-50k-r1_h022_e0175_t220_nonu_withPars_truth.z',\n",
    "    tree = 't_allpar_new',\n",
    "    config = 'train_config_lstm.yml',\n",
    "    jsonModel = 'KERAS_lstm_model.json',\n",
    "    outputDir = '/output'\n",
    ")\n",
    "\n",
    "print(\"Loading configuration from\", options.config)\n",
    "config = open(options.config, 'r')\n",
    "yamlConfig =  yaml.load(config, Loader=yaml.FullLoader)\n",
    "yamlConfig"
   ]
  },
  {
   "cell_type": "code",
   "execution_count": 3,
   "metadata": {},
   "outputs": [
    {
     "name": "stdout",
     "output_type": "stream",
     "text": [
      "WARNING:tensorflow:Layer lstm_lstm will not use cuDNN kernel since it doesn't meet the cuDNN kernel criteria. It will use generic GPU kernel as fallback when running on GPU\n",
      "Model: \"model_1\"\n",
      "_________________________________________________________________\n",
      "Layer (type)                 Output Shape              Param #   \n",
      "=================================================================\n",
      "input_1 (InputLayer)         [(None, 20, 6)]           0         \n",
      "_________________________________________________________________\n",
      "lstm_lstm (LSTM)             (None, 20, 16)            1472      \n",
      "_________________________________________________________________\n",
      "flatten_1 (Flatten)          (None, 320)               0         \n",
      "_________________________________________________________________\n",
      "rnn_densef (Dense)           (None, 5)                 1605      \n",
      "=================================================================\n",
      "Total params: 3,077\n",
      "Trainable params: 3,077\n",
      "Non-trainable params: 0\n",
      "_________________________________________________________________\n"
     ]
    }
   ],
   "source": [
    "json_file = open(options.jsonModel, 'r')\n",
    "model = model_from_json(json_file.read())\n",
    "json_file.close()\n",
    "\n",
    "model.load_weights(options.inputModel)\n",
    "model.summary()"
   ]
  },
  {
   "cell_type": "code",
   "execution_count": 4,
   "metadata": {},
   "outputs": [
    {
     "name": "stdout",
     "output_type": "stream",
     "text": [
      "(24816, 5)\n"
     ]
    }
   ],
   "source": [
    "# To use one data file:\n",
    "h5File = h5py.File(options.inputFile, 'r')\n",
    "treeArray = h5File[options.tree][()]\n",
    "\n",
    "#print(treeArray.shape)\n",
    "#print(treeArray.dtype.names)\n",
    "\n",
    "# List of features to use\n",
    "features = yamlConfig['Inputs']\n",
    "\n",
    "# List of labels to use\n",
    "labels = yamlConfig['Labels']\n",
    "\n",
    "# Convert to dataframe\n",
    "features_labels_df = pd.DataFrame(treeArray,columns=list(set(features+labels)))\n",
    "features_labels_df = features_labels_df.drop_duplicates()\n",
    "\n",
    "features_df = features_labels_df[features]\n",
    "labels_df = features_labels_df[labels]\n",
    "\n",
    "labels_df = labels_df.drop_duplicates()\n",
    "\n",
    "# Convert to numpy array \n",
    "features_val = features_df.values\n",
    "labels_val = labels_df.values\n",
    "\n",
    "if 'j_index' in features:\n",
    "    features_val = features_val[:,:-1] # drop the j_index feature\n",
    "if 'j_index' in labels:\n",
    "    labels_val = labels_val[:,:-1] # drop the j_index label\n",
    "    print(labels_val.shape)"
   ]
  },
  {
   "cell_type": "code",
   "execution_count": 5,
   "metadata": {},
   "outputs": [],
   "source": [
    "features_2dval = np.zeros((len(labels_df), yamlConfig['MaxParticles'], len(features)-1))\n",
    "for i in range(0, len(labels_df)):\n",
    "    features_df_i = features_df[features_df['j_index']==labels_df['j_index'].iloc[i]]\n",
    "    index_values = features_df_i.index.values\n",
    "    #features_val_i = features_val[index_values[0]:index_values[-1]+1,:-1] # drop the last feature j_index\n",
    "    features_val_i = features_val[np.array(index_values),:]\n",
    "    nParticles = len(features_val_i)\n",
    "    #print(\"before\", features_val_i[:,0])\n",
    "    features_val_i = features_val_i[features_val_i[:,0].argsort()[::-1]] # sort descending by first value (ptrel, usually)\n",
    "    #print(\"after\", features_val_i[:,0])\n",
    "    if nParticles>yamlConfig['MaxParticles']:\n",
    "        features_val_i =  features_val_i[0:yamlConfig['MaxParticles'],:]\n",
    "    else:        \n",
    "        features_val_i = np.concatenate([features_val_i, np.zeros((yamlConfig['MaxParticles']-nParticles, len(features)-1))])\n",
    "    features_2dval[i, :, :] = features_val_i\n",
    "    \n",
    "features_val = features_2dval\n",
    "\n",
    "X_train_val, X_test, y_train_val, y_test = train_test_split(features_val, labels_val, test_size=0.2, random_state=42)"
   ]
  },
  {
   "cell_type": "code",
   "execution_count": 6,
   "metadata": {},
   "outputs": [],
   "source": [
    "reshape_X_train_val = X_train_val.reshape(X_train_val.shape[0]*X_train_val.shape[1],X_train_val.shape[2])\n",
    "scaler = preprocessing.StandardScaler().fit(reshape_X_train_val)\n",
    "for p in range(X_train_val.shape[1]):\n",
    "    X_train_val[:,p,:] = scaler.transform(X_train_val[:,p,:])\n",
    "    X_test[:,p,:] = scaler.transform(X_test[:,p,:])    \n",
    "if 'j_index' in labels:\n",
    "    labels = labels[:-1]"
   ]
  },
  {
   "cell_type": "code",
   "execution_count": 7,
   "metadata": {},
   "outputs": [],
   "source": [
    "adam = Adam(lr=0.0001)\n",
    "model.compile(optimizer=adam, loss=[yamlConfig['KerasLoss']], metrics=['accuracy'])"
   ]
  },
  {
   "cell_type": "code",
   "execution_count": 8,
   "metadata": {},
   "outputs": [
    {
     "name": "stdout",
     "output_type": "stream",
     "text": [
      "Epoch 1/100\n",
      "15/15 [==============================] - 1s 59ms/step - loss: 0.7167 - accuracy: 0.8849 - val_loss: 0.4741 - val_accuracy: 0.9220\n",
      "Epoch 2/100\n",
      "15/15 [==============================] - 1s 43ms/step - loss: 0.3740 - accuracy: 0.9346 - val_loss: 0.3186 - val_accuracy: 0.9404\n",
      "Epoch 3/100\n",
      "15/15 [==============================] - 1s 43ms/step - loss: 0.2726 - accuracy: 0.9421 - val_loss: 0.2502 - val_accuracy: 0.9379\n",
      "Epoch 4/100\n",
      "15/15 [==============================] - 1s 43ms/step - loss: 0.2268 - accuracy: 0.9356 - val_loss: 0.2163 - val_accuracy: 0.9337\n",
      "Epoch 5/100\n",
      "15/15 [==============================] - 1s 44ms/step - loss: 0.1984 - accuracy: 0.9374 - val_loss: 0.1943 - val_accuracy: 0.9389\n",
      "Epoch 6/100\n",
      "15/15 [==============================] - 1s 44ms/step - loss: 0.1801 - accuracy: 0.9433 - val_loss: 0.1794 - val_accuracy: 0.9438\n",
      "Epoch 7/100\n",
      "15/15 [==============================] - 1s 44ms/step - loss: 0.1661 - accuracy: 0.9479 - val_loss: 0.1687 - val_accuracy: 0.9470\n",
      "Epoch 8/100\n",
      "15/15 [==============================] - 1s 45ms/step - loss: 0.1553 - accuracy: 0.9527 - val_loss: 0.1595 - val_accuracy: 0.9500\n",
      "Epoch 9/100\n",
      "15/15 [==============================] - 1s 44ms/step - loss: 0.1466 - accuracy: 0.9563 - val_loss: 0.1511 - val_accuracy: 0.9541\n",
      "Epoch 10/100\n",
      "15/15 [==============================] - 1s 44ms/step - loss: 0.1393 - accuracy: 0.9600 - val_loss: 0.1438 - val_accuracy: 0.9571\n",
      "Epoch 11/100\n",
      "15/15 [==============================] - 1s 43ms/step - loss: 0.1327 - accuracy: 0.9637 - val_loss: 0.1379 - val_accuracy: 0.9599\n",
      "Epoch 12/100\n",
      "15/15 [==============================] - 1s 43ms/step - loss: 0.1275 - accuracy: 0.9650 - val_loss: 0.1323 - val_accuracy: 0.9613\n",
      "Epoch 13/100\n",
      "15/15 [==============================] - 1s 43ms/step - loss: 0.1228 - accuracy: 0.9673 - val_loss: 0.1278 - val_accuracy: 0.9635\n",
      "Epoch 14/100\n",
      "15/15 [==============================] - 1s 47ms/step - loss: 0.1187 - accuracy: 0.9689 - val_loss: 0.1237 - val_accuracy: 0.9657\n",
      "Epoch 15/100\n",
      "15/15 [==============================] - 1s 43ms/step - loss: 0.1150 - accuracy: 0.9712 - val_loss: 0.1202 - val_accuracy: 0.9666\n",
      "Epoch 16/100\n",
      "15/15 [==============================] - 1s 46ms/step - loss: 0.1117 - accuracy: 0.9730 - val_loss: 0.1173 - val_accuracy: 0.9674\n",
      "Epoch 17/100\n",
      "15/15 [==============================] - 1s 48ms/step - loss: 0.1087 - accuracy: 0.9737 - val_loss: 0.1145 - val_accuracy: 0.9698\n",
      "Epoch 18/100\n",
      "15/15 [==============================] - 1s 47ms/step - loss: 0.1059 - accuracy: 0.9752 - val_loss: 0.1119 - val_accuracy: 0.9712\n",
      "Epoch 19/100\n",
      "15/15 [==============================] - 1s 42ms/step - loss: 0.1033 - accuracy: 0.9758 - val_loss: 0.1095 - val_accuracy: 0.9724\n",
      "Epoch 20/100\n",
      "15/15 [==============================] - 1s 44ms/step - loss: 0.1012 - accuracy: 0.9771 - val_loss: 0.1074 - val_accuracy: 0.9722\n",
      "Epoch 21/100\n",
      "15/15 [==============================] - 1s 46ms/step - loss: 0.0991 - accuracy: 0.9776 - val_loss: 0.1054 - val_accuracy: 0.9738\n",
      "Epoch 22/100\n",
      "15/15 [==============================] - 1s 44ms/step - loss: 0.0972 - accuracy: 0.9785 - val_loss: 0.1035 - val_accuracy: 0.9748\n",
      "Epoch 23/100\n",
      "15/15 [==============================] - 1s 43ms/step - loss: 0.0954 - accuracy: 0.9796 - val_loss: 0.1020 - val_accuracy: 0.9754\n",
      "Epoch 24/100\n",
      "15/15 [==============================] - 1s 43ms/step - loss: 0.0938 - accuracy: 0.9807 - val_loss: 0.1003 - val_accuracy: 0.9760\n",
      "Epoch 25/100\n",
      "15/15 [==============================] - 1s 43ms/step - loss: 0.0922 - accuracy: 0.9807 - val_loss: 0.0992 - val_accuracy: 0.9772\n",
      "Epoch 26/100\n",
      "15/15 [==============================] - 1s 43ms/step - loss: 0.0910 - accuracy: 0.9813 - val_loss: 0.0976 - val_accuracy: 0.9782\n",
      "Epoch 27/100\n",
      "15/15 [==============================] - 1s 44ms/step - loss: 0.0895 - accuracy: 0.9817 - val_loss: 0.0965 - val_accuracy: 0.9796\n",
      "Epoch 28/100\n",
      "15/15 [==============================] - 1s 45ms/step - loss: 0.0881 - accuracy: 0.9829 - val_loss: 0.0951 - val_accuracy: 0.9799\n",
      "Epoch 29/100\n",
      "15/15 [==============================] - 1s 45ms/step - loss: 0.0867 - accuracy: 0.9828 - val_loss: 0.0939 - val_accuracy: 0.9815\n",
      "Epoch 30/100\n",
      "15/15 [==============================] - 1s 43ms/step - loss: 0.0854 - accuracy: 0.9827 - val_loss: 0.0926 - val_accuracy: 0.9815\n",
      "Epoch 31/100\n",
      "15/15 [==============================] - 1s 44ms/step - loss: 0.0842 - accuracy: 0.9833 - val_loss: 0.0915 - val_accuracy: 0.9815\n",
      "Epoch 32/100\n",
      "15/15 [==============================] - 1s 45ms/step - loss: 0.0830 - accuracy: 0.9844 - val_loss: 0.0906 - val_accuracy: 0.9823\n",
      "Epoch 33/100\n",
      "15/15 [==============================] - 1s 42ms/step - loss: 0.0816 - accuracy: 0.9846 - val_loss: 0.0894 - val_accuracy: 0.9827\n",
      "Epoch 34/100\n",
      "15/15 [==============================] - 1s 47ms/step - loss: 0.0805 - accuracy: 0.9850 - val_loss: 0.0882 - val_accuracy: 0.9829\n",
      "Epoch 35/100\n",
      "15/15 [==============================] - 1s 45ms/step - loss: 0.0794 - accuracy: 0.9863 - val_loss: 0.0874 - val_accuracy: 0.9833\n",
      "Epoch 36/100\n",
      "15/15 [==============================] - 1s 44ms/step - loss: 0.0781 - accuracy: 0.9870 - val_loss: 0.0864 - val_accuracy: 0.9835\n",
      "Epoch 37/100\n",
      "15/15 [==============================] - 1s 44ms/step - loss: 0.0770 - accuracy: 0.9871 - val_loss: 0.0855 - val_accuracy: 0.9841\n",
      "Epoch 38/100\n",
      "15/15 [==============================] - 1s 43ms/step - loss: 0.0759 - accuracy: 0.9880 - val_loss: 0.0848 - val_accuracy: 0.9845\n",
      "Epoch 39/100\n",
      "15/15 [==============================] - 1s 44ms/step - loss: 0.0751 - accuracy: 0.9882 - val_loss: 0.0840 - val_accuracy: 0.9851\n",
      "Epoch 40/100\n",
      "15/15 [==============================] - 1s 46ms/step - loss: 0.0742 - accuracy: 0.9883 - val_loss: 0.0829 - val_accuracy: 0.9853\n",
      "Epoch 41/100\n",
      "15/15 [==============================] - 1s 48ms/step - loss: 0.0734 - accuracy: 0.9890 - val_loss: 0.0824 - val_accuracy: 0.9851\n",
      "Epoch 42/100\n",
      "15/15 [==============================] - 1s 47ms/step - loss: 0.0727 - accuracy: 0.9890 - val_loss: 0.0819 - val_accuracy: 0.9853\n",
      "Epoch 43/100\n",
      "15/15 [==============================] - 1s 45ms/step - loss: 0.0720 - accuracy: 0.9899 - val_loss: 0.0815 - val_accuracy: 0.9853\n",
      "Epoch 44/100\n",
      "15/15 [==============================] - 1s 44ms/step - loss: 0.0716 - accuracy: 0.9893 - val_loss: 0.0806 - val_accuracy: 0.9857\n",
      "Epoch 45/100\n",
      "15/15 [==============================] - 1s 42ms/step - loss: 0.0709 - accuracy: 0.9898 - val_loss: 0.0803 - val_accuracy: 0.9857\n",
      "Epoch 46/100\n",
      "15/15 [==============================] - 1s 44ms/step - loss: 0.0701 - accuracy: 0.9900 - val_loss: 0.0796 - val_accuracy: 0.9865\n",
      "Epoch 47/100\n",
      "15/15 [==============================] - 1s 45ms/step - loss: 0.0695 - accuracy: 0.9903 - val_loss: 0.0790 - val_accuracy: 0.9863\n",
      "Epoch 48/100\n",
      "15/15 [==============================] - 1s 47ms/step - loss: 0.0690 - accuracy: 0.9905 - val_loss: 0.0784 - val_accuracy: 0.9861\n",
      "Epoch 49/100\n",
      "15/15 [==============================] - 1s 44ms/step - loss: 0.0685 - accuracy: 0.9904 - val_loss: 0.0782 - val_accuracy: 0.9865\n",
      "Epoch 50/100\n",
      "15/15 [==============================] - 1s 43ms/step - loss: 0.0680 - accuracy: 0.9910 - val_loss: 0.0776 - val_accuracy: 0.9865\n",
      "Epoch 51/100\n",
      "15/15 [==============================] - 1s 51ms/step - loss: 0.0675 - accuracy: 0.9909 - val_loss: 0.0779 - val_accuracy: 0.9865\n",
      "Epoch 52/100\n",
      "15/15 [==============================] - 1s 44ms/step - loss: 0.0671 - accuracy: 0.9912 - val_loss: 0.0771 - val_accuracy: 0.9869\n",
      "Epoch 53/100\n",
      "15/15 [==============================] - 1s 46ms/step - loss: 0.0668 - accuracy: 0.9906 - val_loss: 0.0764 - val_accuracy: 0.9869\n",
      "Epoch 54/100\n",
      "15/15 [==============================] - 1s 50ms/step - loss: 0.0663 - accuracy: 0.9916 - val_loss: 0.0765 - val_accuracy: 0.9871\n",
      "Epoch 55/100\n",
      "15/15 [==============================] - 1s 52ms/step - loss: 0.0658 - accuracy: 0.9916 - val_loss: 0.0754 - val_accuracy: 0.9871\n",
      "Epoch 56/100\n",
      "15/15 [==============================] - 1s 48ms/step - loss: 0.0654 - accuracy: 0.9914 - val_loss: 0.0754 - val_accuracy: 0.9875\n",
      "Epoch 57/100\n",
      "15/15 [==============================] - 1s 45ms/step - loss: 0.0651 - accuracy: 0.9919 - val_loss: 0.0750 - val_accuracy: 0.9875\n",
      "Epoch 58/100\n"
     ]
    },
    {
     "name": "stdout",
     "output_type": "stream",
     "text": [
      "15/15 [==============================] - 1s 45ms/step - loss: 0.0647 - accuracy: 0.9915 - val_loss: 0.0742 - val_accuracy: 0.9875\n",
      "Epoch 59/100\n",
      "15/15 [==============================] - 1s 44ms/step - loss: 0.0642 - accuracy: 0.9919 - val_loss: 0.0737 - val_accuracy: 0.9875\n",
      "Epoch 60/100\n",
      "15/15 [==============================] - 1s 48ms/step - loss: 0.0639 - accuracy: 0.9915 - val_loss: 0.0736 - val_accuracy: 0.9881\n",
      "Epoch 61/100\n",
      "15/15 [==============================] - 1s 58ms/step - loss: 0.0636 - accuracy: 0.9923 - val_loss: 0.0729 - val_accuracy: 0.9875\n",
      "Epoch 62/100\n",
      "15/15 [==============================] - 1s 45ms/step - loss: 0.0632 - accuracy: 0.9918 - val_loss: 0.0728 - val_accuracy: 0.9883\n",
      "Epoch 63/100\n",
      "15/15 [==============================] - 1s 46ms/step - loss: 0.0627 - accuracy: 0.9925 - val_loss: 0.0723 - val_accuracy: 0.9881\n",
      "Epoch 64/100\n",
      "15/15 [==============================] - 1s 44ms/step - loss: 0.0625 - accuracy: 0.9923 - val_loss: 0.0717 - val_accuracy: 0.9889\n",
      "Epoch 65/100\n",
      "15/15 [==============================] - 1s 44ms/step - loss: 0.0624 - accuracy: 0.9925 - val_loss: 0.0722 - val_accuracy: 0.9879\n",
      "Epoch 66/100\n",
      "15/15 [==============================] - 1s 44ms/step - loss: 0.0620 - accuracy: 0.9924 - val_loss: 0.0717 - val_accuracy: 0.9883\n",
      "Epoch 67/100\n",
      "15/15 [==============================] - 1s 44ms/step - loss: 0.0614 - accuracy: 0.9925 - val_loss: 0.0710 - val_accuracy: 0.9885\n",
      "Epoch 68/100\n",
      "15/15 [==============================] - 1s 44ms/step - loss: 0.0611 - accuracy: 0.9928 - val_loss: 0.0706 - val_accuracy: 0.9887\n",
      "Epoch 69/100\n",
      "15/15 [==============================] - 1s 43ms/step - loss: 0.0608 - accuracy: 0.9925 - val_loss: 0.0703 - val_accuracy: 0.9885\n",
      "Epoch 70/100\n",
      "15/15 [==============================] - 1s 43ms/step - loss: 0.0609 - accuracy: 0.9925 - val_loss: 0.0707 - val_accuracy: 0.9889\n",
      "Epoch 71/100\n",
      "15/15 [==============================] - 1s 43ms/step - loss: 0.0602 - accuracy: 0.9929 - val_loss: 0.0693 - val_accuracy: 0.9891\n",
      "Epoch 72/100\n",
      "15/15 [==============================] - 1s 45ms/step - loss: 0.0599 - accuracy: 0.9928 - val_loss: 0.0696 - val_accuracy: 0.9883\n",
      "Epoch 73/100\n",
      "15/15 [==============================] - 1s 43ms/step - loss: 0.0596 - accuracy: 0.9929 - val_loss: 0.0686 - val_accuracy: 0.9887\n",
      "Epoch 74/100\n",
      "15/15 [==============================] - 1s 43ms/step - loss: 0.0593 - accuracy: 0.9934 - val_loss: 0.0687 - val_accuracy: 0.9889\n",
      "Epoch 75/100\n",
      "15/15 [==============================] - 1s 44ms/step - loss: 0.0590 - accuracy: 0.9933 - val_loss: 0.0685 - val_accuracy: 0.9885\n",
      "Epoch 76/100\n",
      "15/15 [==============================] - 1s 43ms/step - loss: 0.0588 - accuracy: 0.9933 - val_loss: 0.0685 - val_accuracy: 0.9887\n",
      "Epoch 77/100\n",
      "15/15 [==============================] - 1s 44ms/step - loss: 0.0586 - accuracy: 0.9929 - val_loss: 0.0675 - val_accuracy: 0.9889\n",
      "Epoch 78/100\n",
      "15/15 [==============================] - 1s 44ms/step - loss: 0.0583 - accuracy: 0.9932 - val_loss: 0.0675 - val_accuracy: 0.9897\n",
      "Epoch 79/100\n",
      "15/15 [==============================] - 1s 44ms/step - loss: 0.0585 - accuracy: 0.9932 - val_loss: 0.0686 - val_accuracy: 0.9883\n",
      "Epoch 80/100\n",
      "15/15 [==============================] - 1s 44ms/step - loss: 0.0588 - accuracy: 0.9927 - val_loss: 0.0667 - val_accuracy: 0.9903\n",
      "Epoch 81/100\n",
      "15/15 [==============================] - 1s 44ms/step - loss: 0.0577 - accuracy: 0.9936 - val_loss: 0.0669 - val_accuracy: 0.9893\n",
      "Epoch 82/100\n",
      "15/15 [==============================] - 1s 44ms/step - loss: 0.0572 - accuracy: 0.9937 - val_loss: 0.0665 - val_accuracy: 0.9891\n",
      "Epoch 83/100\n",
      "15/15 [==============================] - 1s 51ms/step - loss: 0.0570 - accuracy: 0.9936 - val_loss: 0.0665 - val_accuracy: 0.9895\n",
      "Epoch 84/100\n",
      "15/15 [==============================] - 1s 48ms/step - loss: 0.0568 - accuracy: 0.9935 - val_loss: 0.0656 - val_accuracy: 0.9897\n",
      "Epoch 85/100\n",
      "15/15 [==============================] - 1s 46ms/step - loss: 0.0565 - accuracy: 0.9941 - val_loss: 0.0659 - val_accuracy: 0.9891\n",
      "Epoch 86/100\n",
      "15/15 [==============================] - 1s 44ms/step - loss: 0.0562 - accuracy: 0.9940 - val_loss: 0.0653 - val_accuracy: 0.9897\n",
      "Epoch 87/100\n",
      "15/15 [==============================] - 1s 44ms/step - loss: 0.0560 - accuracy: 0.9939 - val_loss: 0.0653 - val_accuracy: 0.9893\n",
      "Epoch 88/100\n",
      "15/15 [==============================] - 1s 44ms/step - loss: 0.0558 - accuracy: 0.9940 - val_loss: 0.0648 - val_accuracy: 0.9901\n",
      "Epoch 89/100\n",
      "15/15 [==============================] - 1s 44ms/step - loss: 0.0556 - accuracy: 0.9942 - val_loss: 0.0644 - val_accuracy: 0.9907\n",
      "Epoch 90/100\n",
      "15/15 [==============================] - 1s 44ms/step - loss: 0.0554 - accuracy: 0.9938 - val_loss: 0.0644 - val_accuracy: 0.9897\n",
      "Epoch 91/100\n",
      "15/15 [==============================] - 1s 43ms/step - loss: 0.0550 - accuracy: 0.9942 - val_loss: 0.0641 - val_accuracy: 0.9903\n",
      "Epoch 92/100\n",
      "15/15 [==============================] - 1s 44ms/step - loss: 0.0548 - accuracy: 0.9940 - val_loss: 0.0640 - val_accuracy: 0.9899\n",
      "Epoch 93/100\n",
      "15/15 [==============================] - 1s 45ms/step - loss: 0.0547 - accuracy: 0.9942 - val_loss: 0.0637 - val_accuracy: 0.9899\n",
      "Epoch 94/100\n",
      "15/15 [==============================] - 1s 48ms/step - loss: 0.0543 - accuracy: 0.9943 - val_loss: 0.0636 - val_accuracy: 0.9899\n",
      "Epoch 95/100\n",
      "15/15 [==============================] - 1s 47ms/step - loss: 0.0542 - accuracy: 0.9942 - val_loss: 0.0631 - val_accuracy: 0.9903\n",
      "Epoch 96/100\n",
      "15/15 [==============================] - 1s 44ms/step - loss: 0.0539 - accuracy: 0.9944 - val_loss: 0.0629 - val_accuracy: 0.9909\n",
      "Epoch 97/100\n",
      "15/15 [==============================] - 1s 45ms/step - loss: 0.0537 - accuracy: 0.9943 - val_loss: 0.0627 - val_accuracy: 0.9907\n",
      "Epoch 98/100\n",
      "15/15 [==============================] - 1s 45ms/step - loss: 0.0535 - accuracy: 0.9947 - val_loss: 0.0624 - val_accuracy: 0.9905\n",
      "Epoch 99/100\n",
      "15/15 [==============================] - 1s 43ms/step - loss: 0.0534 - accuracy: 0.9944 - val_loss: 0.0621 - val_accuracy: 0.9907\n",
      "Epoch 100/100\n",
      "15/15 [==============================] - 1s 42ms/step - loss: 0.0530 - accuracy: 0.9946 - val_loss: 0.0623 - val_accuracy: 0.9899\n"
     ]
    }
   ],
   "source": [
    "history = model.fit(X_train_val, y_train_val, batch_size = 1024, epochs = 100,\n",
    "                    validation_split = 0.25, shuffle = True, callbacks = None, \n",
    "                    use_multiprocessing=True, workers=4)"
   ]
  },
  {
   "cell_type": "code",
   "execution_count": 9,
   "metadata": {},
   "outputs": [
    {
     "name": "stdout",
     "output_type": "stream",
     "text": [
      "WARNING:tensorflow:From C:\\Users\\45148\\anaconda3\\envs\\EPE_ML_TF2_GPU\\lib\\site-packages\\tensorflow\\python\\ops\\resource_variable_ops.py:1817: calling BaseResourceVariable.__init__ (from tensorflow.python.ops.resource_variable_ops) with constraint is deprecated and will be removed in a future version.\n",
      "Instructions for updating:\n",
      "If using Keras pass *_constraint arguments to layers.\n",
      "INFO:tensorflow:Assets written to: LSTM\\assets\n"
     ]
    }
   ],
   "source": [
    "model.save('LSTM') #Saves to local directory;"
   ]
  },
  {
   "cell_type": "code",
   "execution_count": 10,
   "metadata": {},
   "outputs": [
    {
     "name": "stdout",
     "output_type": "stream",
     "text": [
      "WARNING:tensorflow:Layer lstm_lstm will not use cuDNN kernel since it doesn't meet the cuDNN kernel criteria. It will use generic GPU kernel as fallback when running on GPU\n"
     ]
    }
   ],
   "source": [
    "loaded_model = keras.models.load_model('LSTM') #Loads from local directory"
   ]
  },
  {
   "cell_type": "code",
   "execution_count": 11,
   "metadata": {},
   "outputs": [
    {
     "name": "stdout",
     "output_type": "stream",
     "text": [
      "Model: \"model_1\"\n",
      "_________________________________________________________________\n",
      "Layer (type)                 Output Shape              Param #   \n",
      "=================================================================\n",
      "input_1 (InputLayer)         [(None, 20, 6)]           0         \n",
      "_________________________________________________________________\n",
      "lstm_lstm (LSTM)             (None, 20, 16)            1472      \n",
      "_________________________________________________________________\n",
      "flatten_1 (Flatten)          (None, 320)               0         \n",
      "_________________________________________________________________\n",
      "rnn_densef (Dense)           (None, 5)                 1605      \n",
      "=================================================================\n",
      "Total params: 3,077\n",
      "Trainable params: 3,077\n",
      "Non-trainable params: 0\n",
      "_________________________________________________________________\n"
     ]
    }
   ],
   "source": [
    "loaded_model.summary()"
   ]
  },
  {
   "cell_type": "code",
   "execution_count": 12,
   "metadata": {},
   "outputs": [],
   "source": [
    "def learningCurve(history):\n",
    "    plt.figure(figsize=(10,8))\n",
    "    plt.plot(history.history['loss'], linewidth=1)\n",
    "    plt.plot(history.history['val_loss'], linewidth=1)\n",
    "    plt.title('Model Loss over Epochs')\n",
    "    plt.ylabel('Loss')\n",
    "    plt.xlabel('Epoch')\n",
    "    plt.legend(['training sample loss','validation sample loss'])\n",
    "    #plt.savefig('Learning_curve.pdf')\n",
    "    plt.show()\n",
    "    plt.close()"
   ]
  },
  {
   "cell_type": "code",
   "execution_count": 13,
   "metadata": {},
   "outputs": [
    {
     "data": {
      "image/png": "[encoded data removed]",
      "text/plain": [
       "<Figure size 720x576 with 1 Axes>"
      ]
     },
     "metadata": {
      "needs_background": "light"
     },
     "output_type": "display_data"
    }
   ],
   "source": [
    "learningCurve(history)"
   ]
  },
  {
   "cell_type": "code",
   "execution_count": 14,
   "metadata": {},
   "outputs": [],
   "source": [
    "def makeRoc(features_val, labels_val, labels, model, outputDir='', outputSuffix=''):\n",
    "    from sklearn.metrics import roc_curve, auc\n",
    "    labels_pred = model.predict(features_val)\n",
    "    df = pd.DataFrame()\n",
    "    fpr = {}\n",
    "    tpr = {}\n",
    "    auc1 = {}\n",
    "    plt.figure(figsize=(10,8))       \n",
    "    for i, label in enumerate(labels):\n",
    "        df[label] = labels_val[:,i]\n",
    "        df[label + '_pred'] = labels_pred[:,i]\n",
    "        fpr[label], tpr[label], threshold = roc_curve(df[label],df[label+'_pred'])\n",
    "        auc1[label] = auc(fpr[label], tpr[label])\n",
    "        plt.plot(fpr[label],tpr[label],label='%s tagger, AUC = %.1f%%'%(label.replace('j_',''),auc1[label]*100.))\n",
    "    plt.plot([0, 1], [0, 1], lw=1, color='black', linestyle='--')\n",
    "    #plt.semilogy()\n",
    "    plt.xlabel(\"Background Efficiency\")\n",
    "    plt.ylabel(\"Signal Efficiency\")\n",
    "    plt.xlim([-0.05, 1.05])\n",
    "    plt.ylim(0.001,1.05)\n",
    "    plt.grid(True)\n",
    "    plt.legend(loc='lower right')\n",
    "    plt.figtext(0.25, 0.90,'LSTM ROC Curve',fontweight='bold', wrap=True, horizontalalignment='right', fontsize=14)\n",
    "    #plt.figtext(0.35, 0.90,'preliminary', style='italic', wrap=True, horizontalalignment='center', fontsize=14) \n",
    "    #plt.savefig('%sROC_%s.pdf'%(outputDir, outputSuffix))\n",
    "    return labels_pred"
   ]
  },
  {
   "cell_type": "code",
   "execution_count": 15,
   "metadata": {},
   "outputs": [
    {
     "data": {
      "image/png": "[encoded data removed]",
      "text/plain": [
       "<Figure size 720x576 with 1 Axes>"
      ]
     },
     "metadata": {
      "needs_background": "light"
     },
     "output_type": "display_data"
    }
   ],
   "source": [
    "y_pred = makeRoc(X_test, y_test, labels, model, outputSuffix='LSTM')"
   ]
  }
 ],
 "metadata": {
  "kernelspec": {
   "display_name": "Python 3",
   "language": "python",
   "name": "python3"
  },
  "language_info": {
   "codemirror_mode": {
    "name": "ipython",
    "version": 3
   },
   "file_extension": ".py",
   "mimetype": "text/x-python",
   "name": "python",
   "nbconvert_exporter": "python",
   "pygments_lexer": "ipython3",
   "version": "3.6.10"
  }
 },
 "nbformat": 4,
 "nbformat_minor": 4
}
